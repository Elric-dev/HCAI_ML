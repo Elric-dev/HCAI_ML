{
 "cells": [
  {
   "cell_type": "markdown",
   "metadata": {},
   "source": [
    "<h1>Exploiting Genetic Algorithms for Optimisation </h1>\n",
    "<br>\n",
    "\n",
    "<h2> The problem</h2>\n",
    "We need to make cylindrical containers with fixed volume 30 cubic cm so that, given the diameter you can figure out its height, minimizing the building material. \n",
    "This mathematically simple minimization problem could be solved with a genetic algorithm driven by the diameter (or radius) that must always be positive. The rest of the problem definition is up to you. "
   ]
  },
  {
   "cell_type": "code",
   "execution_count": 80,
   "metadata": {},
   "outputs": [],
   "source": [
    "# Install dependencies\n",
    "import math\n",
    "import numpy as np\n",
    "import time\n",
    "from tqdm import tqdm"
   ]
  },
  {
   "cell_type": "markdown",
   "metadata": {},
   "source": [
    "## Defining the Problem\n",
    "\n",
    "We need to optimise the building material of Cilinders of Volume 30\n",
    "$$ \n",
    "\\begin{equation}\n",
    "    Volume = \\pi r^2 h = 30\n",
    "\\end{equation}\n",
    "$$"
   ]
  },
  {
   "cell_type": "code",
   "execution_count": 81,
   "metadata": {},
   "outputs": [],
   "source": [
    "\n",
    "#1. Initial Hyperparameters\n",
    "np.random.seed(2023)\n",
    "\n",
    "#2. Define height given diameter\n",
    "def height (d):\n",
    "    r = d/2\n",
    "    pi = math.pi\n",
    "    #volume = pi * (r**2) * h\n",
    "    h = 30/(pi*(r**2))\n",
    "    return h\n",
    "\n",
    "#3. Define Fitness\n",
    "def fitness (r):\n",
    "    #r=d/2\n",
    "    return 1/(2 * (math.pi) * (r**2) + (60/r))\n",
    "    \n",
    "#3. Define selection methods\n",
    "def ranked_fitness (current_generation, max_radius, n):\n",
    "    ranked_solutions = []\n",
    "    for el in current_generation:\n",
    "        ranked_solutions.append((fitness(decode_r(el, max_radius, n)),decode_r(el, max_radius, n)))\n",
    "        #added a second element to keep track of solutions and not only fitness\n",
    "    ranked_solutions.sort()\n",
    "    ranked_solutions.reverse()\n",
    "    return ranked_solutions\n",
    "\n",
    "#4. Define selection methods\n",
    "def random_choice (generation, max_radius, n):\n",
    "    choice = np.random.randint(0,len(generation)-1)\n",
    "    return generation[choice]\n",
    "\n",
    "def ranked_choice (generation, max_radius, n):\n",
    "    #based on https://stackoverflow.com/questions/20290831/how-to-perform-rank-based-selection-in-a-genetic-algorithm\n",
    "    gen_fit = []\n",
    "    probabilities = []\n",
    "    amax = 1.1\n",
    "    amin = 2 - amax\n",
    "    m = len(generation)\n",
    "    \n",
    "    for i in range(len(generation)-1):\n",
    "        gen_fit.append((fitness(decode_r(generation[i], max_radius, n)),generation[i]))\n",
    "        p = (amax - (amax-amin)*(i/(m-1)))*(1/m)\n",
    "        probabilities.append(p)\n",
    "    #make sure probs sum to 1    \n",
    "    sum_probs = sum(probabilities)\n",
    "    probabilities[0] = probabilities[0] + (1 - sum_probs)\n",
    "    \n",
    "    choice= gen_fit[np.random.choice(np.arange(len(gen_fit)), p=probabilities)]\n",
    "    return choice[1]\n",
    "\n",
    "def wheel_selection (generation, max_radius, n):\n",
    "    #create list with radius and its fitness\n",
    "    gen_fit=[]\n",
    "    for el in generation:\n",
    "        gen_fit.append((fitness(decode_r(el, max_radius, n)),el))           \n",
    "    # computes the total the generation fitness\n",
    "    generation_fitness = sum([el[0] for el in gen_fit])\n",
    "    # computes the probability for each radius\n",
    "    probabilities = [el[0]/generation_fitness for el in gen_fit]\n",
    "    # selects one chromosome based on the computed probabilities\n",
    "    choice= gen_fit[np.random.choice(np.arange(len(gen_fit)), p=probabilities)]\n",
    "    return choice[1]\n",
    "\n",
    "\n",
    "#5. Define Reproduction methods    \n",
    "def crossover(parentA, parentB):\n",
    "    cross_point = np.random.randint(len(parentA))\n",
    "    child = parentA[:cross_point]+parentB[cross_point:]\n",
    "    return child\n",
    "\n",
    "\n",
    "#6. Reproduction Behaviour\n",
    "def reproduction (current_gen, max_radius, n, sel_function):\n",
    "    new_generation = []\n",
    "    for i in range(len(current_gen)):\n",
    "        parentA = sel_function(current_gen, max_radius, n)\n",
    "        parentB = sel_function(current_gen, max_radius, n)\n",
    "        child = crossover(parentA, parentB)\n",
    "        if '1' in child:\n",
    "            new_generation.append(child)\n",
    "        else:\n",
    "            new_generation.append(parentA)\n",
    "    return new_generation\n",
    "\n",
    "        \n",
    "#Function to decode binary radius\n",
    "def decode_r(r, max_radius, n):\n",
    "    rad=list(map(int, str(r)))\n",
    "    dec_r=(max_radius/(2**n-1))*sum(rad[i]*2**i for i in range(len(rad)))\n",
    "    return dec_r\n",
    "\n",
    "#Generation zero binary\n",
    "def first_gen(pop_size,n):\n",
    "    gen_zero=[]\n",
    "    for i in range(pop_size):\n",
    "        x = []\n",
    "        while 1 not in x:\n",
    "            x = [np.random.choice([0, 1]) for _ in range(n)]   \n",
    "        el = ''.join(map(str, x))\n",
    "        gen_zero.append(el)\n",
    "\n",
    "    return gen_zero"
   ]
  },
  {
   "cell_type": "code",
   "execution_count": 82,
   "metadata": {},
   "outputs": [],
   "source": [
    "#5. New generation iterations\n",
    "def digi_evolve(pop_size, max_generations, max_radius, n, sel_function):\n",
    "    #create temporary vars\n",
    "    fittest = []\n",
    "    curr_generation = first_gen(pop_size, n) #initialising first gen\n",
    "    #GA begins\n",
    "    print('Evolutionary period begins')\n",
    "    for i in tqdm(range(max_generations)):\n",
    "        #if i % 50 == 0:\n",
    "        #    print(f'Generation {i} is going into the world')\n",
    "        #    print(f'Population size {len(curr_generation)}')\n",
    "        ranked_fit = ranked_fitness(curr_generation, max_radius, n)\n",
    "        fittest.append(ranked_fit[0])\n",
    "        #reproduction\n",
    "        curr_generation = reproduction(curr_generation, max_radius, n, sel_function)\n",
    "    print('Evolutionary period ended')\n",
    "    return fittest    \n"
   ]
  },
  {
   "cell_type": "code",
   "execution_count": 83,
   "metadata": {},
   "outputs": [
    {
     "name": "stdout",
     "output_type": "stream",
     "text": [
      "Selection method: Random Selection\n",
      "Evolutionary period begins\n"
     ]
    },
    {
     "name": "stderr",
     "output_type": "stream",
     "text": [
      "100%|██████████| 1000/1000 [00:01<00:00, 626.99it/s]\n"
     ]
    },
    {
     "name": "stdout",
     "output_type": "stream",
     "text": [
      "Evolutionary period ended\n",
      "The best radius is: 1.6470588235294117\n",
      "Time in seconds to complete iteration Random Selection 1.60542893409729 \n",
      "\n",
      "Selection method: Ranked Selection\n",
      "Evolutionary period begins\n"
     ]
    },
    {
     "name": "stderr",
     "output_type": "stream",
     "text": [
      "100%|██████████| 1000/1000 [01:45<00:00,  9.47it/s]\n"
     ]
    },
    {
     "name": "stdout",
     "output_type": "stream",
     "text": [
      "Evolutionary period ended\n",
      "The best radius is: 1.6470588235294117\n",
      "Time in seconds to complete iteration Ranked Selection 105.56290411949158 \n",
      "\n",
      "Selection method: Wheel Selection\n",
      "Evolutionary period begins\n"
     ]
    },
    {
     "name": "stderr",
     "output_type": "stream",
     "text": [
      "100%|██████████| 1000/1000 [01:43<00:00,  9.70it/s]"
     ]
    },
    {
     "name": "stdout",
     "output_type": "stream",
     "text": [
      "Evolutionary period ended\n",
      "The best radius is: 1.6470588235294117\n",
      "Time in seconds to complete iteration Wheel Selection 103.095134973526 \n",
      "\n",
      "Time in seconds to complete entire cycle: 210.26392078399658 \n",
      "\n",
      "The best radius is: [(0.01870081198259601, 1.6470588235294117), 'Wheel Selection']\n"
     ]
    },
    {
     "name": "stderr",
     "output_type": "stream",
     "text": [
      "\n"
     ]
    }
   ],
   "source": [
    "#main\n",
    "pop_size = 100\n",
    "max_generations = 1000\n",
    "n=8 #step:0.1176 if we work in range [0,30]\n",
    "max_radius=30\n",
    "selection_methods = [[random_choice, 'Random Selection'], [ranked_choice, 'Ranked Selection'],[wheel_selection, 'Wheel Selection']]\n",
    "best_overall = []\n",
    "\n",
    "start_total = time.time()\n",
    "start_local = time.time()\n",
    "\n",
    "for selectionMethod in selection_methods:\n",
    "    print(f'Selection method: {selectionMethod[1]}')\n",
    "    best_of_each_gen = digi_evolve(pop_size, max_generations, max_radius, n, selectionMethod[0])\n",
    "    print('The best radius is:', max(best_of_each_gen)[1])\n",
    "    best_overall.append([max(best_of_each_gen), selectionMethod[1]])\n",
    "    end_local = time.time()\n",
    "    print('Time in seconds to complete iteration of', selectionMethod[1] ,end_local - start_local, '\\n')\n",
    "    start_local = time.time()\n",
    "\n",
    "\n",
    "end_total = time.time()\n",
    "print('Time in seconds to complete entire cycle:',end_total - start_total, '\\n')\n",
    "\n",
    "print('The best radius is:', max(best_overall))\n",
    "\n",
    "#do we want to add mutations too?\n"
   ]
  },
  {
   "cell_type": "code",
   "execution_count": 84,
   "metadata": {},
   "outputs": [
    {
     "name": "stdout",
     "output_type": "stream",
     "text": [
      "Evolutionary period begins\n"
     ]
    },
    {
     "name": "stderr",
     "output_type": "stream",
     "text": [
      "100%|██████████| 1000/1000 [00:01<00:00, 631.70it/s]"
     ]
    },
    {
     "name": "stdout",
     "output_type": "stream",
     "text": [
      "Evolutionary period ended\n",
      "time in seconds to complete: 1.5932748317718506\n",
      "The best radius is: (0.01870081198259601, 1.6470588235294117)\n",
      "The best radius with random choice is: (0.01870081198259601, 1.6470588235294117)\n"
     ]
    },
    {
     "name": "stderr",
     "output_type": "stream",
     "text": [
      "\n"
     ]
    }
   ],
   "source": [
    "#Compare it with random choice\n",
    "\n",
    "start = time.time()\n",
    "\n",
    "rand_best_of_each_gen = digi_evolve(pop_size, max_generations, max_radius, n, random_choice)\n",
    "\n",
    "end = time.time()\n",
    "print('time in seconds to complete:',end - start)\n",
    "print('The best radius is:', max(best_of_each_gen))\n",
    "print('The best radius with random choice is:', max(rand_best_of_each_gen))\n",
    "#The best radius is: (0.02254695027135184, 0.11764705882352941)\n",
    "#The best radius with random choice is: (0.02254695027135184, 0.11764705882352941)\n",
    "#with pop_size=100 we obtain the same solution with both!!!!\n",
    "\n",
    "#TESTS:\n",
    "#only decreasing the pop_size you can actally see a difference\n",
    "#if you only modify the max_generations you get the same result with both methods\n",
    "#wheel selection might not be the best choice in this case because all the radiuses have pretty similar fitness values\n",
    "\n"
   ]
  },
  {
   "cell_type": "code",
   "execution_count": 85,
   "metadata": {},
   "outputs": [
    {
     "name": "stdout",
     "output_type": "stream",
     "text": [
      "Evolutionary period begins\n"
     ]
    },
    {
     "name": "stderr",
     "output_type": "stream",
     "text": [
      "100%|██████████| 1000/1000 [00:01<00:00, 744.99it/s]\n"
     ]
    },
    {
     "name": "stdout",
     "output_type": "stream",
     "text": [
      "Evolutionary period ended\n",
      "Evolutionary period begins\n"
     ]
    },
    {
     "name": "stderr",
     "output_type": "stream",
     "text": [
      "100%|██████████| 1000/1000 [00:01<00:00, 698.40it/s]\n"
     ]
    },
    {
     "name": "stdout",
     "output_type": "stream",
     "text": [
      "Evolutionary period ended\n",
      "Evolutionary period begins\n"
     ]
    },
    {
     "name": "stderr",
     "output_type": "stream",
     "text": [
      "100%|██████████| 1000/1000 [00:01<00:00, 642.81it/s]\n"
     ]
    },
    {
     "name": "stdout",
     "output_type": "stream",
     "text": [
      "Evolutionary period ended\n",
      "Evolutionary period begins\n"
     ]
    },
    {
     "name": "stderr",
     "output_type": "stream",
     "text": [
      "100%|██████████| 1000/1000 [00:01<00:00, 610.47it/s]\n"
     ]
    },
    {
     "name": "stdout",
     "output_type": "stream",
     "text": [
      "Evolutionary period ended\n",
      "Evolutionary period begins\n"
     ]
    },
    {
     "name": "stderr",
     "output_type": "stream",
     "text": [
      "100%|██████████| 1000/1000 [00:01<00:00, 574.26it/s]\n"
     ]
    },
    {
     "name": "stdout",
     "output_type": "stream",
     "text": [
      "Evolutionary period ended\n",
      "Evolutionary period begins\n"
     ]
    },
    {
     "name": "stderr",
     "output_type": "stream",
     "text": [
      "100%|██████████| 1000/1000 [00:01<00:00, 542.67it/s]\n"
     ]
    },
    {
     "name": "stdout",
     "output_type": "stream",
     "text": [
      "Evolutionary period ended\n",
      "Evolutionary period begins\n"
     ]
    },
    {
     "name": "stderr",
     "output_type": "stream",
     "text": [
      "100%|██████████| 1000/1000 [00:01<00:00, 513.61it/s]\n"
     ]
    },
    {
     "name": "stdout",
     "output_type": "stream",
     "text": [
      "Evolutionary period ended\n",
      "Evolutionary period begins\n"
     ]
    },
    {
     "name": "stderr",
     "output_type": "stream",
     "text": [
      "100%|██████████| 1000/1000 [00:02<00:00, 483.84it/s]"
     ]
    },
    {
     "name": "stdout",
     "output_type": "stream",
     "text": [
      "Evolutionary period ended\n",
      "[(0.018703743102528807, 1.6535433070866141), (0.0176960355737777, 2.1176470588235294), (0.018479723686534884, 1.8786692759295498), (0.018414002712532847, 1.906158357771261), (0.018378496840287913, 1.9198827552515876), (0.01843564649449667, 1.8974358974358974), (0.018670631554614573, 1.6078622878769382), (0.013925164947135365, 0.899102728438015)]\n"
     ]
    },
    {
     "name": "stderr",
     "output_type": "stream",
     "text": [
      "\n"
     ]
    }
   ],
   "source": [
    "#Testing with different n\n",
    "bits=range(7,15,1)\n",
    "pop_size=10\n",
    "max_generation=100\n",
    "max_radius=30\n",
    "results=[]\n",
    "for k in bits:\n",
    "    best_of_each_gen = digi_evolve(pop_size, max_generations, max_radius, k, wheel_selection)\n",
    "    results.append(max(best_of_each_gen))\n",
    "print(results)"
   ]
  }
 ],
 "metadata": {
  "kernelspec": {
   "display_name": "ml",
   "language": "python",
   "name": "python3"
  },
  "language_info": {
   "codemirror_mode": {
    "name": "ipython",
    "version": 3
   },
   "file_extension": ".py",
   "mimetype": "text/x-python",
   "name": "python",
   "nbconvert_exporter": "python",
   "pygments_lexer": "ipython3",
   "version": "3.9.2"
  }
 },
 "nbformat": 4,
 "nbformat_minor": 2
}
