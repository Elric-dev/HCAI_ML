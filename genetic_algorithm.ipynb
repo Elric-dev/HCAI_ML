{
 "cells": [
  {
   "cell_type": "markdown",
   "metadata": {},
   "source": [
    "<h1>Exploiting Genetic Algorithms for Optimisation </h1>\n",
    "<br>\n",
    "\n",
    "<h2> The problem</h2>\n",
    "We need to make cylindrical containers with fixed volume 30 cubic cm so that, given the diameter you can figure out its height, minimizing the building material. \n",
    "This mathematically simple minimization problem could be solved with a genetic algorithm driven by the diameter (or radius) that must always be positive. The rest of the problem definition is up to you. "
   ]
  },
  {
   "cell_type": "code",
   "execution_count": 29,
   "metadata": {},
   "outputs": [],
   "source": [
    "#!pip install -r requirements.txt"
   ]
  },
  {
   "cell_type": "code",
   "execution_count": 30,
   "metadata": {},
   "outputs": [],
   "source": [
    "# Install dependencies\n",
    "import math\n",
    "import numpy as np\n",
    "import time\n",
    "from tqdm.notebook import tqdm\n",
    "import pickle\n",
    "import random"
   ]
  },
  {
   "cell_type": "code",
   "execution_count": 31,
   "metadata": {},
   "outputs": [
    {
     "data": {
      "text/html": [
       "<style>\n",
       ".cell-output-ipywidget-background {\n",
       "    background-color: transparent !important;\n",
       "}\n",
       ":root {\n",
       "    --jp-widgets-color: var(--vscode-editor-foreground);\n",
       "    --jp-widgets-font-size: var(--vscode-editor-font-size);\n",
       "}  \n",
       "</style>\n"
      ],
      "text/plain": [
       "<IPython.core.display.HTML object>"
      ]
     },
     "metadata": {},
     "output_type": "display_data"
    }
   ],
   "source": [
    "%%html\n",
    "<style>\n",
    ".cell-output-ipywidget-background {\n",
    "    background-color: transparent !important;\n",
    "}\n",
    ":root {\n",
    "    --jp-widgets-color: var(--vscode-editor-foreground);\n",
    "    --jp-widgets-font-size: var(--vscode-editor-font-size);\n",
    "}  \n",
    "</style>"
   ]
  },
  {
   "cell_type": "markdown",
   "metadata": {},
   "source": [
    "## Defining the Problem\n",
    "\n",
    "We need to optimise the building material of Cilinders of Volume = 30 cm<sup>3</sup>\n",
    "\n",
    "$$\n",
    "\\begin{array}{rcl}\n",
    "    Volume & = & \\pi r^2 h\\\\\n",
    "    h & = & \\frac{30}{\\pi r^2}\\\\\n",
    "    r & = & x\n",
    "\\end{array}\n",
    "\\newline\n",
    "$$\n",
    "\n",
    "In order to minimise the used material, we need to minimise the surface area. \n",
    "Thus we get the following equation, for $r > 0$:\n",
    "$$\n",
    "\\newline\n",
    "\\begin{array}{rcl}\n",
    "    Area & = & 2\\pi r^2 + 2\\pi h\\\\\n",
    "    & = & 2 \\pi r^2 + \\frac{60}{r}\\\\\n",
    "\\end{array}\n",
    "$$\n",
    "\n",
    "Then, our fitness equation is:\n",
    "$$\n",
    "\\begin{array}{rcl}\n",
    "fitness & = & \\dfrac{1}{Area}\\\\\n",
    "\\\\\n",
    "fitness & = & \\dfrac{1}{2 \\pi r^2 + \\frac{60}{r}}\n",
    "\n",
    "\\end{array}\n",
    "$$\n",
    "\n"
   ]
  },
  {
   "cell_type": "code",
   "execution_count": 32,
   "metadata": {},
   "outputs": [],
   "source": [
    "\n",
    "#1. Initial Hyperparameters\n",
    "np.random.seed(2023)\n",
    "\n",
    "#2. Define height given diameter\n",
    "def height (d):\n",
    "    ''' \n",
    "    Calculates ideal height given a diameter\n",
    "    Based on the cylinder volume equation: pi * (r**2) * h\n",
    "    Volume set to 30 as per instructions\n",
    "\n",
    "    Inputs:\n",
    "        d   :   Diameter -> type =  (int, float) \n",
    "\n",
    "    Outputs: \n",
    "        h   :   Height -> type = (float) \n",
    "    '''\n",
    "    r = d/2\n",
    "    pi = math.pi\n",
    "    #volume = pi * (r**2) * h\n",
    "    h = 30/(pi*(r**2))\n",
    "    return h\n",
    "\n",
    "#3. Define Fitness\n",
    "def fitness (r):\n",
    "    ''' \n",
    "    Calculates fitness of the proposed radius\n",
    "    Based on the fitness equation: 1/(2 * (pi) * (r**2) + (60/r))\n",
    "    Derived from the optimisation problem\n",
    "\n",
    "    Inputs:\n",
    "        r       :   Radius -> type = (int, float)\n",
    "\n",
    "    Outputs\n",
    "        fitness :   Fitness -> type = (float)\n",
    "    '''\n",
    "    #r=d/2\n",
    "    area = (2 * (math.pi) * (r**2) + (60/r))\n",
    "    fitness = 1/area\n",
    "    return fitness\n",
    "\n",
    "\n",
    "#4. Binary encoding\n",
    "#4.1 Binary-encoded first generation\n",
    "def first_gen(pop_size,n):\n",
    "    ''' \n",
    "    Creates a binary-encoded population of radiuses\n",
    "\n",
    "    Inputs:\n",
    "        pop_size    :   Population size (number of individuals in generation) -> type = (int)\n",
    "        n           :   Number of bits for binary enconding -> type = (int)\n",
    "\n",
    "    Outputs:\n",
    "        gen_zero    :   List of n-bits binaty-encoded radiuses of length equal to pop_size \n",
    "                        -> type = (list), len(gen_zero) = pop_size\n",
    "    '''\n",
    "    gen_zero=[]\n",
    "    for i in range(pop_size):\n",
    "        x = []\n",
    "        while 1 not in x:\n",
    "            x = [np.random.choice([0, 1]) for _ in range(n)]   \n",
    "        el = ''.join(map(str, x))\n",
    "        gen_zero.append(el)\n",
    "\n",
    "    return gen_zero\n",
    "\n",
    "#4.2 Function to decode binary radius\n",
    "def decode_r(r, max_radius, n):\n",
    "    ''' \n",
    "    Converts a binary encoded radius into a number\n",
    "\n",
    "    Inputs:\n",
    "        r           :   Binary-encoded radius -> type = (str)\n",
    "        max_radius  :   upper-bound for the radius -> type = (int)\n",
    "        n           :   number of bits for encoding -> type = (int)\n",
    "    \n",
    "    Outputs:\n",
    "        dec_r       :   decoded radius -> type = (float)\n",
    "    '''\n",
    "    rad=list(map(int, str(r)))\n",
    "    dec_r=(max_radius/(2**n-1))*sum(rad[i]*2**i for i in range(len(rad)))\n",
    "    return dec_r\n",
    "    \n",
    "#5. Define selection methods\n",
    "#5.1.1 Calculate fitness for generation and sort individuals by fitness\n",
    "def ranked_fitness (current_generation, max_radius, n):\n",
    "    ''' \n",
    "    Calculates fitness for all individuals in a generation and returns it in a sorted list\n",
    "\n",
    "    Inputs:\n",
    "        current_generation  :   list-like of length n -> type = (list)\n",
    "        max_radius          :   upper-bound for the radius -> type = (int)\n",
    "        n                   :   number of bits for encoding -> type = (int)\n",
    "\n",
    "    Outputs:\n",
    "        ranked_solutions    :   list of lists [Matrix]-> type = (list), dimensions = (len(current_generation) x 3)\n",
    "                                each element is of the shape : (fitness, decoded_radius, binary-encoded_radius)\n",
    "    '''\n",
    "    ranked_solutions = []\n",
    "    for el in current_generation:\n",
    "        ranked_solutions.append([fitness(decode_r(el, max_radius, n)),decode_r(el, max_radius, n), el])\n",
    "        #added a second element to keep track of solutions and not only fitness\n",
    "    ranked_solutions.sort(reverse = True)\n",
    "    return ranked_solutions\n",
    "\n",
    "#5.1.2 Ranked probabilities for Ranked Selection\n",
    "def ranked_probabilities(pop_size):\n",
    "    ''' \n",
    "    Create a list of probabilities for each rank in the corresponding index. \n",
    "\n",
    "    Inputs:\n",
    "        pop_size        :   Size of generation -> type : (int)\n",
    "\n",
    "    Outputs:\n",
    "        probabilities   :   List of probabilitues for each rank -> type : (list)\n",
    "    '''\n",
    "    #based on https://stackoverflow.com/questions/20290831/how-to-perform-rank-based-selection-in-a-genetic-algorithm\n",
    "    probabilities = []\n",
    "    amax = 1.2\n",
    "    amin = 2 - amax\n",
    "    m = pop_size\n",
    "    for i in range(pop_size):\n",
    "        p = (amax - (amax-amin)*(i/(m-1)))*(1/m)\n",
    "        probabilities.append(p)\n",
    "    sum_probs = sum(probabilities)\n",
    "    probabilities[0] = probabilities[0] + (1 - sum_probs)\n",
    "    return probabilities\n",
    "\n",
    "#5.1.3 Fitness-based probabilities\n",
    "def wheel_probabilities(generation):\n",
    "    ''' \n",
    "    Calculates individual probability based on fitness for wheel selection\n",
    "\n",
    "    Inputs:\n",
    "        generation                      :   sorted generation fitness -> type : (list), dimensions : len(generation)\n",
    "\n",
    "    Outputs:\n",
    "        generation_wheel_probabilities  :   probabilities list -> type : (list), dimensions : len(generation)\n",
    "    '''\n",
    "\n",
    "    # computes the total the generation fitness\n",
    "    generation_fitness = sum([el for el in generation])\n",
    "    # computes the probability for each radius\n",
    "    generation_wheel_probabilities = [el/generation_fitness for el in generation]\n",
    "    return generation_wheel_probabilities\n",
    "\n",
    "#5.2 Random choice\n",
    "def random_choice (generation, probabilities, gen_fitness, gen_wheel_probs):\n",
    "    ''' \n",
    "    Chooses a parent randomly from the 30-percentile or better candidates.\n",
    "\n",
    "    Inputs:\n",
    "        generation      :   sorted list (by fitness) of binary-encoded radiuses -> type = (list)\n",
    "        probabilities   :   sorted list of probabilities by rank (used in other selection methods) -> type = (list)\n",
    "        gen_fitness     :   sorted list of fitness -> type = (list)\n",
    "        gen_wheel_probs :   probabilities list by fitness (sorted) for wheel selection -> type : (list)\n",
    "    \n",
    "    Outputs:\n",
    "        choice          :   Binary encoded radius (1 parent for reproduction method) -> type = (str)\n",
    "    '''\n",
    "    choice = generation[np.random.randint(0, (len(generation)-1)*0.8)]\n",
    "    return choice\n",
    "\n",
    "#5.3 Ranked Choice\n",
    "def ranked_choice (generation, probabilities, gen_fitness, gen_wheel_probs):\n",
    "    ''' \n",
    "    Chooses a parent based on probabilities assigned to rank.\n",
    "\n",
    "    Inputs:\n",
    "        generation      :   sorted list (by fitness) of binary-encoded radiuses -> type = (list)\n",
    "        probabilities   :   sorted list of probabilities by rank (used in other selection methods) -> type = (list)\n",
    "        gen_fitness     :   sorted list of fitness -> type = (list)\n",
    "        gen_wheel_probs :   probabilities list by fitness (sorted) for wheel selection -> type : (list)\n",
    "    \n",
    "    Outputs:\n",
    "        choice          :   Binary encoded radius (1 parent for reproduction method) -> type = (str)\n",
    "    '''\n",
    "    gen_fit = generation[:50]\n",
    "    adjusted_probabilities = probabilities[:50]\n",
    "    sum_probs = sum(adjusted_probabilities)\n",
    "    adjusted_probabilities[0] = adjusted_probabilities[0] + (1-sum_probs)\n",
    "    #sorting\n",
    "    choice= gen_fit[np.random.choice(np.arange(len(gen_fit)), p= adjusted_probabilities)]\n",
    "    return choice\n",
    "\n",
    "#5.4 Wheel Choice\n",
    "def wheel_selection (generation, probabilities, gen_fitness, gen_wheel_probs):\n",
    "    ''' \n",
    "    Chooses a parent based on probabilities assigned to fitness.\n",
    "\n",
    "    Inputs:\n",
    "        generation      :   sorted list (by fitness) of binary-encoded radiuses -> type = (list)\n",
    "        probabilities   :   sorted list of probabilities by rank (used in other selection methods) -> type = (list)\n",
    "        gen_fitness     :   sorted list of fitness -> type = (list)\n",
    "        gen_wheel_probs :   probabilities list by fitness (sorted) for wheel selection -> type : (list)\n",
    "    \n",
    "    Outputs:\n",
    "        choice          :   Binary encoded radius (1 parent for reproduction method) -> type = (str)\n",
    "    '''      \n",
    "    # selects one parent based on the computed probabilities\n",
    "    choice= generation[np.random.choice(np.arange(len(generation)), p=gen_wheel_probs)]\n",
    "    return choice\n",
    "\n",
    "\n",
    "#6. Define Reproduction methods\n",
    "#6.1 Crossover Reproduction    \n",
    "def crossover(parentA, parentB):\n",
    "    ''' \n",
    "    Reproduction method to mix the parents' chromosomes with cut-off single random point\n",
    "\n",
    "    Inputs:\n",
    "        parentA :   Binary-encoded radius -> type : (str)\n",
    "        parentB :   Binary-encoded radius -> type : (str)\n",
    "\n",
    "    Outputs:\n",
    "        child   :   Binary-encoded radius -> type : (str)\n",
    "    '''\n",
    "    cross_point = np.random.randint(len(parentA))\n",
    "    child = parentA[:cross_point]+parentB[cross_point:]\n",
    "    return child\n",
    "\n",
    "#6.2 Mutations\n",
    "def mutation(individual, probability):\n",
    "    ''' \n",
    "    Mutation method to invert the child's chromosomes with ##cut-off single random point###??\n",
    "\n",
    "    Inputs:\n",
    "        individual  :   Binary-encoded radius -> type = (str)\n",
    "        probability :   rate of mutation for an individual -> type = (float)\n",
    "\n",
    "    Outputs:\n",
    "        individual  :   (Flipped) Binary-encoded radius -> type : (str)\n",
    "    '''\n",
    "    flipped = lambda x: '1' if x == '0' else '0'\n",
    "    chars = (flipped(sym) if random.random() < probability else sym for sym in individual)\n",
    "    return ''.join(chars)\n",
    "    \n",
    "\n",
    "#6.3 Reproduction Behaviour\n",
    "def reproduction (current_gen, sel_function, ranked_probabilities, gen_fitness, mutation_probability, gen_wheel_probs):\n",
    "    ''' \n",
    "    Function to streamline reproduction with several different hiper-parameters\n",
    "\n",
    "    Inputs:\n",
    "        current_gen             :   List of binary-encoded radiuses -> type = (str)\n",
    "        sel_fuction             :   Python Function fictating the selection of parents -> type = (Function)\n",
    "        probabilities           :   sorted list of probabilities by rank (used in other selection methods) -> type = (list)\n",
    "        gen_fitness             :   sorted list of fitness -> type = (list)\n",
    "        mutation_probability    :   rate of mutation for an individual -> type = (float)\n",
    "        gen_wheel_probs :   probabilities list by fitness (sorted) for wheel selection -> type : (list)\n",
    "\n",
    "    Outputs:\n",
    "        new_generation          :   List of (unsorted) binary-encoded children radiuses -> type = (list)\n",
    "                                    length = len(current_gen)\n",
    "    '''\n",
    "    new_generation = []\n",
    "    for i in range(len(current_gen)):\n",
    "        parentA = sel_function(current_gen, ranked_probabilities, gen_fitness, gen_wheel_probs)\n",
    "        parentB = sel_function(current_gen, ranked_probabilities, gen_fitness, gen_wheel_probs)\n",
    "        child = crossover(parentA, parentB)\n",
    "        child = mutation(child, mutation_probability)\n",
    "        if '1' in child:\n",
    "            new_generation.append(child)\n",
    "        else:\n",
    "            new_generation.append(parentA)\n",
    "    return new_generation\n",
    "\n",
    "    "
   ]
  },
  {
   "cell_type": "code",
   "execution_count": 33,
   "metadata": {},
   "outputs": [],
   "source": [
    "#7 New generation iterations\n",
    "def digi_evolve(pop_size, max_generations, max_radius, n, sel_function_tuple, ranked_probabilities, all_gens, mutation_probability):\n",
    "    ''' \n",
    "    Genetic Algorithm implementation towards the goal to optimise for. \n",
    "\n",
    "    Inputs:\n",
    "        pop_size                :   Population size (number of individuals in generation) -> type = (int)\n",
    "        max_generations         :   Number of iterations (generations) to run -> type = (int)\n",
    "        max_radius              :   upper-bound for the radius -> type = (int)\n",
    "        n                       :   number of bits for encoding -> type = (int)\n",
    "        sel_function_tuple      :   tuple-like data structure with function to be called and its name -> type = (tuple -> (Function, str))\n",
    "        ranked_probabilities    :   sorted list of probabilities by rank (used in other selection methods) -> type = (list)\n",
    "        all_gens                :   Dictionary to populate with individual's data for future analysis -> type = (dict)\n",
    "        mutation_probability    :   rate of mutation for an individual -> type = (float)\n",
    "    \n",
    "    Outputs:\n",
    "        fittest                 :   list of best fitting individual's by selection method -> type = (list)\n",
    "        all_gens                :   Populated Dictionary from all data generated with evolutioniary algorithm -> type = (dict)\n",
    "\n",
    "    '''\n",
    "    #create temporary vars\n",
    "    sel_function = sel_function_tuple[0]\n",
    "    sel_function_name = sel_function_tuple[1]\n",
    "    fittest = []\n",
    "    curr_generation = first_gen(pop_size, n) #initialising first gen\n",
    "\n",
    "    #GA begins\n",
    "    #print('Evolutionary period begins')\n",
    "    for i in range(max_generations):\n",
    "        ranked_fit = ranked_fitness(curr_generation, max_radius, n)\n",
    "        fittest.append([ranked_fit[0], i])\n",
    "        for element in ranked_fit:\n",
    "            #print('###################### new var', element)\n",
    "            all_gens['radius'].append(element[1])\n",
    "            all_gens['fitness'].append(element[0])\n",
    "            all_gens['generation'].append(i)\n",
    "            all_gens['selection_type'].append(sel_function_name)\n",
    "            all_gens['pop_size'].append(pop_size)\n",
    "            all_gens['mutation'].append(mutation_probability)\n",
    "        #reproduction\n",
    "        curr_generation = (np.array(ranked_fit).transpose())\n",
    "        gen_fitness = np.array(curr_generation[0], dtype= float)\n",
    "        gen_wheel_probs = wheel_probabilities(gen_fitness)\n",
    "        #gen_decoded = np.array(curr_generation[1], dtype= float)\n",
    "        curr_generation = reproduction(curr_generation[2], sel_function, \\\n",
    "                                       ranked_probabilities,gen_fitness, mutation_probability,gen_wheel_probs)\n",
    "        \n",
    "    #print('Evolutionary period ended')\n",
    "    return fittest, all_gens\n"
   ]
  },
  {
   "cell_type": "markdown",
   "metadata": {},
   "source": [
    "## Solution\n",
    "\n",
    "Solving by hand, we arrive at the following results:\n",
    "\n",
    "$$\n",
    "\\begin{array}{rcl}\n",
    "fitness & = & \\dfrac{1}{2 \\pi r^2 + \\frac{60}{r}}\\\\\n",
    "\\dfrac{d(fitness)}{dr} & = & 4 \\pi r - \\frac{60}{r^2} > 0\\\\\n",
    "4 \\pi r & > & \\dfrac{60}{r^2}\\\\\\\\\n",
    "4 \\pi & > & \\dfrac{60}{r^3}\\\\\\\\\n",
    "\\dfrac{4 \\pi}{60} & > & \\dfrac{1}{r^3}\\\\\n",
    "\\end{array}\n",
    "$$\n",
    "\n",
    "where we get:\n",
    "\n",
    "$$\n",
    "\\begin{array}{rcl}\n",
    " r^3 & > & \\dfrac{60}{4 \\pi} = \\dfrac{15}{\\pi}\n",
    "\\end{array}\n",
    "$$\n",
    "\n",
    "finally:\n",
    "\n",
    "$$\n",
    "\\begin{array}{rcl}\n",
    "r_{att} & = & \\sqrt[3]{\\dfrac{15}{\\pi}} = 1.6841\n",
    "\\end{array}\n",
    "$$"
   ]
  },
  {
   "cell_type": "markdown",
   "metadata": {},
   "source": [
    "\n",
    "## Choosing the Number of Bits for Binary Representation\n",
    "\n",
    "### Calculating Minimum Step:\n",
    "\n",
    "\n",
    "$$\n",
    "Interval=[0,r_{max}]\n",
    "$$\n",
    "$$\n",
    "\\begin{array}{rcl}\n",
    "Step & = & \\dfrac{r_{max}}{2^n - 1}\\\\\n",
    "\n",
    "\\end{array}\n",
    "$$\n"
   ]
  },
  {
   "cell_type": "code",
   "execution_count": 271,
   "metadata": {},
   "outputs": [
    {
     "name": "stdout",
     "output_type": "stream",
     "text": [
      "Considering Interval=[0, 30]:\n",
      "\n",
      "Step with 6 bits: 0.47619047619047616\n",
      "Step with 7 bits: 0.23622047244094488\n",
      "Step with 8 bits: 0.11764705882352941\n",
      "Step with 9 bits: 0.05870841487279843\n",
      "Step with 10 bits: 0.02932551319648094\n",
      "Step with 11 bits: 0.014655593551538837\n",
      "Step with 12 bits: 0.007326007326007326\n",
      "Step with 13 bits: 0.0036625564644121597\n",
      "Step with 14 bits: 0.0018311664530305805\n"
     ]
    }
   ],
   "source": [
    "#Calculating Minimum Step for each number of bits\n",
    "bits=range(6,15,1)\n",
    "max_radius=30\n",
    "\n",
    "print(f\"Considering Interval=[0, {max_radius}]:\\n\")\n",
    "i=0\n",
    "for k in bits:\n",
    "    x=max_radius/(2**k-1)\n",
    "    print(f\"Step with {k} bits: {x}\")"
   ]
  },
  {
   "cell_type": "markdown",
   "metadata": {},
   "source": [
    "We chose an 8-bit representation since it provided a minimum increment of 0.1176, which we found suitable for our purpose."
   ]
  },
  {
   "cell_type": "markdown",
   "metadata": {},
   "source": [
    "\n",
    "### Calculating Relative Error:\n",
    "$$\n",
    "\\begin{array}{rcl}\n",
    "\\epsilon & = & \\dfrac{r_{estimated} - solution}{solution}\\\\\n",
    "\n",
    "\\end{array}\n",
    "$$\n",
    "Using the known exact result, we were able to examine the Relative Error of the predictions for different bit counts.\n",
    "We observe that around 8 bits, it is approximately 2%. We consider this percentage acceptable for our analysis."
   ]
  },
  {
   "cell_type": "code",
   "execution_count": 272,
   "metadata": {},
   "outputs": [
    {
     "name": "stdout",
     "output_type": "stream",
     "text": [
      "[[[0.01841751645958127, 1.9047619047619047, '001000'], 49], [[0.018703743102528807, 1.6535433070866141, '1110000'], 49], [[0.01870081198259601, 1.6470588235294117, '01110000'], 49], [[0.018707613264300007, 1.7025440313111546, '101110000'], 47], [[0.018708883203279552, 1.6715542521994136, '1001110000'], 49], [[0.01870987733659405, 1.6853932584269662, '11001110000'], 38], [[0.018709884376721372, 1.684981684981685, '011001110000'], 46], [[0.01870988705875999, 1.6847759736295935, '0011001110000'], 49], [[0.018709888190392165, 1.684673136788134, '00011001110000'], 18]]\n"
     ]
    },
    {
     "data": {
      "image/png": "[encoded data removed]",
      "text/plain": [
       "<Figure size 2000x600 with 2 Axes>"
      ]
     },
     "metadata": {},
     "output_type": "display_data"
    }
   ],
   "source": [
    "#Relative Error visualization\n",
    "import matplotlib.pyplot as plt\n",
    "\n",
    "pop_size=60\n",
    "generations=50\n",
    "solution=1.6841\n",
    "\n",
    "results=[]\n",
    "result_radius=[]\n",
    "rel_error=[]\n",
    "\n",
    "i=0\n",
    "for k in bits:\n",
    "    best_of_each_gen = digi_evolve(pop_size, generations, max_radius, k, selectionMethod, ranked_probability, all_gens_dict, mutation_probability )\n",
    "    results.append(max(best_of_each_gen[0]))\n",
    "    result_radius.append(results[i][0][1])\n",
    "    rel_error.append((abs(results[i][0][1]-solution))/solution)\n",
    "    i+=1\n",
    "\n",
    "print(results)\n",
    "#Plotting results\n",
    "plt.rcParams[\"figure.figsize\"] = (20, 6)\n",
    "\n",
    "plt.subplot(2,1,1)\n",
    "\n",
    "plt.title(\"Effect of Bit Number on Estimated Radius\")\n",
    "plt.xlabel('No. of Bits',fontsize=10)\n",
    "plt.ylabel('Radius',fontsize=10)\n",
    "plt.plot(bits,result_radius)   \n",
    "plt.axhline(y=1.6841, color='r', linestyle='--', label='y = 1.68')\n",
    "plt.grid()\n",
    "\n",
    "plt.subplot(2,1,2)\n",
    "\n",
    "plt.title(\"Effect of Bit Number on Relative Error\")\n",
    "plt.xlabel('No. of Bits',fontsize=10)\n",
    "plt.ylabel('Relative Error',fontsize=10)\n",
    "plt.plot(bits,rel_error)\n",
    "plt.grid()\n",
    "\n",
    "plt.tight_layout()\n",
    "plt.show()\n",
    "\n",
    "plt.close()"
   ]
  },
  {
   "cell_type": "code",
   "execution_count": 34,
   "metadata": {},
   "outputs": [
    {
     "data": {
      "application/vnd.jupyter.widget-view+json": {
       "model_id": "a3f77f3a573d4c50bc28343811151d4c",
       "version_major": 2,
       "version_minor": 0
      },
      "text/plain": [
       "Mutation iterations:   0%|          | 0/5 [00:00<?, ?it/s]"
      ]
     },
     "metadata": {},
     "output_type": "display_data"
    },
    {
     "data": {
      "application/vnd.jupyter.widget-view+json": {
       "model_id": "888722e76c0142e995cbbb64c7960a10",
       "version_major": 2,
       "version_minor": 0
      },
      "text/plain": [
       "Selection Methods:   0%|          | 0/3 [00:00<?, ?it/s]"
      ]
     },
     "metadata": {},
     "output_type": "display_data"
    },
    {
     "data": {
      "application/vnd.jupyter.widget-view+json": {
       "model_id": "782f3cac4e8f45918af7ad923ed175bb",
       "version_major": 2,
       "version_minor": 0
      },
      "text/plain": [
       "Selection Methods:   0%|          | 0/3 [00:00<?, ?it/s]"
      ]
     },
     "metadata": {},
     "output_type": "display_data"
    },
    {
     "data": {
      "application/vnd.jupyter.widget-view+json": {
       "model_id": "1a4057c8e04d45969eb1d6acb1c821ad",
       "version_major": 2,
       "version_minor": 0
      },
      "text/plain": [
       "Selection Methods:   0%|          | 0/3 [00:00<?, ?it/s]"
      ]
     },
     "metadata": {},
     "output_type": "display_data"
    },
    {
     "data": {
      "application/vnd.jupyter.widget-view+json": {
       "model_id": "91f2a9783608483bbe249dc6e0e585ff",
       "version_major": 2,
       "version_minor": 0
      },
      "text/plain": [
       "Selection Methods:   0%|          | 0/3 [00:00<?, ?it/s]"
      ]
     },
     "metadata": {},
     "output_type": "display_data"
    },
    {
     "data": {
      "application/vnd.jupyter.widget-view+json": {
       "model_id": "d010fbc4556147d1a1de34ee6103a361",
       "version_major": 2,
       "version_minor": 0
      },
      "text/plain": [
       "Selection Methods:   0%|          | 0/3 [00:00<?, ?it/s]"
      ]
     },
     "metadata": {},
     "output_type": "display_data"
    },
    {
     "name": "stdout",
     "output_type": "stream",
     "text": [
      "Time in seconds to complete entire cycle: 70.26456117630005 \n",
      "\n",
      "The best radius is: [[[0.01870081198259601, 1.6470588235294117, '01110000'], 349], 'Wheel Selection']\n"
     ]
    }
   ],
   "source": [
    "#Initialing all hyperparameters\n",
    "pop_size = 100\n",
    "pop_range_steps = 10\n",
    "max_generations = 350\n",
    "#gen_range_steps = 50\n",
    "\n",
    "#mutation\n",
    "mutation_list = [0,1, 10, 50, 100]\n",
    "mutation_rate = 0.001\n",
    "\n",
    "\n",
    "n=8 #step:0.1176 if we work in range [0,30]\n",
    "max_radius=30\n",
    "selection_methods = [[random_choice, 'Random Selection'],\\\n",
    "                    [ranked_choice, 'Ranked Selection'],\\\n",
    "                    [wheel_selection, 'Wheel Selection']]\n",
    "\n",
    "best_overall = []\n",
    "all_generations = []\n",
    "all_gens_best = []\n",
    "\n",
    "#initialising dict for all vals\n",
    "all_gens_dict = {\n",
    "        'radius'        :   [],\n",
    "        'generation'    :   [],\n",
    "        'fitness'       :   [], \n",
    "        'selection_type':   [], \n",
    "        'pop_size'      :   [],\n",
    "        'mutation'      :   []    \n",
    "    }\n",
    "\n",
    "start_total = time.time()\n",
    "start_local = time.time()\n",
    "\n",
    "for mutation_el in tqdm(mutation_list, desc='Mutation iterations'): \n",
    "    #for loop for different mutation rates\n",
    "    mutation_probability = mutation_el * mutation_rate\n",
    "    for selectionMethod in tqdm(selection_methods, desc='Selection Methods'): \n",
    "        #for loop for different selection methods\n",
    "        #print(f'Selection method: {selectionMethod[1]}')\n",
    "        for pop_length in range(pop_range_steps,pop_size+1, 10):\n",
    "            #for loop for different population sizes\n",
    "            ranked_probability = ranked_probabilities(pop_length)\n",
    "            best_of_each_gen, all_gens = digi_evolve(pop_length, max_generations, max_radius, n, \\\n",
    "                                                     selectionMethod, ranked_probability, all_gens_dict, mutation_probability)\n",
    "\n",
    "        #print('The best radius is:', max(best_of_each_gen)[0][1], 'in generation: ',max(best_of_each_gen)[1])\n",
    "\n",
    "        best_overall.append([max(best_of_each_gen), selectionMethod[1]])\n",
    "        all_gens_best.append([best_of_each_gen, selectionMethod[1], mutation_probability])\n",
    "\n",
    "        end_local = time.time()\n",
    "        #print('Time in seconds to complete iteration of', selectionMethod[1] ,end_local - start_local, '\\n')\n",
    "        start_local = time.time()\n",
    "\n",
    "\n",
    "end_total = time.time()\n",
    "print('Time in seconds to complete entire cycle:',end_total - start_total, '\\n')\n",
    "\n",
    "#print('The best radius is:', max(best_overall))\n",
    "\n",
    "\n"
   ]
  },
  {
   "cell_type": "code",



   "execution_count": 35,
   "metadata": {},
   "outputs": [
    {
     "name": "stdout",
     "output_type": "stream",
     "text": [
      "[[[[0.01757891225652457, 1.2941176470588236, '11010000'], 0], [[0.018543321874619507, 1.5294117647058822, '10110000'], 1], [[0.01870081198259601, 1.6470588235294117, '01110000'], 2], [[0.018543321874619507, 1.5294117647058822, '10110000'], 3], [[0.01870081198259601, 1.6470588235294117, '01110000'], 4], [[0.018668205351357922, 1.7647058823529411, '11110000'], 5], [[0.01870081198259601, 1.6470588235294117, '01110000'], 6], [[0.01870081198259601, 1.6470588235294117, '01110000'], 7], [[0.01870081198259601, 1.6470588235294117, '01110000'], 8], [[0.01870081198259601, 1.6470588235294117, '01110000'], 9], [[0.01870081198259601, 1.6470588235294117, '01110000'], 10], [[0.01870081198259601, 1.6470588235294117, '01110000'], 11], [[0.01870081198259601, 1.6470588235294117, '01110000'], 12], [[0.01870081198259601, 1.6470588235294117, '01110000'], 13], [[0.01870081198259601, 1.6470588235294117, '01110000'], 14], [[0.01870081198259601, 1.6470588235294117, '01110000'], 15], [[0.01870081198259601, 1.6470588235294117, '01110000'], 16], [[0.01870081198259601, 1.6470588235294117, '01110000'], 17], [[0.01870081198259601, 1.6470588235294117, '01110000'], 18], [[0.01870081198259601, 1.6470588235294117, '01110000'], 19], [[0.01870081198259601, 1.6470588235294117, '01110000'], 20], [[0.01870081198259601, 1.6470588235294117, '01110000'], 21], [[0.01870081198259601, 1.6470588235294117, '01110000'], 22], [[0.01870081198259601, 1.6470588235294117, '01110000'], 23], [[0.01870081198259601, 1.6470588235294117, '01110000'], 24], [[0.01870081198259601, 1.6470588235294117, '01110000'], 25], [[0.01870081198259601, 1.6470588235294117, '01110000'], 26], [[0.01870081198259601, 1.6470588235294117, '01110000'], 27], [[0.01870081198259601, 1.6470588235294117, '01110000'], 28], [[0.01870081198259601, 1.6470588235294117, '01110000'], 29], [[0.01870081198259601, 1.6470588235294117, '01110000'], 30], [[0.01870081198259601, 1.6470588235294117, '01110000'], 31], [[0.01870081198259601, 1.6470588235294117, '01110000'], 32], [[0.01870081198259601, 1.6470588235294117, '01110000'], 33], [[0.01870081198259601, 1.6470588235294117, '01110000'], 34], [[0.01870081198259601, 1.6470588235294117, '01110000'], 35], [[0.01870081198259601, 1.6470588235294117, '01110000'], 36], [[0.01870081198259601, 1.6470588235294117, '01110000'], 37], [[0.01870081198259601, 1.6470588235294117, '01110000'], 38], [[0.01870081198259601, 1.6470588235294117, '01110000'], 39], [[0.01870081198259601, 1.6470588235294117, '01110000'], 40], [[0.01870081198259601, 1.6470588235294117, '01110000'], 41], [[0.01870081198259601, 1.6470588235294117, '01110000'], 42], [[0.01870081198259601, 1.6470588235294117, '01110000'], 43], [[0.01870081198259601, 1.6470588235294117, '01110000'], 44], [[0.01870081198259601, 1.6470588235294117, '01110000'], 45], [[0.01870081198259601, 1.6470588235294117, '01110000'], 46], [[0.01870081198259601, 1.6470588235294117, '01110000'], 47], [[0.01870081198259601, 1.6470588235294117, '01110000'], 48], [[0.01870081198259601, 1.6470588235294117, '01110000'], 49], [[0.01870081198259601, 1.6470588235294117, '01110000'], 50], [[0.01870081198259601, 1.6470588235294117, '01110000'], 51], [[0.01870081198259601, 1.6470588235294117, '01110000'], 52], [[0.01870081198259601, 1.6470588235294117, '01110000'], 53], [[0.01870081198259601, 1.6470588235294117, '01110000'], 54], [[0.01870081198259601, 1.6470588235294117, '01110000'], 55], [[0.01870081198259601, 1.6470588235294117, '01110000'], 56], [[0.01870081198259601, 1.6470588235294117, '01110000'], 57], [[0.01870081198259601, 1.6470588235294117, '01110000'], 58], [[0.01870081198259601, 1.6470588235294117, '01110000'], 59], [[0.01870081198259601, 1.6470588235294117, '01110000'], 60], [[0.01870081198259601, 1.6470588235294117, '01110000'], 61], [[0.01870081198259601, 1.6470588235294117, '01110000'], 62], [[0.01870081198259601, 1.6470588235294117, '01110000'], 63], [[0.01870081198259601, 1.6470588235294117, '01110000'], 64], [[0.01870081198259601, 1.6470588235294117, '01110000'], 65], [[0.01870081198259601, 1.6470588235294117, '01110000'], 66], [[0.01870081198259601, 1.6470588235294117, '01110000'], 67], [[0.01870081198259601, 1.6470588235294117, '01110000'], 68], [[0.01870081198259601, 1.6470588235294117, '01110000'], 69], [[0.01870081198259601, 1.6470588235294117, '01110000'], 70], [[0.01870081198259601, 1.6470588235294117, '01110000'], 71], [[0.01870081198259601, 1.6470588235294117, '01110000'], 72], [[0.01870081198259601, 1.6470588235294117, '01110000'], 73], [[0.01870081198259601, 1.6470588235294117, '01110000'], 74], [[0.01870081198259601, 1.6470588235294117, '01110000'], 75], [[0.01870081198259601, 1.6470588235294117, '01110000'], 76], [[0.01870081198259601, 1.6470588235294117, '01110000'], 77], [[0.01870081198259601, 1.6470588235294117, '01110000'], 78], [[0.01870081198259601, 1.6470588235294117, '01110000'], 79], [[0.01870081198259601, 1.6470588235294117, '01110000'], 80], [[0.01870081198259601, 1.6470588235294117, '01110000'], 81], [[0.01870081198259601, 1.6470588235294117, '01110000'], 82], [[0.01870081198259601, 1.6470588235294117, '01110000'], 83], [[0.01870081198259601, 1.6470588235294117, '01110000'], 84], [[0.01870081198259601, 1.6470588235294117, '01110000'], 85], [[0.01870081198259601, 1.6470588235294117, '01110000'], 86], [[0.01870081198259601, 1.6470588235294117, '01110000'], 87], [[0.01870081198259601, 1.6470588235294117, '01110000'], 88], [[0.01870081198259601, 1.6470588235294117, '01110000'], 89], [[0.01870081198259601, 1.6470588235294117, '01110000'], 90], [[0.01870081198259601, 1.6470588235294117, '01110000'], 91], [[0.01870081198259601, 1.6470588235294117, '01110000'], 92], [[0.01870081198259601, 1.6470588235294117, '01110000'], 93], [[0.01870081198259601, 1.6470588235294117, '01110000'], 94], [[0.01870081198259601, 1.6470588235294117, '01110000'], 95], [[0.01870081198259601, 1.6470588235294117, '01110000'], 96], [[0.01870081198259601, 1.6470588235294117, '01110000'], 97], [[0.01870081198259601, 1.6470588235294117, '01110000'], 98], [[0.01870081198259601, 1.6470588235294117, '01110000'], 99], [[0.01870081198259601, 1.6470588235294117, '01110000'], 100], [[0.01870081198259601, 1.6470588235294117, '01110000'], 101], [[0.01870081198259601, 1.6470588235294117, '01110000'], 102], [[0.01870081198259601, 1.6470588235294117, '01110000'], 103], [[0.01870081198259601, 1.6470588235294117, '01110000'], 104], [[0.01870081198259601, 1.6470588235294117, '01110000'], 105], [[0.01870081198259601, 1.6470588235294117, '01110000'], 106], [[0.01870081198259601, 1.6470588235294117, '01110000'], 107], [[0.01870081198259601, 1.6470588235294117, '01110000'], 108], [[0.01870081198259601, 1.6470588235294117, '01110000'], 109], [[0.01870081198259601, 1.6470588235294117, '01110000'], 110], [[0.01870081198259601, 1.6470588235294117, '01110000'], 111], [[0.01870081198259601, 1.6470588235294117, '01110000'], 112], [[0.01870081198259601, 1.6470588235294117, '01110000'], 113], [[0.01870081198259601, 1.6470588235294117, '01110000'], 114], [[0.01870081198259601, 1.6470588235294117, '01110000'], 115], [[0.01870081198259601, 1.6470588235294117, '01110000'], 116], [[0.01870081198259601, 1.6470588235294117, '01110000'], 117], [[0.01870081198259601, 1.6470588235294117, '01110000'], 118], [[0.01870081198259601, 1.6470588235294117, '01110000'], 119], [[0.01870081198259601, 1.6470588235294117, '01110000'], 120], [[0.01870081198259601, 1.6470588235294117, '01110000'], 121], [[0.01870081198259601, 1.6470588235294117, '01110000'], 122], [[0.01870081198259601, 1.6470588235294117, '01110000'], 123], [[0.01870081198259601, 1.6470588235294117, '01110000'], 124], [[0.01870081198259601, 1.6470588235294117, '01110000'], 125], [[0.01870081198259601, 1.6470588235294117, '01110000'], 126], [[0.01870081198259601, 1.6470588235294117, '01110000'], 127], [[0.01870081198259601, 1.6470588235294117, '01110000'], 128], [[0.01870081198259601, 1.6470588235294117, '01110000'], 129], [[0.01870081198259601, 1.6470588235294117, '01110000'], 130], [[0.01870081198259601, 1.6470588235294117, '01110000'], 131], [[0.01870081198259601, 1.6470588235294117, '01110000'], 132], [[0.01870081198259601, 1.6470588235294117, '01110000'], 133], [[0.01870081198259601, 1.6470588235294117, '01110000'], 134], [[0.01870081198259601, 1.6470588235294117, '01110000'], 135], [[0.01870081198259601, 1.6470588235294117, '01110000'], 136], [[0.01870081198259601, 1.6470588235294117, '01110000'], 137], [[0.01870081198259601, 1.6470588235294117, '01110000'], 138], [[0.01870081198259601, 1.6470588235294117, '01110000'], 139], [[0.01870081198259601, 1.6470588235294117, '01110000'], 140], [[0.01870081198259601, 1.6470588235294117, '01110000'], 141], [[0.01870081198259601, 1.6470588235294117, '01110000'], 142], [[0.01870081198259601, 1.6470588235294117, '01110000'], 143], [[0.01870081198259601, 1.6470588235294117, '01110000'], 144], [[0.01870081198259601, 1.6470588235294117, '01110000'], 145], [[0.01870081198259601, 1.6470588235294117, '01110000'], 146], [[0.01870081198259601, 1.6470588235294117, '01110000'], 147], [[0.01870081198259601, 1.6470588235294117, '01110000'], 148], [[0.01870081198259601, 1.6470588235294117, '01110000'], 149], [[0.01870081198259601, 1.6470588235294117, '01110000'], 150], [[0.01870081198259601, 1.6470588235294117, '01110000'], 151], [[0.01870081198259601, 1.6470588235294117, '01110000'], 152], [[0.01870081198259601, 1.6470588235294117, '01110000'], 153], [[0.01870081198259601, 1.6470588235294117, '01110000'], 154], [[0.01870081198259601, 1.6470588235294117, '01110000'], 155], [[0.01870081198259601, 1.6470588235294117, '01110000'], 156], [[0.01870081198259601, 1.6470588235294117, '01110000'], 157], [[0.01870081198259601, 1.6470588235294117, '01110000'], 158], [[0.01870081198259601, 1.6470588235294117, '01110000'], 159], [[0.01870081198259601, 1.6470588235294117, '01110000'], 160], [[0.01870081198259601, 1.6470588235294117, '01110000'], 161], [[0.01870081198259601, 1.6470588235294117, '01110000'], 162], [[0.01870081198259601, 1.6470588235294117, '01110000'], 163], [[0.01870081198259601, 1.6470588235294117, '01110000'], 164], [[0.01870081198259601, 1.6470588235294117, '01110000'], 165], [[0.01870081198259601, 1.6470588235294117, '01110000'], 166], [[0.01870081198259601, 1.6470588235294117, '01110000'], 167], [[0.01870081198259601, 1.6470588235294117, '01110000'], 168], [[0.01870081198259601, 1.6470588235294117, '01110000'], 169], [[0.01870081198259601, 1.6470588235294117, '01110000'], 170], [[0.01870081198259601, 1.6470588235294117, '01110000'], 171], [[0.01870081198259601, 1.6470588235294117, '01110000'], 172], [[0.01870081198259601, 1.6470588235294117, '01110000'], 173], [[0.01870081198259601, 1.6470588235294117, '01110000'], 174], [[0.01870081198259601, 1.6470588235294117, '01110000'], 175], [[0.01870081198259601, 1.6470588235294117, '01110000'], 176], [[0.01870081198259601, 1.6470588235294117, '01110000'], 177], [[0.01870081198259601, 1.6470588235294117, '01110000'], 178], [[0.01870081198259601, 1.6470588235294117, '01110000'], 179], [[0.01870081198259601, 1.6470588235294117, '01110000'], 180], [[0.01870081198259601, 1.6470588235294117, '01110000'], 181], [[0.01870081198259601, 1.6470588235294117, '01110000'], 182], [[0.01870081198259601, 1.6470588235294117, '01110000'], 183], [[0.01870081198259601, 1.6470588235294117, '01110000'], 184], [[0.01870081198259601, 1.6470588235294117, '01110000'], 185], [[0.01870081198259601, 1.6470588235294117, '01110000'], 186], [[0.01870081198259601, 1.6470588235294117, '01110000'], 187], [[0.01870081198259601, 1.6470588235294117, '01110000'], 188], [[0.01870081198259601, 1.6470588235294117, '01110000'], 189], [[0.01870081198259601, 1.6470588235294117, '01110000'], 190], [[0.01870081198259601, 1.6470588235294117, '01110000'], 191], [[0.01870081198259601, 1.6470588235294117, '01110000'], 192], [[0.01870081198259601, 1.6470588235294117, '01110000'], 193], [[0.01870081198259601, 1.6470588235294117, '01110000'], 194], [[0.01870081198259601, 1.6470588235294117, '01110000'], 195], [[0.01870081198259601, 1.6470588235294117, '01110000'], 196], [[0.01870081198259601, 1.6470588235294117, '01110000'], 197], [[0.01870081198259601, 1.6470588235294117, '01110000'], 198], [[0.01870081198259601, 1.6470588235294117, '01110000'], 199], [[0.01870081198259601, 1.6470588235294117, '01110000'], 200], [[0.01870081198259601, 1.6470588235294117, '01110000'], 201], [[0.01870081198259601, 1.6470588235294117, '01110000'], 202], [[0.01870081198259601, 1.6470588235294117, '01110000'], 203], [[0.01870081198259601, 1.6470588235294117, '01110000'], 204], [[0.01870081198259601, 1.6470588235294117, '01110000'], 205], [[0.01870081198259601, 1.6470588235294117, '01110000'], 206], [[0.01870081198259601, 1.6470588235294117, '01110000'], 207], [[0.01870081198259601, 1.6470588235294117, '01110000'], 208], [[0.01870081198259601, 1.6470588235294117, '01110000'], 209], [[0.01870081198259601, 1.6470588235294117, '01110000'], 210], [[0.01870081198259601, 1.6470588235294117, '01110000'], 211], [[0.01870081198259601, 1.6470588235294117, '01110000'], 212], [[0.01870081198259601, 1.6470588235294117, '01110000'], 213], [[0.01870081198259601, 1.6470588235294117, '01110000'], 214], [[0.01870081198259601, 1.6470588235294117, '01110000'], 215], [[0.01870081198259601, 1.6470588235294117, '01110000'], 216], [[0.01870081198259601, 1.6470588235294117, '01110000'], 217], [[0.01870081198259601, 1.6470588235294117, '01110000'], 218], [[0.01870081198259601, 1.6470588235294117, '01110000'], 219], [[0.01870081198259601, 1.6470588235294117, '01110000'], 220], [[0.01870081198259601, 1.6470588235294117, '01110000'], 221], [[0.01870081198259601, 1.6470588235294117, '01110000'], 222], [[0.01870081198259601, 1.6470588235294117, '01110000'], 223], [[0.01870081198259601, 1.6470588235294117, '01110000'], 224], [[0.01870081198259601, 1.6470588235294117, '01110000'], 225], [[0.01870081198259601, 1.6470588235294117, '01110000'], 226], [[0.01870081198259601, 1.6470588235294117, '01110000'], 227], [[0.01870081198259601, 1.6470588235294117, '01110000'], 228], [[0.01870081198259601, 1.6470588235294117, '01110000'], 229], [[0.01870081198259601, 1.6470588235294117, '01110000'], 230], [[0.01870081198259601, 1.6470588235294117, '01110000'], 231], [[0.01870081198259601, 1.6470588235294117, '01110000'], 232], [[0.01870081198259601, 1.6470588235294117, '01110000'], 233], [[0.01870081198259601, 1.6470588235294117, '01110000'], 234], [[0.01870081198259601, 1.6470588235294117, '01110000'], 235], [[0.01870081198259601, 1.6470588235294117, '01110000'], 236], [[0.01870081198259601, 1.6470588235294117, '01110000'], 237], [[0.01870081198259601, 1.6470588235294117, '01110000'], 238], [[0.01870081198259601, 1.6470588235294117, '01110000'], 239], [[0.01870081198259601, 1.6470588235294117, '01110000'], 240], [[0.01870081198259601, 1.6470588235294117, '01110000'], 241], [[0.01870081198259601, 1.6470588235294117, '01110000'], 242], [[0.01870081198259601, 1.6470588235294117, '01110000'], 243], [[0.01870081198259601, 1.6470588235294117, '01110000'], 244], [[0.01870081198259601, 1.6470588235294117, '01110000'], 245], [[0.01870081198259601, 1.6470588235294117, '01110000'], 246], [[0.01870081198259601, 1.6470588235294117, '01110000'], 247], [[0.01870081198259601, 1.6470588235294117, '01110000'], 248], [[0.01870081198259601, 1.6470588235294117, '01110000'], 249], [[0.01870081198259601, 1.6470588235294117, '01110000'], 250], [[0.01870081198259601, 1.6470588235294117, '01110000'], 251], [[0.01870081198259601, 1.6470588235294117, '01110000'], 252], [[0.01870081198259601, 1.6470588235294117, '01110000'], 253], [[0.01870081198259601, 1.6470588235294117, '01110000'], 254], [[0.01870081198259601, 1.6470588235294117, '01110000'], 255], [[0.01870081198259601, 1.6470588235294117, '01110000'], 256], [[0.01870081198259601, 1.6470588235294117, '01110000'], 257], [[0.01870081198259601, 1.6470588235294117, '01110000'], 258], [[0.01870081198259601, 1.6470588235294117, '01110000'], 259], [[0.01870081198259601, 1.6470588235294117, '01110000'], 260], [[0.01870081198259601, 1.6470588235294117, '01110000'], 261], [[0.01870081198259601, 1.6470588235294117, '01110000'], 262], [[0.01870081198259601, 1.6470588235294117, '01110000'], 263], [[0.01870081198259601, 1.6470588235294117, '01110000'], 264], [[0.01870081198259601, 1.6470588235294117, '01110000'], 265], [[0.01870081198259601, 1.6470588235294117, '01110000'], 266], [[0.01870081198259601, 1.6470588235294117, '01110000'], 267], [[0.01870081198259601, 1.6470588235294117, '01110000'], 268], [[0.01870081198259601, 1.6470588235294117, '01110000'], 269], [[0.01870081198259601, 1.6470588235294117, '01110000'], 270], [[0.01870081198259601, 1.6470588235294117, '01110000'], 271], [[0.01870081198259601, 1.6470588235294117, '01110000'], 272], [[0.01870081198259601, 1.6470588235294117, '01110000'], 273], [[0.01870081198259601, 1.6470588235294117, '01110000'], 274], [[0.01870081198259601, 1.6470588235294117, '01110000'], 275], [[0.01870081198259601, 1.6470588235294117, '01110000'], 276], [[0.01870081198259601, 1.6470588235294117, '01110000'], 277], [[0.01870081198259601, 1.6470588235294117, '01110000'], 278], [[0.01870081198259601, 1.6470588235294117, '01110000'], 279], [[0.01870081198259601, 1.6470588235294117, '01110000'], 280], [[0.01870081198259601, 1.6470588235294117, '01110000'], 281], [[0.01870081198259601, 1.6470588235294117, '01110000'], 282], [[0.01870081198259601, 1.6470588235294117, '01110000'], 283], [[0.01870081198259601, 1.6470588235294117, '01110000'], 284], [[0.01870081198259601, 1.6470588235294117, '01110000'], 285], [[0.01870081198259601, 1.6470588235294117, '01110000'], 286], [[0.01870081198259601, 1.6470588235294117, '01110000'], 287], [[0.01870081198259601, 1.6470588235294117, '01110000'], 288], [[0.01870081198259601, 1.6470588235294117, '01110000'], 289], [[0.01870081198259601, 1.6470588235294117, '01110000'], 290], [[0.01870081198259601, 1.6470588235294117, '01110000'], 291], [[0.01870081198259601, 1.6470588235294117, '01110000'], 292], [[0.01870081198259601, 1.6470588235294117, '01110000'], 293], [[0.01870081198259601, 1.6470588235294117, '01110000'], 294], [[0.01870081198259601, 1.6470588235294117, '01110000'], 295], [[0.01870081198259601, 1.6470588235294117, '01110000'], 296], [[0.01870081198259601, 1.6470588235294117, '01110000'], 297], [[0.01870081198259601, 1.6470588235294117, '01110000'], 298], [[0.01870081198259601, 1.6470588235294117, '01110000'], 299], [[0.01870081198259601, 1.6470588235294117, '01110000'], 300], [[0.01870081198259601, 1.6470588235294117, '01110000'], 301], [[0.01870081198259601, 1.6470588235294117, '01110000'], 302], [[0.01870081198259601, 1.6470588235294117, '01110000'], 303], [[0.01870081198259601, 1.6470588235294117, '01110000'], 304], [[0.01870081198259601, 1.6470588235294117, '01110000'], 305], [[0.01870081198259601, 1.6470588235294117, '01110000'], 306], [[0.01870081198259601, 1.6470588235294117, '01110000'], 307], [[0.01870081198259601, 1.6470588235294117, '01110000'], 308], [[0.01870081198259601, 1.6470588235294117, '01110000'], 309], [[0.01870081198259601, 1.6470588235294117, '01110000'], 310], [[0.01870081198259601, 1.6470588235294117, '01110000'], 311], [[0.01870081198259601, 1.6470588235294117, '01110000'], 312], [[0.01870081198259601, 1.6470588235294117, '01110000'], 313], [[0.01870081198259601, 1.6470588235294117, '01110000'], 314], [[0.01870081198259601, 1.6470588235294117, '01110000'], 315], [[0.01870081198259601, 1.6470588235294117, '01110000'], 316], [[0.01870081198259601, 1.6470588235294117, '01110000'], 317], [[0.01870081198259601, 1.6470588235294117, '01110000'], 318], [[0.01870081198259601, 1.6470588235294117, '01110000'], 319], [[0.01870081198259601, 1.6470588235294117, '01110000'], 320], [[0.01870081198259601, 1.6470588235294117, '01110000'], 321], [[0.01870081198259601, 1.6470588235294117, '01110000'], 322], [[0.01870081198259601, 1.6470588235294117, '01110000'], 323], [[0.01870081198259601, 1.6470588235294117, '01110000'], 324], [[0.01870081198259601, 1.6470588235294117, '01110000'], 325], [[0.01870081198259601, 1.6470588235294117, '01110000'], 326], [[0.01870081198259601, 1.6470588235294117, '01110000'], 327], [[0.01870081198259601, 1.6470588235294117, '01110000'], 328], [[0.01870081198259601, 1.6470588235294117, '01110000'], 329], [[0.01870081198259601, 1.6470588235294117, '01110000'], 330], [[0.01870081198259601, 1.6470588235294117, '01110000'], 331], [[0.01870081198259601, 1.6470588235294117, '01110000'], 332], [[0.01870081198259601, 1.6470588235294117, '01110000'], 333], [[0.01870081198259601, 1.6470588235294117, '01110000'], 334], [[0.01870081198259601, 1.6470588235294117, '01110000'], 335], [[0.01870081198259601, 1.6470588235294117, '01110000'], 336], [[0.01870081198259601, 1.6470588235294117, '01110000'], 337], [[0.01870081198259601, 1.6470588235294117, '01110000'], 338], [[0.01870081198259601, 1.6470588235294117, '01110000'], 339], [[0.01870081198259601, 1.6470588235294117, '01110000'], 340], [[0.01870081198259601, 1.6470588235294117, '01110000'], 341], [[0.01870081198259601, 1.6470588235294117, '01110000'], 342], [[0.01870081198259601, 1.6470588235294117, '01110000'], 343], [[0.01870081198259601, 1.6470588235294117, '01110000'], 344], [[0.01870081198259601, 1.6470588235294117, '01110000'], 345], [[0.01870081198259601, 1.6470588235294117, '01110000'], 346], [[0.01870081198259601, 1.6470588235294117, '01110000'], 347], [[0.01870081198259601, 1.6470588235294117, '01110000'], 348], [[0.01870081198259601, 1.6470588235294117, '01110000'], 349]], 'Random Selection', 0.0]\n"
     ]
    }
   ],
   "source": [
    "print((all_gens_best[0]))"
   ]
  },
  {
   "cell_type": "code",
   "execution_count": 19,
   "metadata": {},
   "outputs": [
    {
     "name": "stdout",
     "output_type": "stream",
     "text": [
      "Data saved successfully\n"
     ]
    }
   ],
   "source": [
    "#Save object for Data Analysis\n",
    "fileObj = open('data_algos.pkl', 'wb')\n",
    "pickle.dump(all_gens,fileObj)\n",
    "fileObj.close()\n",
    "print('Data saved successfully')"
   ]
  },
  {
   "cell_type": "markdown",
   "metadata": {},
   "source": [
    "\n",
    "## Choosing the Number of Bits for Binary Representation\n",
    "\n",
    "### Calculating Minimum Step:\n",
    "\n",
    "\n",
    "$$\n",
    "Interval=[0,r_{max}]\n",
    "$$\n",
    "$$\n",
    "\\begin{array}{rcl}\n",
    "Step & = & \\dfrac{r_{max}}{2^n - 1}\\\\\n",
    "\n",
    "\\end{array}\n",
    "$$\n"
   ]
  },
  {
   "cell_type": "code",
   "execution_count": 20,

   "metadata": {},
   "outputs": [
    {
     "name": "stdout",
     "output_type": "stream",
     "text": [
      "The best radius is 1.6470588235294117 cm\n",
      "Firstly found with Wheel Selection in generation number 16\n"
     ]
    }
   ],
   "source": [
    "max_element = max(best_overall, key=lambda x: x[0][0][0])\n",
    "\n",
    "for element in best_overall:\n",
    "    if element[0][0][0]!=max_element[0][0][0]: best_overall.drop(element)\n",
    "\n",
    "min_element = min(best_overall, key=lambda x: x[0][1])\n",
    "\n",
    "#Showing the best solution found\n",
    "print(f\"The best radius is {min_element[0][0][1]} cm\\nFirstly found with {min_element[1]} in generation number {min_element[0][1]}\")"
   ]
  },
  {
   "cell_type": "code",

   "execution_count": 21,

   "metadata": {},
   "outputs": [
    {
     "name": "stdout",
     "output_type": "stream",
     "text": [


      "[[[0.01841751645958127, 1.9047619047619047, '001000'], 49], [[0.018703743102528807, 1.6535433070866141, '1110000'], 49], [[0.01870081198259601, 1.6470588235294117, '01110000'], 48], [[0.018707613264300007, 1.7025440313111546, '101110000'], 49], [[0.018708883203279552, 1.6715542521994136, '1001110000'], 48], [[0.01870987733659405, 1.6853932584269662, '11001110000'], 45], [[0.018709884376721372, 1.684981684981685, '011001110000'], 40], [[0.01870988705875999, 1.6847759736295935, '0011001110000'], 29], [[0.018709888190392165, 1.684673136788134, '00011001110000'], 37]]\n"
     ]
    },
    {
     "data": {
      "image/png": "[encoded data removed]",
      "text/plain": [
       "<Figure size 1440x432 with 2 Axes>"
      ]
     },
     "metadata": {
      "needs_background": "light"
     },
     "output_type": "display_data"

    }
   ],
   "source": [
    "#Save object for Data Analysis\n",
    "fileObj = open('data_algos.pkl', 'wb')\n",
    "pickle.dump(all_gens,fileObj)\n",
    "fileObj.close()\n",
    "try:\n",
    "    with open('data_algos.pkl', 'rb') as fileObj:\n",
    "        loaded_data = pickle.load(fileObj)\n",
    "        \n",
    "    print('Data loaded successfully')\n",
    "    fileObj.close()\n",
    "\n",
    "except Exception as e:\n",
    "    print(f'Error loading data: {e}')"
   ]
  }
 ],
 "metadata": {
  "kernelspec": {
   "display_name": "ml",
   "language": "python",
   "name": "python3"
  },
  "language_info": {
   "codemirror_mode": {
    "name": "ipython",
    "version": 3
   },
   "file_extension": ".py",
   "mimetype": "text/x-python",
   "name": "python",
   "nbconvert_exporter": "python",
   "pygments_lexer": "ipython3",
   "version": "3.9.2"
  }
 },
 "nbformat": 4,
 "nbformat_minor": 2
}
