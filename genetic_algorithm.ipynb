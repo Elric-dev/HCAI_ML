{
 "cells": [
  {
   "cell_type": "markdown",
   "metadata": {},
   "source": [
    "<h1>Exploiting Genetic Algorithms for Optimisation </h1>\n",
    "<br>\n",
    "\n",
    "<h2> The problem</h2>\n",
    "We need to make cylindrical containers with fixed volume 30 cubic cm so that, given the diameter you can figure out its height, minimizing the building material. \n",
    "This mathematically simple minimization problem could be solved with a genetic algorithm driven by the diameter (or radius) that must always be positive. The rest of the problem definition is up to you. "
   ]
  },
  {
   "cell_type": "code",
   "execution_count": 29,
   "metadata": {},
   "outputs": [],
   "source": [
    "#!pip install -r requirements.txt"
   ]
  },
  {
   "cell_type": "code",
   "execution_count": 30,
   "metadata": {},
   "outputs": [],
   "source": [
    "# Install dependencies\n",
    "import math\n",
    "import numpy as np\n",
    "import time\n",
    "from tqdm.notebook import tqdm\n",
    "import pickle\n",
    "import random"
   ]
  },
  {
   "cell_type": "code",
   "execution_count": 31,
   "metadata": {},
   "outputs": [
    {
     "data": {
      "text/html": [
       "<style>\n",
       ".cell-output-ipywidget-background {\n",
       "    background-color: transparent !important;\n",
       "}\n",
       ":root {\n",
       "    --jp-widgets-color: var(--vscode-editor-foreground);\n",
       "    --jp-widgets-font-size: var(--vscode-editor-font-size);\n",
       "}  \n",
       "</style>\n"
      ],
      "text/plain": [
       "<IPython.core.display.HTML object>"
      ]
     },
     "metadata": {},
     "output_type": "display_data"
    }
   ],
   "source": [
    "%%html\n",
    "<style>\n",
    ".cell-output-ipywidget-background {\n",
    "    background-color: transparent !important;\n",
    "}\n",
    ":root {\n",
    "    --jp-widgets-color: var(--vscode-editor-foreground);\n",
    "    --jp-widgets-font-size: var(--vscode-editor-font-size);\n",
    "}  \n",
    "</style>"
   ]
  },
  {
   "cell_type": "markdown",
   "metadata": {},
   "source": [
    "## Defining the Problem\n",
    "\n",
    "We need to optimise the building material of Cilinders of Volume = 30 cm<sup>3</sup>\n",
    "\n",
    "$$\n",
    "\\begin{array}{rcl}\n",
    "    Volume & = & \\pi r^2 h\\\\\n",
    "    h & = & \\frac{30}{\\pi r^2}\\\\\n",
    "    r & = & x\n",
    "\\end{array}\n",
    "\\newline\n",
    "$$\n",
    "\n",
    "In order to minimise the used material, we need to minimise the surface area. \n",
    "Thus we get the following equation, for $r > 0$:\n",
    "$$\n",
    "\\newline\n",
    "\\begin{array}{rcl}\n",
    "    Area & = & 2\\pi r^2 + 2\\pi h\\\\\n",
    "    & = & 2 \\pi r^2 + \\frac{60}{r}\\\\\n",
    "\\end{array}\n",
    "$$\n",
    "\n",
    "Then, our fitness equation is:\n",
    "$$\n",
    "\\begin{array}{rcl}\n",
    "fitness & = & \\dfrac{1}{Area}\\\\\n",
    "\\\\\n",
    "fitness & = & \\dfrac{1}{2 \\pi r^2 + \\frac{60}{r}}\n",
    "\n",
    "\\end{array}\n",
    "$$\n",
    "\n"
   ]
  },
  {
   "cell_type": "code",
   "execution_count": 32,
   "metadata": {},
   "outputs": [],
   "source": [
    "\n",
    "#1. Initial Hyperparameters\n",
    "np.random.seed(2023)\n",
    "\n",
    "#2. Define height given diameter\n",
    "def height (d):\n",
    "    ''' \n",
    "    Calculates ideal height given a diameter\n",
    "    Based on the cylinder volume equation: pi * (r**2) * h\n",
    "    Volume set to 30 as per instructions\n",
    "\n",
    "    Inputs:\n",
    "        d   :   Diameter -> type =  (int, float) \n",
    "\n",
    "    Outputs: \n",
    "        h   :   Height -> type = (float) \n",
    "    '''\n",
    "    r = d/2\n",
    "    pi = math.pi\n",
    "    #volume = pi * (r**2) * h\n",
    "    h = 30/(pi*(r**2))\n",
    "    return h\n",
    "\n",
    "#3. Define Fitness\n",
    "def fitness (r):\n",
    "    ''' \n",
    "    Calculates fitness of the proposed radius\n",
    "    Based on the fitness equation: 1/(2 * (pi) * (r**2) + (60/r))\n",
    "    Derived from the optimisation problem\n",
    "\n",
    "    Inputs:\n",
    "        r       :   Radius -> type = (int, float)\n",
    "\n",
    "    Outputs\n",
    "        fitness :   Fitness -> type = (float)\n",
    "    '''\n",
    "    #r=d/2\n",
    "    area = (2 * (math.pi) * (r**2) + (60/r))\n",
    "    fitness = 1/area\n",
    "    return fitness\n",
    "\n",
    "\n",
    "#4. Binary encoding\n",
    "#4.1 Binary-encoded first generation\n",
    "def first_gen(pop_size,n):\n",
    "    ''' \n",
    "    Creates a binary-encoded population of radiuses\n",
    "\n",
    "    Inputs:\n",
    "        pop_size    :   Population size (number of individuals in generation) -> type = (int)\n",
    "        n           :   Number of bits for binary enconding -> type = (int)\n",
    "\n",
    "    Outputs:\n",
    "        gen_zero    :   List of n-bits binaty-encoded radiuses of length equal to pop_size \n",
    "                        -> type = (list), len(gen_zero) = pop_size\n",
    "    '''\n",
    "    gen_zero=[]\n",
    "    for i in range(pop_size):\n",
    "        x = []\n",
    "        while 1 not in x:\n",
    "            x = [np.random.choice([0, 1]) for _ in range(n)]   \n",
    "        el = ''.join(map(str, x))\n",
    "        gen_zero.append(el)\n",
    "\n",
    "    return gen_zero\n",
    "\n",
    "#4.2 Function to decode binary radius\n",
    "def decode_r(r, max_radius, n):\n",
    "    ''' \n",
    "    Converts a binary encoded radius into a number\n",
    "\n",
    "    Inputs:\n",
    "        r           :   Binary-encoded radius -> type = (str)\n",
    "        max_radius  :   upper-bound for the radius -> type = (int)\n",
    "        n           :   number of bits for encoding -> type = (int)\n",
    "    \n",
    "    Outputs:\n",
    "        dec_r       :   decoded radius -> type = (float)\n",
    "    '''\n",
    "    rad=list(map(int, str(r)))\n",
    "    dec_r=(max_radius/(2**n-1))*sum(rad[i]*2**i for i in range(len(rad)))\n",
    "    return dec_r\n",
    "    \n",
    "#5. Define selection methods\n",
    "#5.1.1 Calculate fitness for generation and sort individuals by fitness\n",
    "def ranked_fitness (current_generation, max_radius, n):\n",
    "    ''' \n",
    "    Calculates fitness for all individuals in a generation and returns it in a sorted list\n",
    "\n",
    "    Inputs:\n",
    "        current_generation  :   list-like of length n -> type = (list)\n",
    "        max_radius          :   upper-bound for the radius -> type = (int)\n",
    "        n                   :   number of bits for encoding -> type = (int)\n",
    "\n",
    "    Outputs:\n",
    "        ranked_solutions    :   list of lists [Matrix]-> type = (list), dimensions = (len(current_generation) x 3)\n",
    "                                each element is of the shape : (fitness, decoded_radius, binary-encoded_radius)\n",
    "    '''\n",
    "    ranked_solutions = []\n",
    "    for el in current_generation:\n",
    "        ranked_solutions.append([fitness(decode_r(el, max_radius, n)),decode_r(el, max_radius, n), el])\n",
    "        #added a second element to keep track of solutions and not only fitness\n",
    "    ranked_solutions.sort(reverse = True)\n",
    "    return ranked_solutions\n",
    "\n",
    "#5.1.2 Ranked probabilities for Ranked Selection\n",
    "def ranked_probabilities(pop_size):\n",
    "    ''' \n",
    "    Create a list of probabilities for each rank in the corresponding index. \n",
    "\n",
    "    Inputs:\n",
    "        pop_size        :   Size of generation -> type : (int)\n",
    "\n",
    "    Outputs:\n",
    "        probabilities   :   List of probabilitues for each rank -> type : (list)\n",
    "    '''\n",
    "    #based on https://stackoverflow.com/questions/20290831/how-to-perform-rank-based-selection-in-a-genetic-algorithm\n",
    "    probabilities = []\n",
    "    amax = 1.2\n",
    "    amin = 2 - amax\n",
    "    m = pop_size\n",
    "    for i in range(pop_size):\n",
    "        p = (amax - (amax-amin)*(i/(m-1)))*(1/m)\n",
    "        probabilities.append(p)\n",
    "    sum_probs = sum(probabilities)\n",
    "    probabilities[0] = probabilities[0] + (1 - sum_probs)\n",
    "    return probabilities\n",
    "\n",
    "#5.2 Random choice\n",
    "def random_choice (generation, probabilities, gen_fitness):\n",
    "    ''' \n",
    "    Chooses a parent randomly from the 30-percentile or better candidates.\n",
    "\n",
    "    Inputs:\n",
    "        generation      :   sorted list (by fitness) of binary-encoded radiuses -> type = (list)\n",
    "        probabilities   :   sorted list of probabilities by rank (used in other selection methods) -> type = (list)\n",
    "        gen_fitness     :   sorted list of fitness -> type = (list)\n",
    "    \n",
    "    Outputs:\n",
    "        choice          :   Binary encoded radius (1 parent for reproduction method) -> type = (str)\n",
    "    '''\n",
    "    choice = generation[np.random.randint(0, (len(generation)-1)*0.70)]\n",
    "    return choice\n",
    "\n",
    "#5.3 Ranked Choice\n",
    "def ranked_choice (generation, probabilities, gen_fitness):\n",
    "    ''' \n",
    "    Chooses a parent based on probabilities assigned to rank.\n",
    "\n",
    "    Inputs:\n",
    "        generation      :   sorted list (by fitness) of binary-encoded radiuses -> type = (list)\n",
    "        probabilities   :   sorted list of probabilities by rank (used in other selection methods) -> type = (list)\n",
    "        gen_fitness     :   sorted list of fitness -> type = (list)\n",
    "    \n",
    "    Outputs:\n",
    "        choice          :   Binary encoded radius (1 parent for reproduction method) -> type = (str)\n",
    "    '''\n",
    "    gen_fit = generation\n",
    "    #sorting\n",
    "    choice= gen_fit[np.random.choice(np.arange(len(gen_fit)), p=probabilities)]\n",
    "    return choice\n",
    "\n",
    "#5.4 Wheel Choice\n",
    "def wheel_selection (generation, probabilities, gen_fitness):\n",
    "    ''' \n",
    "    Chooses a parent based on probabilities assigned to fitness.\n",
    "\n",
    "    Inputs:\n",
    "        generation      :   sorted list (by fitness) of binary-encoded radiuses -> type = (list)\n",
    "        probabilities   :   sorted list of probabilities by rank (used in other selection methods) -> type = (list)\n",
    "        gen_fitness     :   sorted list of fitness -> type = (list)\n",
    "    \n",
    "    Outputs:\n",
    "        choice          :   Binary encoded radius (1 parent for reproduction method) -> type = (str)\n",
    "    '''      \n",
    "    # computes the total the generation fitness\n",
    "    generation_fitness = sum([el for el in gen_fitness])\n",
    "    # computes the probability for each radius\n",
    "    probabilities = [el/generation_fitness for el in gen_fitness]\n",
    "    # selects one parent based on the computed probabilities\n",
    "    choice= generation[np.random.choice(np.arange(len(generation)), p=probabilities)]\n",
    "    return choice\n",
    "\n",
    "\n",
    "#6. Define Reproduction methods\n",
    "#6.1 Crossover Reproduction    \n",
    "def crossover(parentA, parentB):\n",
    "    ''' \n",
    "    Reproduction method to mix the parents' chromosomes with cut-off single random point\n",
    "\n",
    "    Inputs:\n",
    "        parentA :   Binary-encoded radius -> type : (str)\n",
    "        parentB :   Binary-encoded radius -> type : (str)\n",
    "\n",
    "    Outputs:\n",
    "        child   :   Binary-encoded radius -> type : (str)\n",
    "    '''\n",
    "    cross_point = np.random.randint(len(parentA))\n",
    "    child = parentA[:cross_point]+parentB[cross_point:]\n",
    "    return child\n",
    "\n",
    "#6.2 Mutations\n",
    "def mutation(individual, probability):\n",
    "    ''' \n",
    "    Mutation method to invert the child's chromosomes with ##cut-off single random point###??\n",
    "\n",
    "    Inputs:\n",
    "        individual  :   Binary-encoded radius -> type = (str)\n",
    "        probability :   rate of mutation for an individual -> type = (float)\n",
    "\n",
    "    Outputs:\n",
    "        individual  :   (Flipped) Binary-encoded radius -> type : (str)\n",
    "    '''\n",
    "    flipped = lambda x: '1' if x == '0' else '0'\n",
    "    chars = (flipped(sym) if random.random() < probability else sym for sym in individual)\n",
    "    return ''.join(chars)\n",
    "    \n",
    "\n",
    "#6.3 Reproduction Behaviour\n",
    "def reproduction (current_gen, sel_function, ranked_probabilities, gen_fitness, mutation_probability):\n",
    "    ''' \n",
    "    Function to streamline reproduction with several different hiper-parameters\n",
    "\n",
    "    Inputs:\n",
    "        current_gen             :   List of binary-encoded radiuses -> type = (str)\n",
    "        sel_fuction             :   Python Function fictating the selection of parents -> type = (Function)\n",
    "        probabilities           :   sorted list of probabilities by rank (used in other selection methods) -> type = (list)\n",
    "        gen_fitness             :   sorted list of fitness -> type = (list)\n",
    "        mutation_probability    :   rate of mutation for an individual -> type = (float)\n",
    "\n",
    "    Outputs:\n",
    "        new_generation          :   List of (unsorted) binary-encoded children radiuses -> type = (list)\n",
    "                                    length = len(current_gen)\n",
    "    '''\n",
    "    new_generation = []\n",
    "    for i in range(len(current_gen)):\n",
    "        parentA = sel_function(current_gen, ranked_probabilities, gen_fitness)\n",
    "        parentB = sel_function(current_gen, ranked_probabilities, gen_fitness)\n",
    "        child = crossover(parentA, parentB)\n",
    "        child = mutation(child, mutation_probability)\n",
    "        if '1' in child:\n",
    "            new_generation.append(child)\n",
    "        else:\n",
    "            new_generation.append(parentA)\n",
    "    return new_generation\n",
    "\n",
    "    "
   ]
  },
  {
   "cell_type": "code",
   "execution_count": 33,
   "metadata": {},
   "outputs": [],
   "source": [
    "#7 New generation iterations\n",
    "def digi_evolve(pop_size, max_generations, max_radius, n, sel_function_tuple, ranked_probabilities, all_gens, mutation_probability):\n",
    "    ''' \n",
    "    Genetic Algorithm implementation towards the goal to optimise for. \n",
    "\n",
    "    Inputs:\n",
    "        pop_size                :   Population size (number of individuals in generation) -> type = (int)\n",
    "        max_generations         :   Number of iterations (generations) to run -> type = (int)\n",
    "        max_radius              :   upper-bound for the radius -> type = (int)\n",
    "        n                       :   number of bits for encoding -> type = (int)\n",
    "        sel_function_tuple      :   tuple-like data structure with function to be called and its name -> type = (tuple -> (Function, str))\n",
    "        ranked_probabilities    :   sorted list of probabilities by rank (used in other selection methods) -> type = (list)\n",
    "        all_gens                :   Dictionary to populate with individual's data for future analysis -> type = (dict)\n",
    "        mutation_probability    :   rate of mutation for an individual -> type = (float)\n",
    "    \n",
    "    Outputs:\n",
    "        fittest                 :   list of best fitting individual's by selection method -> type = (list)\n",
    "        all_gens                :   Populated Dictionary from all data generated with evolutioniary algorithm -> type = (dict)\n",
    "\n",
    "    '''\n",
    "    #create temporary vars\n",
    "    sel_function = sel_function_tuple[0]\n",
    "    sel_function_name = sel_function_tuple[1]\n",
    "    fittest = []\n",
    "    curr_generation = first_gen(pop_size, n) #initialising first gen\n",
    "\n",
    "    #GA begins\n",
    "    #print('Evolutionary period begins')\n",
    "    for i in range(max_generations):\n",
    "        ranked_fit = ranked_fitness(curr_generation, max_radius, n)\n",
    "        fittest.append([ranked_fit[0], i])\n",
    "        for element in ranked_fit:\n",
    "            #print('###################### new var', element)\n",
    "            all_gens['radius'].append(element[1])\n",
    "            all_gens['fitness'].append(element[0])\n",
    "            all_gens['generation'].append(i)\n",
    "            all_gens['selection_type'].append(sel_function_name)\n",
    "            all_gens['pop_size'].append(pop_size)\n",
    "            all_gens['mutation'].append(mutation_probability)\n",
    "        #reproduction\n",
    "        curr_generation = (np.array(ranked_fit).transpose())\n",
    "        gen_fitness = np.array(curr_generation[0], dtype= float)\n",
    "        #gen_decoded = np.array(curr_generation[1], dtype= float)\n",
    "        curr_generation = reproduction(curr_generation[2], sel_function, \\\n",
    "                                       ranked_probabilities,gen_fitness, mutation_probability)\n",
    "        \n",
    "    #print('Evolutionary period ended')\n",
    "    return fittest, all_gens\n"
   ]
  },
  {
   "cell_type": "markdown",
   "metadata": {},
   "source": [
    "## Solution\n",
    "\n",
    "Solving by hand, we arrive at the following results:\n",
    "\n",
    "$$\n",
    "\\begin{array}{rcl}\n",
    "fitness & = & \\dfrac{1}{2 \\pi r^2 + \\frac{60}{r}}\\\\\n",
    "\\dfrac{d(fitness)}{dr} & = & 4 \\pi r - \\frac{60}{r^2} > 0\\\\\n",
    "4 \\pi r & > & \\dfrac{60}{r^2}\\\\\\\\\n",
    "4 \\pi & > & \\dfrac{60}{r^3}\\\\\\\\\n",
    "\\dfrac{4 \\pi}{60} & > & \\dfrac{1}{r^3}\\\\\n",
    "\\end{array}\n",
    "$$\n",
    "\n",
    "where we get:\n",
    "\n",
    "$$\n",
    "\\begin{array}{rcl}\n",
    " r^3 & > & \\dfrac{60}{4 \\pi} = \\dfrac{15}{\\pi}\n",
    "\\end{array}\n",
    "$$\n",
    "\n",
    "finally:\n",
    "\n",
    "$$\n",
    "\\begin{array}{rcl}\n",
    "r_{att} & = & \\sqrt[3]{\\dfrac{15}{\\pi}} = 1.6841\n",
    "\\end{array}\n",
    "$$"
   ]
  },
  {
   "cell_type": "code",
   "execution_count": 34,
   "metadata": {},
   "outputs": [
    {
     "data": {
      "application/vnd.jupyter.widget-view+json": {
       "model_id": "b41a8915dd4e4256bd539e4a6693e6ec",
       "version_major": 2,
       "version_minor": 0
      },
      "text/plain": [
       "Selection Method:   0%|          | 0/3 [00:00<?, ?it/s]"
      ]
     },
     "metadata": {},
     "output_type": "display_data"
    },
    {
     "name": "stdout",
     "output_type": "stream",
     "text": [
      "Selection method: Random Selection\n"
     ]
    },
    {
     "data": {
      "application/vnd.jupyter.widget-view+json": {
       "model_id": "4a19c55f1f0145e99d52f98913914d7b",
       "version_major": 2,
       "version_minor": 0
      },
      "text/plain": [
       "Population iterations:   0%|          | 0/10 [00:00<?, ?it/s]"
      ]
     },
     "metadata": {},
     "output_type": "display_data"
    },
    {
     "name": "stdout",
     "output_type": "stream",
     "text": [
      "The best radius is: 1.6470588235294117 in generation:  499\n",
      "Time in seconds to complete iteration of Random Selection 5.9059929847717285 \n",
      "\n",
      "Selection method: Ranked Selection\n"
     ]
    },
    {
     "data": {
      "application/vnd.jupyter.widget-view+json": {
       "model_id": "47eff79be73d418289866c8b62414716",
       "version_major": 2,
       "version_minor": 0
      },
      "text/plain": [
       "Population iterations:   0%|          | 0/10 [00:00<?, ?it/s]"
      ]
     },
     "metadata": {},
     "output_type": "display_data"
    },
    {
     "name": "stdout",
     "output_type": "stream",
     "text": [
      "The best radius is: 1.6470588235294117 in generation:  499\n",
      "Time in seconds to complete iteration of Ranked Selection 14.080910921096802 \n",
      "\n",
      "Selection method: Wheel Selection\n"
     ]
    },
    {
     "data": {
      "application/vnd.jupyter.widget-view+json": {
       "model_id": "64d34e02d821446c94fb8a54e605c6ba",
       "version_major": 2,
       "version_minor": 0
      },
      "text/plain": [
       "Population iterations:   0%|          | 0/10 [00:00<?, ?it/s]"
      ]
     },
     "metadata": {},
     "output_type": "display_data"
    },
    {
     "name": "stdout",
     "output_type": "stream",
     "text": [
      "The best radius is: 1.6470588235294117 in generation:  10\n",
      "Time in seconds to complete iteration of Wheel Selection 22.548544883728027 \n",
      "\n"
     ]
    },
    {
     "data": {
      "application/vnd.jupyter.widget-view+json": {
       "model_id": "fcf942859bf243d2b69261f28d0c0e48",
       "version_major": 2,
       "version_minor": 0
      },
      "text/plain": [
       "Selection Method:   0%|          | 0/3 [00:00<?, ?it/s]"
      ]
     },
     "metadata": {},
     "output_type": "display_data"
    },
    {
     "name": "stdout",
     "output_type": "stream",
     "text": [
      "Selection method: Random Selection\n"
     ]
    },
    {
     "data": {
      "application/vnd.jupyter.widget-view+json": {
       "model_id": "5de963bf6eda4e8b8626e529a6b3d484",
       "version_major": 2,
       "version_minor": 0
      },
      "text/plain": [
       "Population iterations:   0%|          | 0/10 [00:00<?, ?it/s]"
      ]
     },
     "metadata": {},
     "output_type": "display_data"
    },
    {
     "name": "stdout",
     "output_type": "stream",
     "text": [
      "The best radius is: 1.6470588235294117 in generation:  499\n",
      "Time in seconds to complete iteration of Random Selection 5.894383192062378 \n",
      "\n",
      "Selection method: Ranked Selection\n"
     ]
    },
    {
     "data": {
      "application/vnd.jupyter.widget-view+json": {
       "model_id": "ae2de570b5f14ede947c1513412f8eaa",
       "version_major": 2,
       "version_minor": 0
      },
      "text/plain": [
       "Population iterations:   0%|          | 0/10 [00:00<?, ?it/s]"
      ]
     },
     "metadata": {},
     "output_type": "display_data"
    },
    {
     "name": "stdout",
     "output_type": "stream",
     "text": [
      "The best radius is: 1.6470588235294117 in generation:  29\n",
      "Time in seconds to complete iteration of Ranked Selection 13.827521085739136 \n",
      "\n",
      "Selection method: Wheel Selection\n"
     ]
    },
    {
     "data": {
      "application/vnd.jupyter.widget-view+json": {
       "model_id": "01e044f7eccf42159db5d70984120750",
       "version_major": 2,
       "version_minor": 0
      },
      "text/plain": [
       "Population iterations:   0%|          | 0/10 [00:00<?, ?it/s]"
      ]
     },
     "metadata": {},
     "output_type": "display_data"
    },
    {
     "name": "stdout",
     "output_type": "stream",
     "text": [
      "The best radius is: 1.6470588235294117 in generation:  30\n",
      "Time in seconds to complete iteration of Wheel Selection 21.491977214813232 \n",
      "\n"
     ]
    },
    {
     "data": {
      "application/vnd.jupyter.widget-view+json": {
       "model_id": "36a9601231ec47b89ec7dbd53d51c6b6",
       "version_major": 2,
       "version_minor": 0
      },
      "text/plain": [
       "Selection Method:   0%|          | 0/3 [00:00<?, ?it/s]"
      ]
     },
     "metadata": {},
     "output_type": "display_data"
    },
    {
     "name": "stdout",
     "output_type": "stream",
     "text": [
      "Selection method: Random Selection\n"
     ]
    },
    {
     "data": {
      "application/vnd.jupyter.widget-view+json": {
       "model_id": "a9610c826691418ab63851c6798cd9da",
       "version_major": 2,
       "version_minor": 0
      },
      "text/plain": [
       "Population iterations:   0%|          | 0/10 [00:00<?, ?it/s]"
      ]
     },
     "metadata": {},
     "output_type": "display_data"
    },
    {
     "name": "stdout",
     "output_type": "stream",
     "text": [
      "The best radius is: 1.6470588235294117 in generation:  499\n",
      "Time in seconds to complete iteration of Random Selection 5.835815906524658 \n",
      "\n",
      "Selection method: Ranked Selection\n"
     ]
    },
    {
     "data": {
      "application/vnd.jupyter.widget-view+json": {
       "model_id": "2d417ebfcfd04095921306ebdd2aceee",
       "version_major": 2,
       "version_minor": 0
      },
      "text/plain": [
       "Population iterations:   0%|          | 0/10 [00:00<?, ?it/s]"
      ]
     },
     "metadata": {},
     "output_type": "display_data"
    },
    {
     "name": "stdout",
     "output_type": "stream",
     "text": [
      "The best radius is: 1.6470588235294117 in generation:  499\n",
      "Time in seconds to complete iteration of Ranked Selection 13.711902141571045 \n",
      "\n",
      "Selection method: Wheel Selection\n"
     ]
    },
    {
     "data": {
      "application/vnd.jupyter.widget-view+json": {
       "model_id": "dfdd88b0c3b046578cd95009acc9cae0",
       "version_major": 2,
       "version_minor": 0
      },
      "text/plain": [
       "Population iterations:   0%|          | 0/10 [00:00<?, ?it/s]"
      ]
     },
     "metadata": {},
     "output_type": "display_data"
    },
    {
     "name": "stdout",
     "output_type": "stream",
     "text": [
      "The best radius is: 1.6470588235294117 in generation:  498\n",
      "Time in seconds to complete iteration of Wheel Selection 21.48758602142334 \n",
      "\n"
     ]
    },
    {
     "data": {
      "application/vnd.jupyter.widget-view+json": {
       "model_id": "9365bd8280ce44e587b202cea1b1a387",
       "version_major": 2,
       "version_minor": 0
      },
      "text/plain": [
       "Selection Method:   0%|          | 0/3 [00:00<?, ?it/s]"
      ]
     },
     "metadata": {},
     "output_type": "display_data"
    },
    {
     "name": "stdout",
     "output_type": "stream",
     "text": [
      "Selection method: Random Selection\n"
     ]
    },
    {
     "data": {
      "application/vnd.jupyter.widget-view+json": {
       "model_id": "9c878a791597496396059eff7248d9c3",
       "version_major": 2,
       "version_minor": 0
      },
      "text/plain": [
       "Population iterations:   0%|          | 0/10 [00:00<?, ?it/s]"
      ]
     },
     "metadata": {},
     "output_type": "display_data"
    },
    {
     "name": "stdout",
     "output_type": "stream",
     "text": [
      "The best radius is: 1.6470588235294117 in generation:  499\n",
      "Time in seconds to complete iteration of Random Selection 5.840784311294556 \n",
      "\n",
      "Selection method: Ranked Selection\n"
     ]
    },
    {
     "data": {
      "application/vnd.jupyter.widget-view+json": {
       "model_id": "452cf5f978af43439a363ff33360eb26",
       "version_major": 2,
       "version_minor": 0
      },
      "text/plain": [
       "Population iterations:   0%|          | 0/10 [00:00<?, ?it/s]"
      ]
     },
     "metadata": {},
     "output_type": "display_data"
    },
    {
     "name": "stdout",
     "output_type": "stream",
     "text": [
      "The best radius is: 1.6470588235294117 in generation:  499\n",
      "Time in seconds to complete iteration of Ranked Selection 14.097009897232056 \n",
      "\n",
      "Selection method: Wheel Selection\n"
     ]
    },
    {
     "data": {
      "application/vnd.jupyter.widget-view+json": {
       "model_id": "101be872353843379591f7f54ca0c4bd",
       "version_major": 2,
       "version_minor": 0
      },
      "text/plain": [
       "Population iterations:   0%|          | 0/10 [00:00<?, ?it/s]"
      ]
     },
     "metadata": {},
     "output_type": "display_data"
    },
    {
     "name": "stdout",
     "output_type": "stream",
     "text": [
      "The best radius is: 1.6470588235294117 in generation:  499\n",
      "Time in seconds to complete iteration of Wheel Selection 21.669672966003418 \n",
      "\n"
     ]
    },
    {
     "data": {
      "application/vnd.jupyter.widget-view+json": {
       "model_id": "3149d1713d6f4e5186dac0f2ca8ef742",
       "version_major": 2,
       "version_minor": 0
      },
      "text/plain": [
       "Selection Method:   0%|          | 0/3 [00:00<?, ?it/s]"
      ]
     },
     "metadata": {},
     "output_type": "display_data"
    },
    {
     "name": "stdout",
     "output_type": "stream",
     "text": [
      "Selection method: Random Selection\n"
     ]
    },
    {
     "data": {
      "application/vnd.jupyter.widget-view+json": {
       "model_id": "89fc0d0b86334941b46ca88253d35836",
       "version_major": 2,
       "version_minor": 0
      },
      "text/plain": [
       "Population iterations:   0%|          | 0/10 [00:00<?, ?it/s]"
      ]
     },
     "metadata": {},
     "output_type": "display_data"
    },
    {
     "name": "stdout",
     "output_type": "stream",
     "text": [
      "The best radius is: 1.6470588235294117 in generation:  499\n",
      "Time in seconds to complete iteration of Random Selection 5.875827074050903 \n",
      "\n",
      "Selection method: Ranked Selection\n"
     ]
    },
    {
     "data": {
      "application/vnd.jupyter.widget-view+json": {
       "model_id": "ef574cb0b7614206a9e21d9157c0a801",
       "version_major": 2,
       "version_minor": 0
      },
      "text/plain": [
       "Population iterations:   0%|          | 0/10 [00:00<?, ?it/s]"
      ]
     },
     "metadata": {},
     "output_type": "display_data"
    },
    {
     "name": "stdout",
     "output_type": "stream",
     "text": [
      "The best radius is: 1.6470588235294117 in generation:  498\n",
      "Time in seconds to complete iteration of Ranked Selection 14.282212257385254 \n",
      "\n",
      "Selection method: Wheel Selection\n"
     ]
    },
    {
     "data": {
      "application/vnd.jupyter.widget-view+json": {
       "model_id": "83f3f3f94cfa499ea78ea4df4f6c9ffc",
       "version_major": 2,
       "version_minor": 0
      },
      "text/plain": [
       "Population iterations:   0%|          | 0/10 [00:00<?, ?it/s]"
      ]
     },
     "metadata": {},
     "output_type": "display_data"
    },
    {
     "name": "stdout",
     "output_type": "stream",
     "text": [
      "The best radius is: 1.6470588235294117 in generation:  498\n",
      "Time in seconds to complete iteration of Wheel Selection 21.69484305381775 \n",
      "\n",
      "Time in seconds to complete entire cycle: 208.24669909477234 \n",
      "\n",
      "The best radius is: [[[0.01870081198259601, 1.6470588235294117, '01110000'], 499], 'Wheel Selection']\n"
     ]
    }
   ],
   "source": [
    "#Initialing all hyperparameters\n",
    "pop_size = 100\n",
    "pop_range_steps = 10\n",
    "max_generations = 500\n",
    "#gen_range_steps = 50\n",
    "\n",
    "#mutation\n",
    "mutation_list = [0,1, 10, 50, 100]\n",
    "mutation_rate = 0.001\n",
    "\n",
    "\n",
    "n=8 #step:0.1176 if we work in range [0,30]\n",
    "max_radius=30\n",
    "selection_methods = [[random_choice, 'Random Selection'],\\\n",
    "                    [ranked_choice, 'Ranked Selection'],\\\n",
    "                    [wheel_selection, 'Wheel Selection']]\n",
    "\n",
    "best_overall = []\n",
    "all_generations = []\n",
    "\n",
    "#initialising dict for all vals\n",
    "all_gens_dict = {\n",
    "        'radius'        :   [],\n",
    "        'generation'    :   [],\n",
    "        'fitness'       :   [], \n",
    "        'selection_type':   [], \n",
    "        'pop_size'      :   [],\n",
    "        'mutation'      :   []    \n",
    "    }\n",
    "\n",
    "start_total = time.time()\n",
    "start_local = time.time()\n",
    "\n",
    "for mutation_el in mutation_list: \n",
    "    #for loop for different mutation rates\n",
    "    mutation_probability = mutation_el * mutation_rate\n",
    "    for selectionMethod in tqdm(selection_methods, desc='Selection Method'): \n",
    "        #for loop for different selection methods\n",
    "        print(f'Selection method: {selectionMethod[1]}')\n",
    "        for pop_length in tqdm(range(pop_range_steps,pop_size+1, 10), desc='Population iterations'):\n",
    "            #for loop for different population sizes\n",
    "            ranked_probability = ranked_probabilities(pop_length)\n",
    "            best_of_each_gen, all_gens = digi_evolve(pop_length, max_generations, max_radius, n, \\\n",
    "                                                     selectionMethod, ranked_probability, all_gens_dict, mutation_probability)\n",
    "\n",
    "        print('The best radius is:', max(best_of_each_gen)[0][1], 'in generation: ',max(best_of_each_gen)[1])\n",
    "\n",
    "        best_overall.append([max(best_of_each_gen), selectionMethod[1]])\n",
    "    \n",
    "\n",
    "        end_local = time.time()\n",
    "        print('Time in seconds to complete iteration of', selectionMethod[1] ,end_local - start_local, '\\n')\n",
    "        start_local = time.time()\n",
    "\n",
    "\n",
    "end_total = time.time()\n",
    "print('Time in seconds to complete entire cycle:',end_total - start_total, '\\n')\n",
    "\n",
    "print('The best radius is:', max(best_overall))\n",
    "\n",
    "\n"
   ]
  },
  {
   "cell_type": "code",
   "execution_count": 35,
   "metadata": {},
   "outputs": [
    {
     "name": "stdout",
     "output_type": "stream",
     "text": [
      "Data saved successfully\n"
     ]
    }
   ],
   "source": [
    "#Save object for Data Analysis\n",
    "fileObj = open('data_algos.pkl', 'wb')\n",
    "pickle.dump(all_gens,fileObj)\n",
    "fileObj.close()\n",
    "print('Data saved successfully')"
   ]
  },
  {
   "cell_type": "code",
   "execution_count": 36,
   "metadata": {},
   "outputs": [
    {
     "ename": "TypeError",
     "evalue": "digi_evolve() missing 3 required positional arguments: 'ranked_probabilities', 'all_gens', and 'mutation_probability'",
     "output_type": "error",
     "traceback": [
      "\u001b[0;31m---------------------------------------------------------------------------\u001b[0m",
      "\u001b[0;31mTypeError\u001b[0m                                 Traceback (most recent call last)",
      "\u001b[0;32m/var/folders/xn/6c40rndj1g30kwpf95_kxx0r0000gn/T/ipykernel_49085/618309666.py\u001b[0m in \u001b[0;36m<module>\u001b[0;34m\u001b[0m\n\u001b[1;32m      6\u001b[0m \u001b[0mresults\u001b[0m\u001b[0;34m=\u001b[0m\u001b[0;34m[\u001b[0m\u001b[0;34m]\u001b[0m\u001b[0;34m\u001b[0m\u001b[0;34m\u001b[0m\u001b[0m\n\u001b[1;32m      7\u001b[0m \u001b[0;32mfor\u001b[0m \u001b[0mk\u001b[0m \u001b[0;32min\u001b[0m \u001b[0mbits\u001b[0m\u001b[0;34m:\u001b[0m\u001b[0;34m\u001b[0m\u001b[0;34m\u001b[0m\u001b[0m\n\u001b[0;32m----> 8\u001b[0;31m     \u001b[0mbest_of_each_gen\u001b[0m \u001b[0;34m=\u001b[0m \u001b[0mdigi_evolve\u001b[0m\u001b[0;34m(\u001b[0m\u001b[0mpop_size\u001b[0m\u001b[0;34m,\u001b[0m \u001b[0mmax_generations\u001b[0m\u001b[0;34m,\u001b[0m \u001b[0mmax_radius\u001b[0m\u001b[0;34m,\u001b[0m \u001b[0mk\u001b[0m\u001b[0;34m,\u001b[0m \u001b[0;34m[\u001b[0m\u001b[0mwheel_selection\u001b[0m\u001b[0;34m,\u001b[0m \u001b[0;34m'Wheel Selection'\u001b[0m\u001b[0;34m]\u001b[0m\u001b[0;34m)\u001b[0m\u001b[0;34m\u001b[0m\u001b[0;34m\u001b[0m\u001b[0m\n\u001b[0m\u001b[1;32m      9\u001b[0m     \u001b[0mresults\u001b[0m\u001b[0;34m.\u001b[0m\u001b[0mappend\u001b[0m\u001b[0;34m(\u001b[0m\u001b[0mmax\u001b[0m\u001b[0;34m(\u001b[0m\u001b[0mbest_of_each_gen\u001b[0m\u001b[0;34m[\u001b[0m\u001b[0;36m0\u001b[0m\u001b[0;34m]\u001b[0m\u001b[0;34m)\u001b[0m\u001b[0;34m)\u001b[0m\u001b[0;34m\u001b[0m\u001b[0;34m\u001b[0m\u001b[0m\n\u001b[1;32m     10\u001b[0m \u001b[0mprint\u001b[0m\u001b[0;34m(\u001b[0m\u001b[0mresults\u001b[0m\u001b[0;34m)\u001b[0m\u001b[0;34m\u001b[0m\u001b[0;34m\u001b[0m\u001b[0m\n",
      "\u001b[0;31mTypeError\u001b[0m: digi_evolve() missing 3 required positional arguments: 'ranked_probabilities', 'all_gens', and 'mutation_probability'"
     ]
    }
   ],
   "source": [
    "#Testing with different n\n",
    "bits=range(7,15,1)\n",
    "pop_size=10\n",
    "max_generation=10\n",
    "max_radius=30\n",
    "results=[]\n",
    "for k in bits:\n",
    "    best_of_each_gen = digi_evolve(pop_size, max_generations, max_radius, k, [wheel_selection, 'Wheel Selection'])\n",
    "    results.append(max(best_of_each_gen[0]))\n",
    "print(results)"
   ]
  }
 ],
 "metadata": {
  "kernelspec": {
   "display_name": "ml",
   "language": "python",
   "name": "python3"
  },
  "language_info": {
   "codemirror_mode": {
    "name": "ipython",
    "version": 3
   },
   "file_extension": ".py",
   "mimetype": "text/x-python",
   "name": "python",
   "nbconvert_exporter": "python",
   "pygments_lexer": "ipython3",
   "version": "3.9.2"
  }
 },
 "nbformat": 4,
 "nbformat_minor": 2
}
