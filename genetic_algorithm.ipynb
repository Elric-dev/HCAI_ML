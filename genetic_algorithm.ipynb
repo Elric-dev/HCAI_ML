{
 "cells": [
  {
   "cell_type": "markdown",
   "metadata": {},
   "source": [
    "<h1>Exploiting Genetic Algorithms for Optimisation </h1>\n",
    "<br>\n",
    "\n",
    "<h2> The problem</h2>\n",
    "We need to make cylindrical containers with fixed volume 30 cubic cm so that, given the diameter you can figure out its height, minimizing the building material. \n",
    "This mathematically simple minimization problem could be solved with a genetic algorithm driven by the diameter (or radius) that must always be positive. The rest of the problem definition is up to you. "
   ]
  },
  {
   "cell_type": "code",
   "execution_count": 2,
   "metadata": {},
   "outputs": [],
   "source": [
    "# Install dependencies\n",
    "import math\n",
    "import numpy as np"
   ]
  },
  {
   "cell_type": "code",
   "execution_count": 7,
   "metadata": {},
   "outputs": [],
   "source": [
    "#1. Define function to minimise\n",
    "def height (d):\n",
    "    r = d/2\n",
    "    pi = math.pi\n",
    "    #volume = pi * (r**2) * h\n",
    "    h = 30/(pi*(r**2))\n",
    "    return h\n",
    "\n",
    "#2. Define Fitness\n",
    "def fitness (d):\n",
    "    answer = height(d)\n",
    "\n",
    "    if answer == 30:\n",
    "        return 9999999\n",
    "    else:\n",
    "        return abs(1/(answer-30))\n",
    "    \n",
    "#3. Define selection methods\n",
    "def ranked_fitness (current_generation):\n",
    "    ranked_solutions = []\n",
    "    for el in current_generation:\n",
    "        ranked_solutions.append(fitness(el[0],el[1], el))\n",
    "    ranked_solutions.sort()\n",
    "    ranked_solutions.reverse()\n",
    "    return ranked_solutions\n",
    "\n",
    "#4. Define reproduction method\n",
    "\n",
    "    "
   ]
  },
  {
   "cell_type": "code",
   "execution_count": null,
   "metadata": {},
   "outputs": [],
   "source": [
    "#3. Initial Hyperparameters\n",
    "pop_size = 100\n",
    "max_generations = 1000\n",
    "\n",
    "\n",
    "#4. Start with generation zero\n",
    "elements = []\n",
    "for i in range(pop_size):\n",
    "    elements.append((np.random.randint(10000), np.random.randint(10000)))\n",
    "\n",
    "print(elements[:5])"
   ]
  },
  {
   "cell_type": "code",
   "execution_count": null,
   "metadata": {},
   "outputs": [],
   "source": [
    "#5. New generation iterations\n",
    "fittest = []\n",
    "for i in range(max_generations):\n",
    "    ranked_fit = ranked_fitness(elements)\n",
    "    \n",
    "    "
   ]
  },
  {
   "cell_type": "code",
   "execution_count": null,
   "metadata": {},
   "outputs": [],
   "source": [
    "\"\"\"\n",
    "Genetic Algorithm implementation of finding coefficients of a polynomial\n",
    "3.0 - 4.3 * x + 5.9 * x ** 2 - 5.2 * x ** 3 + 1.0 * x ** 4 = 0\n",
    "\"\"\"\n",
    "\n",
    "#%% import modules\n",
    "import numpy as np\n",
    "import matplotlib.pyplot as plt\n",
    "from copy import deepcopy\n",
    "\n",
    "# np.set_printoptions(linewidth=np.inf)\n",
    "\n",
    "\n",
    "#%% define a function to return the polynomial\n",
    "def poly(x):\n",
    "    return 3.0 - 4.3 * x + 5.9 * x ** 2 - 5.2 * x ** 3 + 1.0 * x ** 4\n",
    "\n",
    "\n",
    "def gen_poly(array, x):\n",
    "    return (\n",
    "        array[0]\n",
    "        + array[1] * x\n",
    "        + array[2] * x ** 2\n",
    "        + array[3] * x ** 3\n",
    "        + array[4] * x ** 4\n",
    "    )\n",
    "\n",
    "\n",
    "#%% define function to measure fitness\n",
    "### takes an array as input and fills the last column with fitness values\n",
    "### take care to always keep one column for fitness values in starting array\n",
    "### output is an array sorted by fitness\n",
    "def fitness(array):\n",
    "    # set initial values\n",
    "    initial = np.array(\n",
    "        [\n",
    "            [-5, 1447.0],\n",
    "            [-4, 703.4],\n",
    "            [-3, 290.4],\n",
    "            [-2, 92.8],\n",
    "            [-1, 19.4],\n",
    "            [0, 3],\n",
    "            [1, 0.4],\n",
    "            [2, -7.6],\n",
    "            [3, -16.2],\n",
    "            [4, 3.4],\n",
    "            [5, 104],\n",
    "        ]\n",
    "    )\n",
    "    # score is the total square deviation from initial. lower is better\n",
    "    for ind in array:\n",
    "        fitness = 0\n",
    "        for x, y in zip(initial[:, 0], initial[:, 1]):\n",
    "            fitness += (\n",
    "                (\n",
    "                    ind[0]\n",
    "                    + ind[1] * x\n",
    "                    + ind[2] * x ** 2\n",
    "                    + ind[3] * x ** 3\n",
    "                    + ind[4] * x ** 4\n",
    "                )\n",
    "                - y\n",
    "            ) ** 2\n",
    "        ind[5] = fitness\n",
    "    return array[array[:, 5].argsort()]\n",
    "\n",
    "\n",
    "#%% function to give non linear rank to sorted pool\n",
    "def nl_rank(array):\n",
    "    copy = deepcopy(array)\n",
    "    # normalization factor for selection pressure 3 and individuals 50\n",
    "    norm = 290.3359045831912\n",
    "    # setting ranks based on position in the pool\n",
    "    for i, j in enumerate(copy):\n",
    "        j[-1] = 50 * 1.06 ** (49 - i) / norm\n",
    "    return copy\n",
    "\n",
    "\n",
    "#%% define function to carry out stochastic universal sampling\n",
    "### takes non linear ranked array as input\n",
    "### output is list of selected individuals\n",
    "def sel_ind(nl_array):\n",
    "    copy = deepcopy(nl_array)\n",
    "    # normalize ranks\n",
    "    norm = sum(copy[:, -1])\n",
    "    copy[:, -1] = copy[:, -1] / norm\n",
    "\n",
    "    # map intervals on range [0, 1]\n",
    "    prob_list = list(copy[:, -1])\n",
    "    intervals = []\n",
    "    start = 0\n",
    "    for prob in prob_list:\n",
    "        end = start + prob\n",
    "        intervals.append((start, end))\n",
    "        start = end\n",
    "\n",
    "    # selecting 6 individuals from the intervals\n",
    "    rng = np.random.default_rng()\n",
    "    points = [rng.uniform(0, 1 / 5)]\n",
    "    for i in range(4):\n",
    "        points.append(points[-1] + 1 / 5)\n",
    "    index, i = [], 0\n",
    "    for point in points:\n",
    "        for j in range(i, len(intervals)):\n",
    "            if intervals[j][0] < point < intervals[j][1]:\n",
    "                index.append(j)\n",
    "                i = j\n",
    "                break\n",
    "    return index\n",
    "\n",
    "\n",
    "#%% define function to carry out mating. only unique pairings are considered\n",
    "### each mating gives 2 children\n",
    "def crossover(array, individuals):\n",
    "    rng = np.random.default_rng()\n",
    "    progeny = np.empty((0, 6))\n",
    "    for i in range(len(individuals) - 1):\n",
    "        for j in range(i + 1, len(individuals)):\n",
    "            mate1 = rng.uniform(-0.25, 1.25, [1, 5]).squeeze()\n",
    "            mate2 = rng.uniform(-0.25, 1.25, [1, 5]).squeeze()\n",
    "            mutation1 = rng.uniform(-0.025, 0.025, [1, 5]).squeeze()\n",
    "            mutation2 = rng.uniform(-0.025, 0.025, [1, 5]).squeeze()\n",
    "            baby1 = (\n",
    "                array[i, :5] * mate1 + array[j, :5] * (1 - mate1) + mutation1 * mate1\n",
    "            )\n",
    "            baby1 = np.append(baby1, 0)\n",
    "            progeny = np.append(progeny, [baby1], axis=0)\n",
    "            baby2 = (\n",
    "                array[j, :5] * mate2 + array[i, :5] * (1 - mate2) + mutation2 * mate2\n",
    "            )\n",
    "            baby2 = np.append(baby2, 0)\n",
    "            progeny = np.append(progeny, [baby2], axis=0)\n",
    "    return fitness(progeny)\n",
    "\n",
    "\n",
    "#%% helper function to print arrays to log\n",
    "def arr_print(arr, count):\n",
    "    print(f\"#loop_count = {count}\")\n",
    "    print(arr)\n",
    "\n",
    "\n",
    "#%% main\n",
    "if __name__ == \"__main__\":\n",
    "    # create rng instance\n",
    "    rng = np.random.default_rng()\n",
    "\n",
    "    # create parent pool\n",
    "    # parent pool has 5 columns for coefficients and one for fitness\n",
    "    pool = rng.uniform(-50, 50, [50, 6])\n",
    "\n",
    "    # measure fitness of each parent and sort in decreasing order of fitness\n",
    "    pool = fitness(pool)\n",
    "    starting_fitness = pool[0, 5]\n",
    "\n",
    "    # plotting the original curve\n",
    "    plt.ion()\n",
    "    fig, ax = plt.subplots()\n",
    "    x = np.linspace(-5, 5, 200)\n",
    "    ax.plot(x, poly(x), \"r\", lw=1, label=\"Original\")\n",
    "    ax.set_xlabel(\"X axis\")\n",
    "    ax.set_ylabel(\"Y axis\")\n",
    "    ax.set_ylim(-1000, 1000)\n",
    "    ax.set_title(\"Comparision of curves\")\n",
    "    ax.legend()\n",
    "\n",
    "    loop_count = 1\n",
    "\n",
    "    while True:\n",
    "        # plotting\n",
    "        if loop_count == 1:\n",
    "            ax.plot(x, gen_poly(pool[0, :], x), lw=1, label=f\"Iteration = {loop_count}\")\n",
    "            ax.legend()\n",
    "            fig.canvas.draw()\n",
    "            plt.pause(0.0001)\n",
    "            # arr_print(pool, loop_count)\n",
    "        elif loop_count % 100 == 0:\n",
    "            ax.plot(x, gen_poly(pool[0, :], x), lw=0.25, ls=\"solid\")\n",
    "            fig.canvas.draw()\n",
    "            plt.pause(0.0000001)\n",
    "            # arr_print(pool, loop_count)\n",
    "        # add termination condition\n",
    "        elif pool[0, 5] < 0.005:\n",
    "            ax.plot(\n",
    "                x,\n",
    "                gen_poly(pool[0, :], x),\n",
    "                \"k\",\n",
    "                lw=1.5,\n",
    "                label=f\"Iteration = {loop_count}\",\n",
    "            )\n",
    "            ax.set_xlim(-2, 5)\n",
    "            ax.set_ylim(-40, 75)\n",
    "            ax.legend()\n",
    "            fig.canvas.draw()\n",
    "            plt.pause(0.001)\n",
    "            # arr_print(pool, loop_count)\n",
    "            break\n",
    "        # rank parents based on non linear ranking\n",
    "        ranked = nl_rank(pool)\n",
    "\n",
    "        # select individuals\n",
    "        individuals = sel_ind(ranked)\n",
    "\n",
    "        # create progeny\n",
    "        progeny = crossover(ranked, individuals)\n",
    "\n",
    "        # remove 20 worst individuals from pool\n",
    "        pool = np.delete(pool, np.s_[-20:], axis=0)\n",
    "\n",
    "        # add progeny to the new pool\n",
    "        pool = np.vstack((pool, progeny[:20, :]))\n",
    "\n",
    "        # sort pool according to fitness\n",
    "        pool = pool[pool[:, 5].argsort()]\n",
    "\n",
    "        loop_count += 1\n",
    "\n",
    "    print(starting_fitness, pool[0, 5])\n"
   ]
  },
  {
   "cell_type": "code",
   "execution_count": 9,
   "metadata": {},
   "outputs": [
    {
     "name": "stdout",
     "output_type": "stream",
     "text": [
      "Generation:  0\n"
     ]
    },
    {
     "name": "stderr",
     "output_type": "stream",
     "text": [
      "100%|██████████| 1000/1000 [00:00<00:00, 1439.90it/s]\n"
     ]
    },
    {
     "name": "stdout",
     "output_type": "stream",
     "text": [
      "Error:  0.03172091743311806 COD:  -28.33271628318752\n",
      "Generation:  1\n"
     ]
    },
    {
     "name": "stderr",
     "output_type": "stream",
     "text": [
      "100%|██████████| 1000/1000 [00:00<00:00, 1445.27it/s]\n"
     ]
    },
    {
     "name": "stdout",
     "output_type": "stream",
     "text": [
      "Error:  0.016271198959333624 COD:  34.17191781926964\n",
      "Generation:  2\n"
     ]
    },
    {
     "name": "stderr",
     "output_type": "stream",
     "text": [
      "100%|██████████| 1000/1000 [00:00<00:00, 1392.71it/s]\n"
     ]
    },
    {
     "name": "stdout",
     "output_type": "stream",
     "text": [
      "Error:  0.005471235080479471 COD:  77.86512761548533\n",
      "Generation:  3\n"
     ]
    },
    {
     "name": "stderr",
     "output_type": "stream",
     "text": [
      "100%|██████████| 1000/1000 [00:00<00:00, 1403.14it/s]\n"
     ]
    },
    {
     "name": "stdout",
     "output_type": "stream",
     "text": [
      "Error:  0.0045575275650925505 COD:  81.56169684571644\n",
      "Generation:  4\n"
     ]
    },
    {
     "name": "stderr",
     "output_type": "stream",
     "text": [
      "100%|██████████| 1000/1000 [00:00<00:00, 1421.80it/s]\n"
     ]
    },
    {
     "name": "stdout",
     "output_type": "stream",
     "text": [
      "Error:  0.0015907059611830429 COD:  93.56451094969442\n",
      "Generation:  5\n"
     ]
    },
    {
     "name": "stderr",
     "output_type": "stream",
     "text": [
      "100%|██████████| 1000/1000 [00:00<00:00, 1438.24it/s]\n"
     ]
    },
    {
     "name": "stdout",
     "output_type": "stream",
     "text": [
      "Error:  0.0013164670771650564 COD:  94.67399402094236\n",
      "Generation:  6\n"
     ]
    },
    {
     "name": "stderr",
     "output_type": "stream",
     "text": [
      "100%|██████████| 1000/1000 [00:00<00:00, 1440.17it/s]\n"
     ]
    },
    {
     "name": "stdout",
     "output_type": "stream",
     "text": [
      "Error:  0.0009695213327041714 COD:  96.07762586366682\n",
      "Generation:  7\n"
     ]
    },
    {
     "name": "stderr",
     "output_type": "stream",
     "text": [
      "100%|██████████| 1000/1000 [00:00<00:00, 1439.53it/s]\n"
     ]
    },
    {
     "name": "stdout",
     "output_type": "stream",
     "text": [
      "Error:  0.0004778398130785059 COD:  98.0668124971508\n",
      "Generation:  8\n"
     ]
    },
    {
     "name": "stderr",
     "output_type": "stream",
     "text": [
      "100%|██████████| 1000/1000 [00:00<00:00, 1433.18it/s]\n"
     ]
    },
    {
     "name": "stdout",
     "output_type": "stream",
     "text": [
      "Error:  0.00040211593821223136 COD:  98.3731671468726\n",
      "Generation:  9\n"
     ]
    },
    {
     "name": "stderr",
     "output_type": "stream",
     "text": [
      "100%|██████████| 1000/1000 [00:00<00:00, 1434.97it/s]\n"
     ]
    },
    {
     "name": "stdout",
     "output_type": "stream",
     "text": [
      "Error:  0.00040866934705899945 COD:  98.3466541445298\n",
      "Generation:  10\n"
     ]
    },
    {
     "name": "stderr",
     "output_type": "stream",
     "text": [
      "100%|██████████| 1000/1000 [00:00<00:00, 1437.58it/s]\n"
     ]
    },
    {
     "name": "stdout",
     "output_type": "stream",
     "text": [
      "Error:  0.0002478626374403543 COD:  98.99722681114433\n",
      "Generation:  11\n"
     ]
    },
    {
     "name": "stderr",
     "output_type": "stream",
     "text": [
      "100%|██████████| 1000/1000 [00:00<00:00, 1431.24it/s]\n"
     ]
    },
    {
     "name": "stdout",
     "output_type": "stream",
     "text": [
      "Error:  0.0002478626374403543 COD:  98.99722681114433\n",
      "Generation:  12\n"
     ]
    },
    {
     "name": "stderr",
     "output_type": "stream",
     "text": [
      "100%|██████████| 1000/1000 [00:00<00:00, 1432.78it/s]\n"
     ]
    },
    {
     "name": "stdout",
     "output_type": "stream",
     "text": [
      "Error:  0.00015546699482728326 COD:  99.37103011662143\n",
      "Generation:  13\n"
     ]
    },
    {
     "name": "stderr",
     "output_type": "stream",
     "text": [
      "100%|██████████| 1000/1000 [00:00<00:00, 1434.79it/s]\n"
     ]
    },
    {
     "name": "stdout",
     "output_type": "stream",
     "text": [
      "Error:  0.00015546699482728326 COD:  99.37103011662143\n",
      "{'COD': 99.37103011662143, 'error': 0.00015546699482728326, 'coeff': [0.3900647396485527, -0.2685295123111946, 0.18580058536812183, -0.09314616266543319]}\n"
     ]
    }
   ],
   "source": [
    "from random import random, sample, choice\n",
    "from math import floor\n",
    "from tqdm import tqdm\n",
    "from numpy import array, dot, mean\n",
    "from numpy.linalg import pinv\n",
    "from sys import exit\n",
    "\n",
    "\n",
    "def generate_data():\n",
    "    \"\"\"\n",
    "    We will generate data with a clear pattern.\n",
    "    This ensures we have an idea of the desired result.\n",
    "    This is only for demonstration purposes, real data is needed in practice.\n",
    "    \"\"\"\n",
    "    coeff = [0.4, -0.3, 0.2, -0.1]\n",
    "    x = [[random() for j in range(len(coeff))] for i in range(1000)]\n",
    "    y = [dot(i, coeff) for i in x]\n",
    "    return array(x), array(y)\n",
    "\n",
    "\n",
    "def multiple_linear_regression(inputs, outputs):\n",
    "    \"\"\"\n",
    "    Get the best expected outcome.\n",
    "    This is expected to equal the coefficients in generate_data().\n",
    "    \"\"\"\n",
    "    X, Y = array(inputs), array(outputs)\n",
    "    X_t, Y_t = X.transpose(), Y.transpose()\n",
    "    coeff = dot((pinv((dot(X_t, X)))), (dot(X_t, Y)))\n",
    "    Y_p = dot(X, coeff)\n",
    "    Y_mean = mean(Y)\n",
    "    SST = array([(i - Y_mean) ** 2 for i in Y]).sum()\n",
    "    SSR = array([(i - j) ** 2 for i, j in zip(Y, Y_p)]).sum()\n",
    "    COD = (1 - (SSR / SST)) * 100.0\n",
    "    av_error = (SSR / len(Y))\n",
    "    return {'COD': COD, 'coeff': coeff, 'error': av_error}\n",
    "\n",
    "\n",
    "def check_termination_condition(best_individual):\n",
    "    \"\"\"\n",
    "    Check if the current_best_individual is better of equal to the expected.\n",
    "    \"\"\"\n",
    "    if ((best_individual['COD'] >= 99.0)\n",
    "            or (generation_count == max_generations)):\n",
    "        return True\n",
    "    else:\n",
    "        return False\n",
    "\n",
    "\n",
    "def create_individual(individual_size):\n",
    "    \"\"\"\n",
    "    Create an individual.\n",
    "    \"\"\"\n",
    "    return [random() for i in range(individual_size)]\n",
    "\n",
    "\n",
    "def create_population(individual_size, population_size):\n",
    "    \"\"\"\n",
    "    Create an initial population.\n",
    "    \"\"\"\n",
    "    return [create_individual(individual_size) for i in range(population_size)]\n",
    "\n",
    "\n",
    "def get_fitness(individual, inputs):\n",
    "    \"\"\"\n",
    "    Calculate the fitness of an individual.\n",
    "    Return the Coefficient of Determination, average error and weight.\n",
    "    We use the error to get the best individual.\n",
    "    \"\"\"\n",
    "    predicted_outputs = dot(array(inputs), array(individual))\n",
    "    output_mean = mean(outputs)\n",
    "    SST = array(\n",
    "        [(i - output_mean) ** 2 for i in outputs]).sum()\n",
    "    SSR = array(\n",
    "        [(i - j) ** 2 for i, j in zip(outputs, predicted_outputs)]).sum()\n",
    "    COD = (1 - (SSR / SST)) * 100.0\n",
    "    av_error = (SSR / len(outputs))\n",
    "    return {'COD': COD, 'error': av_error, 'coeff': individual}\n",
    "\n",
    "\n",
    "def evaluate_population(population):\n",
    "    \"\"\"\n",
    "    Evaluate a population of individuals and return the best among them.\n",
    "    \"\"\"\n",
    "    fitness_list = [get_fitness(individual, inputs)\n",
    "                    for individual in tqdm(population)]\n",
    "    error_list = sorted(fitness_list, key=lambda i: i['error'])\n",
    "    best_individuals = error_list[: selection_size]\n",
    "    best_individuals_stash.append(best_individuals[0]['coeff'])\n",
    "    print('Error: ', best_individuals[0]['error'],\n",
    "          'COD: ', best_individuals[0]['COD'])\n",
    "    return best_individuals\n",
    "\n",
    "\n",
    "def crossover(parent_1, parent_2):\n",
    "    \"\"\"\n",
    "    Return offspring given two parents.\n",
    "    Unlike real scenarios, genes in the chromosomes aren't necessarily linked.\n",
    "    \"\"\"\n",
    "    child = {}\n",
    "    loci = [i for i in range(0, individual_size)]\n",
    "    loci_1 = sample(loci, floor(0.5*(individual_size)))\n",
    "    loci_2 = [i for i in loci if i not in loci_1]\n",
    "    chromosome_1 = [[i, parent_1['coeff'][i]] for i in loci_1]\n",
    "    chromosome_2 = [[i, parent_2['coeff'][i]] for i in loci_2]\n",
    "    child.update({key: value for (key, value) in chromosome_1})\n",
    "    child.update({key: value for (key, value) in chromosome_2})\n",
    "    return [child[i] for i in loci]\n",
    "\n",
    "\n",
    "def mutate(individual):\n",
    "    \"\"\"\n",
    "    Mutate an individual.\n",
    "    The gene transform decides whether we'll add or deduct a random value.\n",
    "    \"\"\"\n",
    "    loci = [i for i in range(0, individual_size)]\n",
    "    no_of_genes_mutated = floor(probability_of_gene_mutating*individual_size)\n",
    "    loci_to_mutate = sample(loci, no_of_genes_mutated)\n",
    "    for locus in loci_to_mutate:\n",
    "        gene_transform = choice([-1, 1])\n",
    "        change = gene_transform*random()\n",
    "        individual[locus] = individual[locus] + change\n",
    "    return individual\n",
    "\n",
    "\n",
    "def get_new_generation(selected_individuals):\n",
    "    \"\"\"\n",
    "    Given selected individuals, create a new population by mating them.\n",
    "    Here we also apply variation operations like mutation and crossover.\n",
    "    \"\"\"\n",
    "    parent_pairs = [sample(selected_individuals, 2)\n",
    "                    for i in range(population_size)]\n",
    "    offspring = [crossover(pair[0], pair[1]) for pair in parent_pairs]\n",
    "    offspring_indices = [i for i in range(population_size)]\n",
    "    offspring_to_mutate = sample(\n",
    "        offspring_indices,\n",
    "        floor(probability_of_individual_mutating*population_size)\n",
    "    )\n",
    "    mutated_offspring = [[i, mutate(offspring[i])]\n",
    "                         for i in offspring_to_mutate]\n",
    "    for child in mutated_offspring:\n",
    "        offspring[child[0]] = child[1]\n",
    "    return offspring\n",
    "\n",
    "inputs, outputs = generate_data()\n",
    "individual_size = len(inputs[0])\n",
    "population_size = 1000\n",
    "selection_size = floor(0.1*population_size)\n",
    "max_generations = 50\n",
    "probability_of_individual_mutating = 0.1\n",
    "probability_of_gene_mutating = 0.25\n",
    "best_possible = multiple_linear_regression(inputs, outputs)\n",
    "best_individuals_stash = [create_individual(individual_size)]\n",
    "initial_population = create_population(individual_size, 1000)\n",
    "current_population = initial_population\n",
    "termination = False\n",
    "generation_count = 0\n",
    "while termination is False:\n",
    "    current_best_individual = get_fitness(best_individuals_stash[-1], inputs)\n",
    "    print('Generation: ', generation_count)\n",
    "    best_individuals = evaluate_population(current_population)\n",
    "    current_population = get_new_generation(best_individuals)\n",
    "    termination = check_termination_condition(current_best_individual)\n",
    "    generation_count += 1\n",
    "else:\n",
    "    print(get_fitness(best_individuals_stash[-1], inputs))"
   ]
  }
 ],
 "metadata": {
  "kernelspec": {
   "display_name": "ml",
   "language": "python",
   "name": "python3"
  },
  "language_info": {
   "codemirror_mode": {
    "name": "ipython",
    "version": 3
   },
   "file_extension": ".py",
   "mimetype": "text/x-python",
   "name": "python",
   "nbconvert_exporter": "python",
   "pygments_lexer": "ipython3",
   "version": "3.9.2"
  }
 },
 "nbformat": 4,
 "nbformat_minor": 2
}
