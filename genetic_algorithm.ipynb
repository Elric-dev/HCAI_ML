{
 "cells": [
  {
   "cell_type": "markdown",
   "metadata": {},
   "source": [
    "<h1>Exploiting Genetic Algorithms for Optimisation </h1>\n",
    "<br>\n",
    "\n",
    "<h2> The problem</h2>\n",
    "We need to make cylindrical containers with fixed volume 30 cubic cm so that, given the diameter you can figure out its height, minimizing the building material. \n",
    "This mathematically simple minimization problem could be solved with a genetic algorithm driven by the diameter (or radius) that must always be positive. The rest of the problem definition is up to you. "
   ]
  },
  {
   "cell_type": "code",
   "execution_count": 26,
   "metadata": {},
   "outputs": [],
   "source": [
    "#!pip install -r requirements.txt"
   ]
  },
  {
   "cell_type": "code",
   "execution_count": 27,
   "metadata": {},
   "outputs": [],
   "source": [
    "# Install dependencies\n",
    "import math\n",
    "import numpy as np\n",
    "import time\n",
    "from tqdm.notebook import tqdm\n",
    "import pickle\n",
    "import random"
   ]
  },
  {
   "cell_type": "code",
   "execution_count": 28,
   "metadata": {},
   "outputs": [
    {
     "data": {
      "text/html": [
       "<style>\n",
       ".cell-output-ipywidget-background {\n",
       "    background-color: transparent !important;\n",
       "}\n",
       ":root {\n",
       "    --jp-widgets-color: var(--vscode-editor-foreground);\n",
       "    --jp-widgets-font-size: var(--vscode-editor-font-size);\n",
       "}  \n",
       "</style>\n"
      ],
      "text/plain": [
       "<IPython.core.display.HTML object>"
      ]
     },
     "metadata": {},
     "output_type": "display_data"
    }
   ],
   "source": [
    "%%html\n",
    "<style>\n",
    ".cell-output-ipywidget-background {\n",
    "    background-color: transparent !important;\n",
    "}\n",
    ":root {\n",
    "    --jp-widgets-color: var(--vscode-editor-foreground);\n",
    "    --jp-widgets-font-size: var(--vscode-editor-font-size);\n",
    "}  \n",
    "</style>"
   ]
  },
  {
   "cell_type": "markdown",
   "metadata": {},
   "source": [
    "## Defining the Problem\n",
    "\n",
    "We need to optimise the building material of Cilinders of Volume = 30 cm<sup>3</sup>\n",
    "\n",
    "$$\n",
    "\\begin{array}{rcl}\n",
    "    Volume & = & \\pi r^2 h\\\\\n",
    "    h & = & \\frac{30}{\\pi r^2}\\\\\n",
    "    r & = & x\n",
    "\\end{array}\n",
    "\\newline\n",
    "$$\n",
    "\n",
    "In order to minimise the used material, we need to minimise the surface area. \n",
    "Thus we get the following equation, for $r > 0$:\n",
    "$$\n",
    "\\newline\n",
    "\\begin{array}{rcl}\n",
    "    Area & = & 2\\pi r^2 + 2\\pi h\\\\\n",
    "    & = & 2 \\pi r^2 + \\frac{60}{r}\\\\\n",
    "\\end{array}\n",
    "$$\n",
    "\n",
    "Then, our fitness equation is:\n",
    "$$\n",
    "\\begin{array}{rcl}\n",
    "fitness & = & \\dfrac{1}{Area}\\\\\n",
    "\\\\\n",
    "fitness & = & \\dfrac{1}{2 \\pi r^2 + \\frac{60}{r}}\n",
    "\n",
    "\\end{array}\n",
    "$$\n",
    "\n"
   ]
  },
  {
   "cell_type": "code",
   "execution_count": 29,
   "metadata": {},
   "outputs": [],
   "source": [
    "\n",
    "#1. Initial Hyperparameters\n",
    "np.random.seed(2023)\n",
    "\n",
    "#2. Define height given diameter\n",
    "def height (d):\n",
    "    ''' \n",
    "    Calculates ideal height given a diameter\n",
    "    Based on the cylinder volume equation: pi * (r**2) * h\n",
    "    Volume set to 30 as per instructions\n",
    "\n",
    "    Inputs:\n",
    "        d   :   Diameter -> type =  (int, float) \n",
    "\n",
    "    Outputs: \n",
    "        h   :   Height -> type = (float) \n",
    "    '''\n",
    "    r = d/2\n",
    "    pi = math.pi\n",
    "    #volume = pi * (r**2) * h\n",
    "    h = 30/(pi*(r**2))\n",
    "    return h\n",
    "\n",
    "#3. Define Fitness\n",
    "def fitness (r):\n",
    "    ''' \n",
    "    Calculates fitness of the proposed radius\n",
    "    Based on the fitness equation: 1/(2 * (pi) * (r**2) + (60/r))\n",
    "    Derived from the optimisation problem\n",
    "\n",
    "    Inputs:\n",
    "        r       :   Radius -> type = (int, float)\n",
    "\n",
    "    Outputs\n",
    "        fitness :   Fitness -> type = (float)\n",
    "    '''\n",
    "    #r=d/2\n",
    "    area = (2 * (math.pi) * (r**2) + (60/r))\n",
    "    fitness = 1/area\n",
    "    return fitness\n",
    "\n",
    "\n",
    "#4. Binary encoding\n",
    "#4.1 Binary-encoded first generation\n",
    "def first_gen(pop_size,n):\n",
    "    ''' \n",
    "    Creates a binary-encoded population of radiuses\n",
    "\n",
    "    Inputs:\n",
    "        pop_size    :   Population size (number of individuals in generation) -> type = (int)\n",
    "        n           :   Number of bits for binary enconding -> type = (int)\n",
    "\n",
    "    Outputs:\n",
    "        gen_zero    :   List of n-bits binaty-encoded radiuses of length equal to pop_size \n",
    "                        -> type = (list), len(gen_zero) = pop_size\n",
    "    '''\n",
    "    gen_zero=[]\n",
    "    for i in range(pop_size):\n",
    "        x = []\n",
    "        while 1 not in x:\n",
    "            x = [np.random.choice([0, 1]) for _ in range(n)]   \n",
    "        el = ''.join(map(str, x))\n",
    "        gen_zero.append(el)\n",
    "\n",
    "    return gen_zero\n",
    "\n",
    "#4.2 Function to decode binary radius\n",
    "def decode_r(r, max_radius, n):\n",
    "    ''' \n",
    "    Converts a binary encoded radius into a number\n",
    "\n",
    "    Inputs:\n",
    "        r           :   Binary-encoded radius -> type = (str)\n",
    "        max_radius  :   upper-bound for the radius -> type = (int)\n",
    "        n           :   number of bits for encoding -> type = (int)\n",
    "    \n",
    "    Outputs:\n",
    "        dec_r       :   decoded radius -> type = (float)\n",
    "    '''\n",
    "    rad=list(map(int, str(r)))\n",
    "    dec_r=(max_radius/(2**n-1))*sum(rad[i]*2**i for i in range(len(rad)))\n",
    "    return dec_r\n",
    "    \n",
    "#5. Define selection methods\n",
    "#5.1.1 Calculate fitness for generation and sort individuals by fitness\n",
    "def ranked_fitness (current_generation, max_radius, n):\n",
    "    ''' \n",
    "    Calculates fitness for all individuals in a generation and returns it in a sorted list\n",
    "\n",
    "    Inputs:\n",
    "        current_generation  :   list-like of length n -> type = (list)\n",
    "        max_radius          :   upper-bound for the radius -> type = (int)\n",
    "        n                   :   number of bits for encoding -> type = (int)\n",
    "\n",
    "    Outputs:\n",
    "        ranked_solutions    :   list of lists [Matrix]-> type = (list), dimensions = (len(current_generation) x 3)\n",
    "                                each element is of the shape : (fitness, decoded_radius, binary-encoded_radius)\n",
    "    '''\n",
    "    ranked_solutions = []\n",
    "    for el in current_generation:\n",
    "        ranked_solutions.append([fitness(decode_r(el, max_radius, n)),decode_r(el, max_radius, n), el])\n",
    "        #added a second element to keep track of solutions and not only fitness\n",
    "    ranked_solutions.sort(reverse = True)\n",
    "    return ranked_solutions\n",
    "\n",
    "#5.1.2 Ranked probabilities for Ranked Selection\n",
    "def ranked_probabilities(pop_size):\n",
    "    ''' \n",
    "    Create a list of probabilities for each rank in the corresponding index. \n",
    "\n",
    "    Inputs:\n",
    "        pop_size        :   Size of generation -> type : (int)\n",
    "\n",
    "    Outputs:\n",
    "        probabilities   :   List of probabilitues for each rank -> type : (list)\n",
    "    '''\n",
    "    #based on https://stackoverflow.com/questions/20290831/how-to-perform-rank-based-selection-in-a-genetic-algorithm\n",
    "    probabilities = []\n",
    "    amax = 1.2\n",
    "    amin = 2 - amax\n",
    "    m = pop_size\n",
    "    for i in range(pop_size):\n",
    "        p = (amax - (amax-amin)*(i/(m-1)))*(1/m)\n",
    "        probabilities.append(p)\n",
    "    sum_probs = sum(probabilities)\n",
    "    probabilities[0] = probabilities[0] + (1 - sum_probs)\n",
    "    return probabilities\n",
    "\n",
    "#5.1.3 Fitness-based probabilities\n",
    "def wheel_probabilities(generation):\n",
    "    ''' \n",
    "    Calculates individual probability based on fitness for wheel selection\n",
    "\n",
    "    Inputs:\n",
    "        generation                      :   sorted generation fitness -> type : (list), dimensions : len(generation)\n",
    "\n",
    "    Outputs:\n",
    "        generation_wheel_probabilities  :   probabilities list -> type : (list), dimensions : len(generation)\n",
    "    '''\n",
    "\n",
    "    # computes the total the generation fitness\n",
    "    generation_fitness = sum([el for el in generation])\n",
    "    # computes the probability for each radius\n",
    "    generation_wheel_probabilities = [el/generation_fitness for el in generation]\n",
    "    return generation_wheel_probabilities\n",
    "\n",
    "#5.2 Random choice\n",
    "def random_choice (generation, probabilities, gen_fitness, gen_wheel_probs):\n",
    "    ''' \n",
    "    Chooses a parent randomly from the 30-percentile or better candidates.\n",
    "\n",
    "    Inputs:\n",
    "        generation      :   sorted list (by fitness) of binary-encoded radiuses -> type = (list)\n",
    "        probabilities   :   sorted list of probabilities by rank (used in other selection methods) -> type = (list)\n",
    "        gen_fitness     :   sorted list of fitness -> type = (list)\n",
    "        gen_wheel_probs :   probabilities list by fitness (sorted) for wheel selection -> type : (list)\n",
    "    \n",
    "    Outputs:\n",
    "        choice          :   Binary encoded radius (1 parent for reproduction method) -> type = (str)\n",
    "    '''\n",
    "    choice = generation[np.random.randint(0, (len(generation)-1)*0.8)]\n",
    "    return choice\n",
    "\n",
    "#5.3 Ranked Choice\n",
    "def ranked_choice (generation, probabilities, gen_fitness, gen_wheel_probs):\n",
    "    ''' \n",
    "    Chooses a parent based on probabilities assigned to rank.\n",
    "\n",
    "    Inputs:\n",
    "        generation      :   sorted list (by fitness) of binary-encoded radiuses -> type = (list)\n",
    "        probabilities   :   sorted list of probabilities by rank (used in other selection methods) -> type = (list)\n",
    "        gen_fitness     :   sorted list of fitness -> type = (list)\n",
    "        gen_wheel_probs :   probabilities list by fitness (sorted) for wheel selection -> type : (list)\n",
    "    \n",
    "    Outputs:\n",
    "        choice          :   Binary encoded radius (1 parent for reproduction method) -> type = (str)\n",
    "    '''\n",
    "    gen_fit = generation[:50]\n",
    "    adjusted_probabilities = probabilities[:50]\n",
    "    sum_probs = sum(adjusted_probabilities)\n",
    "    adjusted_probabilities[0] = adjusted_probabilities[0] + (1-sum_probs)\n",
    "    #sorting\n",
    "    choice= gen_fit[np.random.choice(np.arange(len(gen_fit)), p= adjusted_probabilities)]\n",
    "    return choice\n",
    "\n",
    "#5.4 Wheel Choice\n",
    "def wheel_selection (generation, probabilities, gen_fitness, gen_wheel_probs):\n",
    "    ''' \n",
    "    Chooses a parent based on probabilities assigned to fitness.\n",
    "\n",
    "    Inputs:\n",
    "        generation      :   sorted list (by fitness) of binary-encoded radiuses -> type = (list)\n",
    "        probabilities   :   sorted list of probabilities by rank (used in other selection methods) -> type = (list)\n",
    "        gen_fitness     :   sorted list of fitness -> type = (list)\n",
    "        gen_wheel_probs :   probabilities list by fitness (sorted) for wheel selection -> type : (list)\n",
    "    \n",
    "    Outputs:\n",
    "        choice          :   Binary encoded radius (1 parent for reproduction method) -> type = (str)\n",
    "    '''      \n",
    "    # selects one parent based on the computed probabilities\n",
    "    choice= generation[np.random.choice(np.arange(len(generation)), p=gen_wheel_probs)]\n",
    "    return choice\n",
    "\n",
    "\n",
    "#6. Define Reproduction methods\n",
    "#6.1 Crossover Reproduction    \n",
    "def crossover(parentA, parentB):\n",
    "    ''' \n",
    "    Reproduction method to mix the parents' chromosomes with cut-off single random point\n",
    "\n",
    "    Inputs:\n",
    "        parentA :   Binary-encoded radius -> type : (str)\n",
    "        parentB :   Binary-encoded radius -> type : (str)\n",
    "\n",
    "    Outputs:\n",
    "        child   :   Binary-encoded radius -> type : (str)\n",
    "    '''\n",
    "    cross_point = np.random.randint(len(parentA))\n",
    "    child = parentA[:cross_point]+parentB[cross_point:]\n",
    "    return child\n",
    "\n",
    "#6.2 Mutations\n",
    "def mutation(individual, probability):\n",
    "    ''' \n",
    "    Mutation method to invert the child's chromosomes with ##cut-off single random point###??\n",
    "\n",
    "    Inputs:\n",
    "        individual  :   Binary-encoded radius -> type = (str)\n",
    "        probability :   rate of mutation for an individual -> type = (float)\n",
    "\n",
    "    Outputs:\n",
    "        individual  :   (Flipped) Binary-encoded radius -> type : (str)\n",
    "    '''\n",
    "    flipped = lambda x: '1' if x == '0' else '0'\n",
    "    chars = (flipped(sym) if random.random() < probability else sym for sym in individual)\n",
    "    return ''.join(chars)\n",
    "    \n",
    "\n",
    "#6.3 Reproduction Behaviour\n",
    "def reproduction (current_gen, sel_function, ranked_probabilities, gen_fitness, mutation_probability, gen_wheel_probs):\n",
    "    ''' \n",
    "    Function to streamline reproduction with several different hiper-parameters\n",
    "\n",
    "    Inputs:\n",
    "        current_gen             :   List of binary-encoded radiuses -> type = (str)\n",
    "        sel_fuction             :   Python Function fictating the selection of parents -> type = (Function)\n",
    "        probabilities           :   sorted list of probabilities by rank (used in other selection methods) -> type = (list)\n",
    "        gen_fitness             :   sorted list of fitness -> type = (list)\n",
    "        mutation_probability    :   rate of mutation for an individual -> type = (float)\n",
    "        gen_wheel_probs :   probabilities list by fitness (sorted) for wheel selection -> type : (list)\n",
    "\n",
    "    Outputs:\n",
    "        new_generation          :   List of (unsorted) binary-encoded children radiuses -> type = (list)\n",
    "                                    length = len(current_gen)\n",
    "    '''\n",
    "    new_generation = []\n",
    "    for i in range(len(current_gen)):\n",
    "        parentA = sel_function(current_gen, ranked_probabilities, gen_fitness, gen_wheel_probs)\n",
    "        parentB = sel_function(current_gen, ranked_probabilities, gen_fitness, gen_wheel_probs)\n",
    "        child = crossover(parentA, parentB)\n",
    "        child = mutation(child, mutation_probability)\n",
    "        if '1' in child:\n",
    "            new_generation.append(child)\n",
    "        else:\n",
    "            new_generation.append(parentA)\n",
    "    return new_generation\n",
    "\n",
    "    "
   ]
  },
  {
   "cell_type": "code",
   "execution_count": 30,
   "metadata": {},
   "outputs": [],
   "source": [
    "#7 New generation iterations\n",
    "def digi_evolve(pop_size, max_generations, max_radius, n, sel_function_tuple, ranked_probabilities=[], all_gens=[], mutation_probability=0):\n",
    "    ''' \n",
    "    Genetic Algorithm implementation towards the goal to optimise for. \n",
    "\n",
    "    Inputs:\n",
    "        pop_size                :   Population size (number of individuals in generation) -> type = (int)\n",
    "        max_generations         :   Number of iterations (generations) to run -> type = (int)\n",
    "        max_radius              :   upper-bound for the radius -> type = (int)\n",
    "        n                       :   number of bits for encoding -> type = (int)\n",
    "        sel_function_tuple      :   tuple-like data structure with function to be called and its name -> type = (tuple -> (Function, str))\n",
    "        ranked_probabilities    :   sorted list of probabilities by rank (used in other selection methods) -> type = (list)\n",
    "        all_gens                :   Dictionary to populate with individual's data for future analysis -> type = (dict)\n",
    "        mutation_probability    :   rate of mutation for an individual -> type = (float)\n",
    "    \n",
    "    Outputs:\n",
    "        fittest                 :   list of best fitting individual's by selection method -> type = (list)\n",
    "        all_gens                :   Populated Dictionary from all data generated with evolutioniary algorithm -> type = (dict)\n",
    "\n",
    "    '''\n",
    "    #create temporary vars\n",
    "    sel_function = sel_function_tuple[0]\n",
    "    sel_function_name = sel_function_tuple[1]\n",
    "    fittest = []\n",
    "    curr_generation = first_gen(pop_size, n) #initialising first gen\n",
    "\n",
    "    #GA begins\n",
    "    #print('Evolutionary period begins')\n",
    "    for i in range(max_generations):\n",
    "        ranked_fit = ranked_fitness(curr_generation, max_radius, n)\n",
    "        fittest.append([ranked_fit[0], i])\n",
    "        for element in ranked_fit:\n",
    "            #print('###################### new var', element)\n",
    "            all_gens['radius'].append(element[1])\n",
    "            all_gens['fitness'].append(element[0])\n",
    "            all_gens['generation'].append(i)\n",
    "            all_gens['selection_type'].append(sel_function_name)\n",
    "            all_gens['pop_size'].append(pop_size)\n",
    "            all_gens['mutation'].append(mutation_probability)\n",
    "        #reproduction\n",
    "        curr_generation = (np.array(ranked_fit).transpose())\n",
    "        gen_fitness = np.array(curr_generation[0], dtype= float)\n",
    "        gen_wheel_probs = wheel_probabilities(gen_fitness)\n",
    "        curr_generation = reproduction(curr_generation[2], sel_function, \\\n",
    "                                       ranked_probabilities,gen_fitness, mutation_probability,gen_wheel_probs)\n",
    "        \n",
    "    #print('Evolutionary period ended')\n",
    "    return fittest, all_gens\n"
   ]
  },
  {
   "cell_type": "markdown",
   "metadata": {},
   "source": [
    "## Solution\n",
    "\n",
    "Solving by hand, we arrive at the following results:\n",
    "\n",
    "$$\n",
    "\\begin{array}{rcl}\n",
    "fitness & = & \\dfrac{1}{2 \\pi r^2 + \\frac{60}{r}}\\\\\n",
    "\\dfrac{d(fitness)}{dr} & = & 4 \\pi r - \\frac{60}{r^2} > 0\\\\\n",
    "4 \\pi r & > & \\dfrac{60}{r^2}\\\\\\\\\n",
    "4 \\pi & > & \\dfrac{60}{r^3}\\\\\\\\\n",
    "\\dfrac{4 \\pi}{60} & > & \\dfrac{1}{r^3}\\\\\n",
    "\\end{array}\n",
    "$$\n",
    "\n",
    "where we get:\n",
    "\n",
    "$$\n",
    "\\begin{array}{rcl}\n",
    " r^3 & > & \\dfrac{60}{4 \\pi} = \\dfrac{15}{\\pi}\n",
    "\\end{array}\n",
    "$$\n",
    "\n",
    "finally:\n",
    "\n",
    "$$\n",
    "\\begin{array}{rcl}\n",
    "r_{att} & = & \\sqrt[3]{\\dfrac{15}{\\pi}} = 1.6841\n",
    "\\end{array}\n",
    "$$"
   ]
  },
  {
   "cell_type": "markdown",
   "metadata": {},
   "source": [
    "\n",
    "## Choosing the Number of Bits for Binary Representation\n",
    "\n",
    "### Calculating Minimum Step:\n",
    "\n",
    "\n",
    "$$\n",
    "Interval=[0,r_{max}]\n",
    "$$\n",
    "$$\n",
    "\\begin{array}{rcl}\n",
    "Step & = & \\dfrac{r_{max}}{2^n - 1}\\\\\n",
    "\n",
    "\\end{array}\n",
    "$$\n"
   ]
  },
  {
   "cell_type": "code",
   "execution_count": 31,
   "metadata": {},
   "outputs": [
    {
     "name": "stdout",
     "output_type": "stream",
     "text": [
      "Considering Interval=[0, 30]:\n",
      "\n",
      "Step with 6 bits: 0.47619047619047616\n",
      "Step with 7 bits: 0.23622047244094488\n",
      "Step with 8 bits: 0.11764705882352941\n",
      "Step with 9 bits: 0.05870841487279843\n",
      "Step with 10 bits: 0.02932551319648094\n",
      "Step with 11 bits: 0.014655593551538837\n",
      "Step with 12 bits: 0.007326007326007326\n",
      "Step with 13 bits: 0.0036625564644121597\n",
      "Step with 14 bits: 0.0018311664530305805\n"
     ]
    }
   ],
   "source": [
    "#Calculating Minimum Step for each number of bits\n",
    "bits=range(6,15,1)\n",
    "max_radius=30\n",
    "\n",
    "print(f\"Considering Interval=[0, {max_radius}]:\\n\")\n",
    "i=0\n",
    "for k in bits:\n",
    "    x=max_radius/(2**k-1)\n",
    "    print(f\"Step with {k} bits: {x}\")"
   ]
  },
  {
   "cell_type": "markdown",
   "metadata": {},
   "source": [
    "We chose an 8-bit representation since it provided a minimum increment of 0.1176, which we found suitable for our purpose."
   ]
  },
  {
   "cell_type": "markdown",
   "metadata": {},
   "source": [
    "\n",
    "### Calculating Relative Error:\n",
    "$$\n",
    "\\begin{array}{rcl}\n",
    "\\epsilon & = & \\dfrac{r_{estimated} - solution}{solution}\\\\\n",
    "\n",
    "\\end{array}\n",
    "$$\n",
    "Using the known exact result, we were able to examine the Relative Error of the predictions for different bit counts.\n",
    "We observe that around 8 bits, it is approximately 2%. We consider this percentage acceptable for our analysis."
   ]
  },
  {
   "cell_type": "code",
   "execution_count": 32,
   "metadata": {},
   "outputs": [
    {
     "data": {
      "application/vnd.jupyter.widget-view+json": {
       "model_id": "09b47a736a47446ba012f70471a64883",
       "version_major": 2,
       "version_minor": 0
      },
      "text/plain": [
       "Mutation iterations:   0%|          | 0/5 [00:00<?, ?it/s]"
      ]
     },
     "metadata": {},
     "output_type": "display_data"
    },
    {
     "data": {
      "application/vnd.jupyter.widget-view+json": {
       "model_id": "1345eade52374d3fb20e1fdcc9222984",
       "version_major": 2,
       "version_minor": 0
      },
      "text/plain": [
       "Selection Methods:   0%|          | 0/3 [00:00<?, ?it/s]"
      ]
     },
     "metadata": {},
     "output_type": "display_data"
    },
    {
     "data": {
      "application/vnd.jupyter.widget-view+json": {
       "model_id": "5d963e6073284bc2b6a0ac0f14ac7361",
       "version_major": 2,
       "version_minor": 0
      },
      "text/plain": [
       "Selection Methods:   0%|          | 0/3 [00:00<?, ?it/s]"
      ]
     },
     "metadata": {},
     "output_type": "display_data"
    },
    {
     "data": {
      "application/vnd.jupyter.widget-view+json": {
       "model_id": "ca6f214bce4744688a66830fff519629",
       "version_major": 2,
       "version_minor": 0
      },
      "text/plain": [
       "Selection Methods:   0%|          | 0/3 [00:00<?, ?it/s]"
      ]
     },
     "metadata": {},
     "output_type": "display_data"
    },
    {
     "data": {
      "application/vnd.jupyter.widget-view+json": {
       "model_id": "1d928f7f46ab4f698b426bca84763190",
       "version_major": 2,
       "version_minor": 0
      },
      "text/plain": [
       "Selection Methods:   0%|          | 0/3 [00:00<?, ?it/s]"
      ]
     },
     "metadata": {},
     "output_type": "display_data"
    },
    {
     "data": {
      "application/vnd.jupyter.widget-view+json": {
       "model_id": "a02108724c114ac4bbc262fba7219c0b",
       "version_major": 2,
       "version_minor": 0
      },
      "text/plain": [
       "Selection Methods:   0%|          | 0/3 [00:00<?, ?it/s]"
      ]
     },
     "metadata": {},
     "output_type": "display_data"
    },
    {
     "name": "stdout",
     "output_type": "stream",
     "text": [
      "Time in seconds to complete entire cycle: 153.35405802726746 \n",
      "\n"
     ]
    }
   ],
   "source": [
    "#Initialing all hyperparameters\n",
    "pop_size = 100\n",
    "pop_range_steps = 10\n",
    "max_generations = 350\n",
    "#gen_range_steps = 50\n",
    "\n",
    "#mutation\n",
    "mutation_list = [0,1, 10, 50, 100]\n",
    "mutation_rate = 0.001\n",
    "\n",
    "\n",
    "n=16 #step:0.1176 if we work in range [0,30]\n",
    "max_radius=30\n",
    "selection_methods = [[random_choice, 'Random Selection'],\\\n",
    "                    [ranked_choice, 'Ranked Selection'],\\\n",
    "                    [wheel_selection, 'Wheel Selection']]\n",
    "\n",
    "best_overall = []\n",
    "all_generations = []\n",
    "all_gens_best = []\n",
    "\n",
    "#initialising dict for all vals\n",
    "all_gens_dict = {\n",
    "        'radius'        :   [],\n",
    "        'generation'    :   [],\n",
    "        'fitness'       :   [], \n",
    "        'selection_type':   [], \n",
    "        'pop_size'      :   [],\n",
    "        'mutation'      :   []    \n",
    "    }\n",
    "\n",
    "start_total = time.time()\n",
    "start_local = time.time()\n",
    "\n",
    "for mutation_el in tqdm(mutation_list, desc='Mutation iterations'): \n",
    "    #for loop for different mutation rates\n",
    "    mutation_probability = mutation_el * mutation_rate\n",
    "    for selectionMethod in tqdm(selection_methods, desc='Selection Methods'): \n",
    "        #for loop for different selection methods\n",
    "        #print(f'Selection method: {selectionMethod[1]}')\n",
    "        for pop_length in range(pop_range_steps,pop_size+1, 10):\n",
    "            #for loop for different population sizes\n",
    "            ranked_probability = ranked_probabilities(pop_length)\n",
    "            best_of_each_gen, all_gens = digi_evolve(pop_length, max_generations, max_radius, n, \\\n",
    "                                                     selectionMethod, ranked_probability, all_gens_dict, mutation_probability)\n",
    "\n",
    "        #print('The best radius is:', max(best_of_each_gen)[0][1], 'in generation: ',max(best_of_each_gen)[1])\n",
    "\n",
    "        best_overall.append([max(best_of_each_gen), selectionMethod[1]])\n",
    "        all_gens_best.append([best_of_each_gen, selectionMethod[1], mutation_probability])\n",
    "\n",
    "        end_local = time.time()\n",
    "        #print('Time in seconds to complete iteration of', selectionMethod[1] ,end_local - start_local, '\\n')\n",
    "        start_local = time.time()\n",
    "\n",
    "\n",
    "end_total = time.time()\n",
    "print('Time in seconds to complete entire cycle:',end_total - start_total, '\\n')\n",
    "\n",
    "#print('The best radius is:', max(best_overall))\n",
    "\n",
    "\n"
   ]
  },
  {
   "cell_type": "code",
   "execution_count": 33,
   "metadata": {},
   "outputs": [
    {
     "name": "stdout",
     "output_type": "stream",
     "text": [
      "[[[0.01841751645958127, 1.9047619047619047, '001000'], 49], [[0.018703743102528807, 1.6535433070866141, '1110000'], 49], [[0.01870081198259601, 1.6470588235294117, '01110000'], 49], [[0.018707613264300007, 1.7025440313111546, '101110000'], 49], [[0.018708883203279552, 1.6715542521994136, '1001110000'], 35], [[0.01870987733659405, 1.6853932584269662, '11001110000'], 46], [[0.018709884376721372, 1.684981684981685, '011001110000'], 16], [[0.01870988705875999, 1.6847759736295935, '0011001110000'], 35], [[0.018709888190392165, 1.684673136788134, '00011001110000'], 6]]\n"
     ]
    },
    {
     "data": {
      "image/png": "[encoded data removed]",
      "text/plain": [
       "<Figure size 1440x432 with 2 Axes>"
      ]
     },
     "metadata": {
      "needs_background": "light"
     },
     "output_type": "display_data"
    }
   ],
   "source": [
    "#Relative Error visualization\n",
    "import matplotlib.pyplot as plt\n",
    "\n",
    "pop_size=60\n",
    "generations=50\n",
    "solution=1.6841\n",
    "\n",
    "results=[]\n",
    "result_radius=[]\n",
    "rel_error=[]\n",
    "\n",
    "i=0\n",
    "for k in bits:\n",
    "    best_of_each_gen = digi_evolve(pop_size, generations, max_radius, k, selectionMethod, ranked_probability, all_gens_dict, mutation_probability )\n",
    "    results.append(max(best_of_each_gen[0]))\n",
    "    result_radius.append(results[i][0][1])\n",
    "    rel_error.append((abs(results[i][0][1]-solution))/solution)\n",
    "    i+=1\n",
    "\n",
    "print(results)\n",
    "#Plotting results\n",
    "plt.rcParams[\"figure.figsize\"] = (20, 6)\n",
    "\n",
    "plt.subplot(2,1,1)\n",
    "\n",
    "plt.title(\"Effect of Bit Number on Estimated Radius\")\n",
    "plt.xlabel('No. of Bits',fontsize=10)\n",
    "plt.ylabel('Radius',fontsize=10)\n",
    "plt.plot(bits,result_radius)   \n",
    "plt.axhline(y=1.6841, color='r', linestyle='--', label='y = 1.68')\n",
    "plt.grid()\n",
    "\n",
    "plt.subplot(2,1,2)\n",
    "\n",
    "plt.title(\"Effect of Bit Number on Relative Error\")\n",
    "plt.xlabel('No. of Bits',fontsize=10)\n",
    "plt.ylabel('Relative Error',fontsize=10)\n",
    "plt.plot(bits,rel_error)\n",
    "plt.grid()\n",
    "\n",
    "plt.tight_layout()\n",
    "plt.show()\n",
    "\n",
    "plt.close()"
   ]
  },
  {
   "cell_type": "code",
   "execution_count": 34,
   "metadata": {},
   "outputs": [
    {
     "name": "stdout",
     "output_type": "stream",
     "text": [
      "[[[[0.0181496622202083, 1.4058136873426412, '1111111111010000'], 0], [[0.0181496622202083, 1.4058136873426412, '1111111111010000'], 1], [[0.01814004852678338, 1.4035248340581368, '0101111111010000'], 2], [[0.018679881301236684, 1.6173037308308538, '1011001110110000'], 3], [[0.018679881301236684, 1.6173037308308538, '1011001110110000'], 4], [[0.018693923415855462, 1.6351567864499885, '0010111110110000'], 5], [[0.018691080199176816, 1.6310368505378805, '1101011110110000'], 6], [[0.018691080199176816, 1.6310368505378805, '1101011110110000'], 7], [[0.018691407825738346, 1.6314946211947814, '0011011110110000'], 8], [[0.018706616948732345, 1.6617074845502404, '0111010001110000'], 9], [[0.018706616948732345, 1.6617074845502404, '0111010001110000'], 10], [[0.018706751290030323, 1.6621652552071413, '1111010001110000'], 11], [[0.0186846800223425, 1.6227969787136645, '1001101110110000'], 12], [[0.018685060656248583, 1.6232547493705654, '0101101110110000'], 13], [[0.018693041584865587, 1.7349507896543832, '0111001101110000'], 14], [[0.01870169626084819, 1.719386587319753, '0011010101110000'], 15], [[0.018695687409874085, 1.6379034103913939, '0101111110110000'], 16], [[0.01870717121751465, 1.7042801556420233, '1101000101110000'], 17], [[0.018708142606572623, 1.667658503089952, '1101110001110000'], 18], [[0.018708142606572623, 1.667658503089952, '1101110001110000'], 19], [[0.01870729154392016, 1.7038223849851224, '0101000101110000'], 20], [[0.018708609595875003, 1.6978713664454108, '1011111001110000'], 21], [[0.018708691993060814, 1.69741359578851, '0011111001110000'], 22], [[0.018709708425215944, 1.6891737239642939, '0101011001110000'], 23], [[0.018709675233690534, 1.6896314946211948, '1101011001110000'], 24], [[0.01870963929561234, 1.6900892652780957, '0011011001110000'], 25], [[0.01870963929561234, 1.6900892652780957, '0011011001110000'], 26], [[0.01870963929561234, 1.6900892652780957, '0011011001110000'], 27], [[0.01870963929561234, 1.6900892652780957, '0011011001110000'], 28], [[0.018709708425215944, 1.6891737239642939, '0101011001110000'], 29], [[0.01870963929561234, 1.6900892652780957, '0011011001110000'], 30], [[0.018709708425215944, 1.6891737239642939, '0101011001110000'], 31], [[0.01870963929561234, 1.6900892652780957, '0011011001110000'], 32], [[0.01870963929561234, 1.6900892652780957, '0011011001110000'], 33], [[0.01870963929561234, 1.6900892652780957, '0011011001110000'], 34], [[0.018709708425215944, 1.6891737239642939, '0101011001110000'], 35], [[0.018709766562556053, 1.688258182650492, '0001011001110000'], 36], [[0.018709891942364047, 1.6836804760814832, '0111101001110000'], 37], [[0.018709891942364047, 1.6836804760814832, '0111101001110000'], 38], [[0.018709891942364047, 1.6836804760814832, '0111101001110000'], 39], [[0.018709891942364047, 1.6836804760814832, '0111101001110000'], 40], [[0.018709891942364047, 1.6836804760814832, '0111101001110000'], 41], [[0.018709891942364047, 1.6836804760814832, '0111101001110000'], 42], [[0.018709891942364047, 1.6836804760814832, '0111101001110000'], 43], [[0.018709891942364047, 1.6836804760814832, '0111101001110000'], 44], [[0.018709891942364047, 1.6836804760814832, '0111101001110000'], 45], [[0.018709891942364047, 1.6836804760814832, '0111101001110000'], 46], [[0.018709891942364047, 1.6836804760814832, '0111101001110000'], 47], [[0.018709891942364047, 1.6836804760814832, '0111101001110000'], 48], [[0.018709891942364047, 1.6836804760814832, '0111101001110000'], 49], [[0.018709891942364047, 1.6836804760814832, '0111101001110000'], 50], [[0.018709891942364047, 1.6836804760814832, '0111101001110000'], 51], [[0.018709891942364047, 1.6836804760814832, '0111101001110000'], 52], [[0.018709891942364047, 1.6836804760814832, '0111101001110000'], 53], [[0.018709891942364047, 1.6836804760814832, '0111101001110000'], 54], [[0.018709891942364047, 1.6836804760814832, '0111101001110000'], 55], [[0.018709883872539086, 1.6827649347676814, '0011101001110000'], 56], [[0.018709883872539086, 1.6827649347676814, '0011101001110000'], 57], [[0.018709516565566443, 1.676356145571069, '0111001001110000'], 58], [[0.018709516565566443, 1.676356145571069, '0111001001110000'], 59], [[0.018709516565566443, 1.676356145571069, '0111001001110000'], 60], [[0.018709516565566443, 1.676356145571069, '0111001001110000'], 61], [[0.018709516565566443, 1.676356145571069, '0111001001110000'], 62], [[0.018709516565566443, 1.676356145571069, '0111001001110000'], 63], [[0.018709516565566443, 1.676356145571069, '0111001001110000'], 64], [[0.018709516565566443, 1.676356145571069, '0111001001110000'], 65], [[0.018709516565566443, 1.676356145571069, '0111001001110000'], 66], [[0.018709516565566443, 1.676356145571069, '0111001001110000'], 67], [[0.018709516565566443, 1.676356145571069, '0111001001110000'], 68], [[0.018709516565566443, 1.676356145571069, '0111001001110000'], 69], [[0.018709516565566443, 1.676356145571069, '0111001001110000'], 70], [[0.018709516565566443, 1.676356145571069, '0111001001110000'], 71], [[0.018709516565566443, 1.676356145571069, '0111001001110000'], 72], [[0.018709516565566443, 1.676356145571069, '0111001001110000'], 73], [[0.018709516565566443, 1.676356145571069, '0111001001110000'], 74], [[0.018709516565566443, 1.676356145571069, '0111001001110000'], 75], [[0.018709516565566443, 1.676356145571069, '0111001001110000'], 76], [[0.018709516565566443, 1.676356145571069, '0111001001110000'], 77], [[0.018709516565566443, 1.676356145571069, '0111001001110000'], 78], [[0.018709516565566443, 1.676356145571069, '0111001001110000'], 79], [[0.018709516565566443, 1.676356145571069, '0111001001110000'], 80], [[0.018709516565566443, 1.676356145571069, '0111001001110000'], 81], [[0.018709516565566443, 1.676356145571069, '0111001001110000'], 82], [[0.018709516565566443, 1.676356145571069, '0111001001110000'], 83], [[0.018709516565566443, 1.676356145571069, '0111001001110000'], 84], [[0.018709516565566443, 1.676356145571069, '0111001001110000'], 85], [[0.018709516565566443, 1.676356145571069, '0111001001110000'], 86], [[0.018709516565566443, 1.676356145571069, '0111001001110000'], 87], [[0.018709516565566443, 1.676356145571069, '0111001001110000'], 88], [[0.018709516565566443, 1.676356145571069, '0111001001110000'], 89], [[0.018709516565566443, 1.676356145571069, '0111001001110000'], 90], [[0.018709516565566443, 1.676356145571069, '0111001001110000'], 91], [[0.018709516565566443, 1.676356145571069, '0111001001110000'], 92], [[0.018709516565566443, 1.676356145571069, '0111001001110000'], 93], [[0.018709516565566443, 1.676356145571069, '0111001001110000'], 94], [[0.018709516565566443, 1.676356145571069, '0111001001110000'], 95], [[0.018709516565566443, 1.676356145571069, '0111001001110000'], 96], [[0.018709516565566443, 1.676356145571069, '0111001001110000'], 97], [[0.018709516565566443, 1.676356145571069, '0111001001110000'], 98], [[0.018709516565566443, 1.676356145571069, '0111001001110000'], 99], [[0.018709516565566443, 1.676356145571069, '0111001001110000'], 100], [[0.018709516565566443, 1.676356145571069, '0111001001110000'], 101], [[0.018709516565566443, 1.676356145571069, '0111001001110000'], 102], [[0.018709516565566443, 1.676356145571069, '0111001001110000'], 103], [[0.018709516565566443, 1.676356145571069, '0111001001110000'], 104], [[0.018709516565566443, 1.676356145571069, '0111001001110000'], 105], [[0.018709516565566443, 1.676356145571069, '0111001001110000'], 106], [[0.018709516565566443, 1.676356145571069, '0111001001110000'], 107], [[0.018709516565566443, 1.676356145571069, '0111001001110000'], 108], [[0.018709516565566443, 1.676356145571069, '0111001001110000'], 109], [[0.018709516565566443, 1.676356145571069, '0111001001110000'], 110], [[0.018709516565566443, 1.676356145571069, '0111001001110000'], 111], [[0.018709516565566443, 1.676356145571069, '0111001001110000'], 112], [[0.018709516565566443, 1.676356145571069, '0111001001110000'], 113], [[0.018709516565566443, 1.676356145571069, '0111001001110000'], 114], [[0.018709516565566443, 1.676356145571069, '0111001001110000'], 115], [[0.018709516565566443, 1.676356145571069, '0111001001110000'], 116], [[0.018709516565566443, 1.676356145571069, '0111001001110000'], 117], [[0.018709516565566443, 1.676356145571069, '0111001001110000'], 118], [[0.018709516565566443, 1.676356145571069, '0111001001110000'], 119], [[0.018709516565566443, 1.676356145571069, '0111001001110000'], 120], [[0.018709516565566443, 1.676356145571069, '0111001001110000'], 121], [[0.018709516565566443, 1.676356145571069, '0111001001110000'], 122], [[0.018709516565566443, 1.676356145571069, '0111001001110000'], 123], [[0.018709516565566443, 1.676356145571069, '0111001001110000'], 124], [[0.018709516565566443, 1.676356145571069, '0111001001110000'], 125], [[0.018709516565566443, 1.676356145571069, '0111001001110000'], 126], [[0.018709516565566443, 1.676356145571069, '0111001001110000'], 127], [[0.018709516565566443, 1.676356145571069, '0111001001110000'], 128], [[0.018709516565566443, 1.676356145571069, '0111001001110000'], 129], [[0.018709516565566443, 1.676356145571069, '0111001001110000'], 130], [[0.018709516565566443, 1.676356145571069, '0111001001110000'], 131], [[0.018709516565566443, 1.676356145571069, '0111001001110000'], 132], [[0.018709516565566443, 1.676356145571069, '0111001001110000'], 133], [[0.018709516565566443, 1.676356145571069, '0111001001110000'], 134], [[0.018709516565566443, 1.676356145571069, '0111001001110000'], 135], [[0.018709516565566443, 1.676356145571069, '0111001001110000'], 136], [[0.018709516565566443, 1.676356145571069, '0111001001110000'], 137], [[0.018709516565566443, 1.676356145571069, '0111001001110000'], 138], [[0.018709516565566443, 1.676356145571069, '0111001001110000'], 139], [[0.018709516565566443, 1.676356145571069, '0111001001110000'], 140], [[0.018709516565566443, 1.676356145571069, '0111001001110000'], 141], [[0.018709516565566443, 1.676356145571069, '0111001001110000'], 142], [[0.018709516565566443, 1.676356145571069, '0111001001110000'], 143], [[0.018709516565566443, 1.676356145571069, '0111001001110000'], 144], [[0.018709516565566443, 1.676356145571069, '0111001001110000'], 145], [[0.018709516565566443, 1.676356145571069, '0111001001110000'], 146], [[0.018709516565566443, 1.676356145571069, '0111001001110000'], 147], [[0.018709516565566443, 1.676356145571069, '0111001001110000'], 148], [[0.018709516565566443, 1.676356145571069, '0111001001110000'], 149], [[0.018709516565566443, 1.676356145571069, '0111001001110000'], 150], [[0.018709516565566443, 1.676356145571069, '0111001001110000'], 151], [[0.018709516565566443, 1.676356145571069, '0111001001110000'], 152], [[0.018709516565566443, 1.676356145571069, '0111001001110000'], 153], [[0.018709516565566443, 1.676356145571069, '0111001001110000'], 154], [[0.018709516565566443, 1.676356145571069, '0111001001110000'], 155], [[0.018709516565566443, 1.676356145571069, '0111001001110000'], 156], [[0.018709516565566443, 1.676356145571069, '0111001001110000'], 157], [[0.018709516565566443, 1.676356145571069, '0111001001110000'], 158], [[0.018709516565566443, 1.676356145571069, '0111001001110000'], 159], [[0.018709516565566443, 1.676356145571069, '0111001001110000'], 160], [[0.018709516565566443, 1.676356145571069, '0111001001110000'], 161], [[0.018709516565566443, 1.676356145571069, '0111001001110000'], 162], [[0.018709516565566443, 1.676356145571069, '0111001001110000'], 163], [[0.018709516565566443, 1.676356145571069, '0111001001110000'], 164], [[0.018709516565566443, 1.676356145571069, '0111001001110000'], 165], [[0.018709516565566443, 1.676356145571069, '0111001001110000'], 166], [[0.018709516565566443, 1.676356145571069, '0111001001110000'], 167], [[0.018709516565566443, 1.676356145571069, '0111001001110000'], 168], [[0.018709516565566443, 1.676356145571069, '0111001001110000'], 169], [[0.018709516565566443, 1.676356145571069, '0111001001110000'], 170], [[0.018709516565566443, 1.676356145571069, '0111001001110000'], 171], [[0.018709516565566443, 1.676356145571069, '0111001001110000'], 172], [[0.018709516565566443, 1.676356145571069, '0111001001110000'], 173], [[0.018709516565566443, 1.676356145571069, '0111001001110000'], 174], [[0.018709516565566443, 1.676356145571069, '0111001001110000'], 175], [[0.018709516565566443, 1.676356145571069, '0111001001110000'], 176], [[0.018709516565566443, 1.676356145571069, '0111001001110000'], 177], [[0.018709516565566443, 1.676356145571069, '0111001001110000'], 178], [[0.018709516565566443, 1.676356145571069, '0111001001110000'], 179], [[0.018709516565566443, 1.676356145571069, '0111001001110000'], 180], [[0.018709516565566443, 1.676356145571069, '0111001001110000'], 181], [[0.018709516565566443, 1.676356145571069, '0111001001110000'], 182], [[0.018709516565566443, 1.676356145571069, '0111001001110000'], 183], [[0.018709516565566443, 1.676356145571069, '0111001001110000'], 184], [[0.018709516565566443, 1.676356145571069, '0111001001110000'], 185], [[0.018709516565566443, 1.676356145571069, '0111001001110000'], 186], [[0.018709516565566443, 1.676356145571069, '0111001001110000'], 187], [[0.018709516565566443, 1.676356145571069, '0111001001110000'], 188], [[0.018709516565566443, 1.676356145571069, '0111001001110000'], 189], [[0.018709516565566443, 1.676356145571069, '0111001001110000'], 190], [[0.018709516565566443, 1.676356145571069, '0111001001110000'], 191], [[0.018709516565566443, 1.676356145571069, '0111001001110000'], 192], [[0.018709516565566443, 1.676356145571069, '0111001001110000'], 193], [[0.018709516565566443, 1.676356145571069, '0111001001110000'], 194], [[0.018709516565566443, 1.676356145571069, '0111001001110000'], 195], [[0.018709516565566443, 1.676356145571069, '0111001001110000'], 196], [[0.018709516565566443, 1.676356145571069, '0111001001110000'], 197], [[0.018709516565566443, 1.676356145571069, '0111001001110000'], 198], [[0.018709516565566443, 1.676356145571069, '0111001001110000'], 199], [[0.018709516565566443, 1.676356145571069, '0111001001110000'], 200], [[0.018709516565566443, 1.676356145571069, '0111001001110000'], 201], [[0.018709516565566443, 1.676356145571069, '0111001001110000'], 202], [[0.018709516565566443, 1.676356145571069, '0111001001110000'], 203], [[0.018709516565566443, 1.676356145571069, '0111001001110000'], 204], [[0.018709516565566443, 1.676356145571069, '0111001001110000'], 205], [[0.018709516565566443, 1.676356145571069, '0111001001110000'], 206], [[0.018709516565566443, 1.676356145571069, '0111001001110000'], 207], [[0.018709516565566443, 1.676356145571069, '0111001001110000'], 208], [[0.018709516565566443, 1.676356145571069, '0111001001110000'], 209], [[0.018709516565566443, 1.676356145571069, '0111001001110000'], 210], [[0.018709516565566443, 1.676356145571069, '0111001001110000'], 211], [[0.018709516565566443, 1.676356145571069, '0111001001110000'], 212], [[0.018709516565566443, 1.676356145571069, '0111001001110000'], 213], [[0.018709516565566443, 1.676356145571069, '0111001001110000'], 214], [[0.018709516565566443, 1.676356145571069, '0111001001110000'], 215], [[0.018709516565566443, 1.676356145571069, '0111001001110000'], 216], [[0.018709516565566443, 1.676356145571069, '0111001001110000'], 217], [[0.018709516565566443, 1.676356145571069, '0111001001110000'], 218], [[0.018709516565566443, 1.676356145571069, '0111001001110000'], 219], [[0.018709516565566443, 1.676356145571069, '0111001001110000'], 220], [[0.018709516565566443, 1.676356145571069, '0111001001110000'], 221], [[0.018709516565566443, 1.676356145571069, '0111001001110000'], 222], [[0.018709516565566443, 1.676356145571069, '0111001001110000'], 223], [[0.018709516565566443, 1.676356145571069, '0111001001110000'], 224], [[0.018709516565566443, 1.676356145571069, '0111001001110000'], 225], [[0.018709516565566443, 1.676356145571069, '0111001001110000'], 226], [[0.018709516565566443, 1.676356145571069, '0111001001110000'], 227], [[0.018709516565566443, 1.676356145571069, '0111001001110000'], 228], [[0.018709516565566443, 1.676356145571069, '0111001001110000'], 229], [[0.018709516565566443, 1.676356145571069, '0111001001110000'], 230], [[0.018709516565566443, 1.676356145571069, '0111001001110000'], 231], [[0.018709516565566443, 1.676356145571069, '0111001001110000'], 232], [[0.018709516565566443, 1.676356145571069, '0111001001110000'], 233], [[0.018709516565566443, 1.676356145571069, '0111001001110000'], 234], [[0.018709516565566443, 1.676356145571069, '0111001001110000'], 235], [[0.018709516565566443, 1.676356145571069, '0111001001110000'], 236], [[0.018709516565566443, 1.676356145571069, '0111001001110000'], 237], [[0.018709516565566443, 1.676356145571069, '0111001001110000'], 238], [[0.018709516565566443, 1.676356145571069, '0111001001110000'], 239], [[0.018709516565566443, 1.676356145571069, '0111001001110000'], 240], [[0.018709516565566443, 1.676356145571069, '0111001001110000'], 241], [[0.018709516565566443, 1.676356145571069, '0111001001110000'], 242], [[0.018709516565566443, 1.676356145571069, '0111001001110000'], 243], [[0.018709516565566443, 1.676356145571069, '0111001001110000'], 244], [[0.018709516565566443, 1.676356145571069, '0111001001110000'], 245], [[0.018709516565566443, 1.676356145571069, '0111001001110000'], 246], [[0.018709516565566443, 1.676356145571069, '0111001001110000'], 247], [[0.018709516565566443, 1.676356145571069, '0111001001110000'], 248], [[0.018709516565566443, 1.676356145571069, '0111001001110000'], 249], [[0.018709516565566443, 1.676356145571069, '0111001001110000'], 250], [[0.018709516565566443, 1.676356145571069, '0111001001110000'], 251], [[0.018709516565566443, 1.676356145571069, '0111001001110000'], 252], [[0.018709516565566443, 1.676356145571069, '0111001001110000'], 253], [[0.018709516565566443, 1.676356145571069, '0111001001110000'], 254], [[0.018709516565566443, 1.676356145571069, '0111001001110000'], 255], [[0.018709516565566443, 1.676356145571069, '0111001001110000'], 256], [[0.018709516565566443, 1.676356145571069, '0111001001110000'], 257], [[0.018709516565566443, 1.676356145571069, '0111001001110000'], 258], [[0.018709516565566443, 1.676356145571069, '0111001001110000'], 259], [[0.018709516565566443, 1.676356145571069, '0111001001110000'], 260], [[0.018709516565566443, 1.676356145571069, '0111001001110000'], 261], [[0.018709516565566443, 1.676356145571069, '0111001001110000'], 262], [[0.018709516565566443, 1.676356145571069, '0111001001110000'], 263], [[0.018709516565566443, 1.676356145571069, '0111001001110000'], 264], [[0.018709516565566443, 1.676356145571069, '0111001001110000'], 265], [[0.018709516565566443, 1.676356145571069, '0111001001110000'], 266], [[0.018709516565566443, 1.676356145571069, '0111001001110000'], 267], [[0.018709516565566443, 1.676356145571069, '0111001001110000'], 268], [[0.018709516565566443, 1.676356145571069, '0111001001110000'], 269], [[0.018709516565566443, 1.676356145571069, '0111001001110000'], 270], [[0.018709516565566443, 1.676356145571069, '0111001001110000'], 271], [[0.018709516565566443, 1.676356145571069, '0111001001110000'], 272], [[0.018709516565566443, 1.676356145571069, '0111001001110000'], 273], [[0.018709516565566443, 1.676356145571069, '0111001001110000'], 274], [[0.018709516565566443, 1.676356145571069, '0111001001110000'], 275], [[0.018709516565566443, 1.676356145571069, '0111001001110000'], 276], [[0.018709516565566443, 1.676356145571069, '0111001001110000'], 277], [[0.018709516565566443, 1.676356145571069, '0111001001110000'], 278], [[0.018709516565566443, 1.676356145571069, '0111001001110000'], 279], [[0.018709516565566443, 1.676356145571069, '0111001001110000'], 280], [[0.018709516565566443, 1.676356145571069, '0111001001110000'], 281], [[0.018709516565566443, 1.676356145571069, '0111001001110000'], 282], [[0.018709516565566443, 1.676356145571069, '0111001001110000'], 283], [[0.018709516565566443, 1.676356145571069, '0111001001110000'], 284], [[0.018709516565566443, 1.676356145571069, '0111001001110000'], 285], [[0.018709516565566443, 1.676356145571069, '0111001001110000'], 286], [[0.018709516565566443, 1.676356145571069, '0111001001110000'], 287], [[0.018709516565566443, 1.676356145571069, '0111001001110000'], 288], [[0.018709516565566443, 1.676356145571069, '0111001001110000'], 289], [[0.018709516565566443, 1.676356145571069, '0111001001110000'], 290], [[0.018709516565566443, 1.676356145571069, '0111001001110000'], 291], [[0.018709516565566443, 1.676356145571069, '0111001001110000'], 292], [[0.018709516565566443, 1.676356145571069, '0111001001110000'], 293], [[0.018709516565566443, 1.676356145571069, '0111001001110000'], 294], [[0.018709516565566443, 1.676356145571069, '0111001001110000'], 295], [[0.018709516565566443, 1.676356145571069, '0111001001110000'], 296], [[0.018709516565566443, 1.676356145571069, '0111001001110000'], 297], [[0.018709516565566443, 1.676356145571069, '0111001001110000'], 298], [[0.018709516565566443, 1.676356145571069, '0111001001110000'], 299], [[0.018709516565566443, 1.676356145571069, '0111001001110000'], 300], [[0.018709516565566443, 1.676356145571069, '0111001001110000'], 301], [[0.018709516565566443, 1.676356145571069, '0111001001110000'], 302], [[0.018709516565566443, 1.676356145571069, '0111001001110000'], 303], [[0.018709516565566443, 1.676356145571069, '0111001001110000'], 304], [[0.018709516565566443, 1.676356145571069, '0111001001110000'], 305], [[0.018709516565566443, 1.676356145571069, '0111001001110000'], 306], [[0.018709516565566443, 1.676356145571069, '0111001001110000'], 307], [[0.018709516565566443, 1.676356145571069, '0111001001110000'], 308], [[0.018709516565566443, 1.676356145571069, '0111001001110000'], 309], [[0.018709516565566443, 1.676356145571069, '0111001001110000'], 310], [[0.018709516565566443, 1.676356145571069, '0111001001110000'], 311], [[0.018709516565566443, 1.676356145571069, '0111001001110000'], 312], [[0.018709516565566443, 1.676356145571069, '0111001001110000'], 313], [[0.018709516565566443, 1.676356145571069, '0111001001110000'], 314], [[0.018709516565566443, 1.676356145571069, '0111001001110000'], 315], [[0.018709516565566443, 1.676356145571069, '0111001001110000'], 316], [[0.018709516565566443, 1.676356145571069, '0111001001110000'], 317], [[0.018709516565566443, 1.676356145571069, '0111001001110000'], 318], [[0.018709516565566443, 1.676356145571069, '0111001001110000'], 319], [[0.018709516565566443, 1.676356145571069, '0111001001110000'], 320], [[0.018709516565566443, 1.676356145571069, '0111001001110000'], 321], [[0.018709516565566443, 1.676356145571069, '0111001001110000'], 322], [[0.018709516565566443, 1.676356145571069, '0111001001110000'], 323], [[0.018709516565566443, 1.676356145571069, '0111001001110000'], 324], [[0.018709516565566443, 1.676356145571069, '0111001001110000'], 325], [[0.018709516565566443, 1.676356145571069, '0111001001110000'], 326], [[0.018709516565566443, 1.676356145571069, '0111001001110000'], 327], [[0.018709516565566443, 1.676356145571069, '0111001001110000'], 328], [[0.018709516565566443, 1.676356145571069, '0111001001110000'], 329], [[0.018709516565566443, 1.676356145571069, '0111001001110000'], 330], [[0.018709516565566443, 1.676356145571069, '0111001001110000'], 331], [[0.018709516565566443, 1.676356145571069, '0111001001110000'], 332], [[0.018709516565566443, 1.676356145571069, '0111001001110000'], 333], [[0.018709516565566443, 1.676356145571069, '0111001001110000'], 334], [[0.018709516565566443, 1.676356145571069, '0111001001110000'], 335], [[0.018709516565566443, 1.676356145571069, '0111001001110000'], 336], [[0.018709516565566443, 1.676356145571069, '0111001001110000'], 337], [[0.018709516565566443, 1.676356145571069, '0111001001110000'], 338], [[0.018709516565566443, 1.676356145571069, '0111001001110000'], 339], [[0.018709516565566443, 1.676356145571069, '0111001001110000'], 340], [[0.018709516565566443, 1.676356145571069, '0111001001110000'], 341], [[0.018709516565566443, 1.676356145571069, '0111001001110000'], 342], [[0.018709516565566443, 1.676356145571069, '0111001001110000'], 343], [[0.018709516565566443, 1.676356145571069, '0111001001110000'], 344], [[0.018709516565566443, 1.676356145571069, '0111001001110000'], 345], [[0.018709516565566443, 1.676356145571069, '0111001001110000'], 346], [[0.018709516565566443, 1.676356145571069, '0111001001110000'], 347], [[0.018709516565566443, 1.676356145571069, '0111001001110000'], 348], [[0.018709516565566443, 1.676356145571069, '0111001001110000'], 349]], 'Random Selection', 0.0]\n"
     ]
    }
   ],
   "source": [
    "print((all_gens_best[0]))"
   ]
  },
  {
   "cell_type": "code",
   "execution_count": 35,
   "metadata": {},
   "outputs": [
    {
     "name": "stdout",
     "output_type": "stream",
     "text": [
      "Data saved successfully\n"
     ]
    }
   ],
   "source": [
    "#Save object for Data Analysis\n",
    "fileObj = open('data_algos.pkl', 'wb')\n",
    "pickle.dump(all_gens,fileObj)\n",
    "fileObj.close()\n",
    "print('Data saved successfully')"
   ]
  },
  {
   "cell_type": "markdown",
   "metadata": {},
   "source": [
    "\n",
    "## Choosing the Number of Bits for Binary Representation\n",
    "\n",
    "### Calculating Minimum Step:\n",
    "\n",
    "\n",
    "$$\n",
    "Interval=[0,r_{max}]\n",
    "$$\n",
    "$$\n",
    "\\begin{array}{rcl}\n",
    "Step & = & \\dfrac{r_{max}}{2^n - 1}\\\\\n",
    "\n",
    "\\end{array}\n",
    "$$\n"
   ]
  },
  {
   "cell_type": "code",
   "execution_count": 36,
   "metadata": {},
   "outputs": [
    {
     "name": "stdout",
     "output_type": "stream",
     "text": [
      "The best radius is 1.684138246738384 cm\n",
      "Firstly found with Wheel Selection in generation number 2\n"
     ]
    }
   ],
   "source": [
    "max_element = max(best_overall, key=lambda x: x[0][0][0])\n",
    "\n",
    "for element in best_overall:\n",
    "    if element[0][0][0]!=max_element[0][0][0]: best_overall.remove(element)\n",
    "\n",
    "min_element = min(best_overall, key=lambda x: x[0][1])\n",
    "\n",
    "#Showing the best solution found\n",
    "print(f\"The best radius is {min_element[0][0][1]} cm\\nFirstly found with {min_element[1]} in generation number {min_element[0][1]}\")"
   ]
  },
  {
   "cell_type": "code",
   "execution_count": 37,
   "metadata": {},
   "outputs": [
    {
     "name": "stdout",
     "output_type": "stream",
     "text": [
      "Data loaded successfully\n"
     ]
    }
   ],
   "source": [
    "#Save object for Data Analysis\n",
    "fileObj = open('data_algos.pkl', 'wb')\n",
    "pickle.dump(all_gens,fileObj)\n",
    "fileObj.close()\n",
    "try:\n",
    "    with open('data_algos.pkl', 'rb') as fileObj:\n",
    "        loaded_data = pickle.load(fileObj)\n",
    "        \n",
    "    print('Data loaded successfully')\n",
    "    fileObj.close()\n",
    "\n",
    "except Exception as e:\n",
    "    print(f'Error loading data: {e}')"
   ]
  },
  {
   "cell_type": "markdown",
   "metadata": {},
   "source": [
    "## Optimal choices \n",
    "\n",
    "After the analysis carried out in the Data Analysis Notebook, we came to the following values being the optimal choices for any family within the defined optimisaition problem. \n",
    "\n",
    "The optimal hiperparameters are described below, as well as an example of the Genetic Algorithm performing the specified task. "
   ]
  },
  {
   "cell_type": "code",
   "execution_count": 48,
   "metadata": {},
   "outputs": [
    {
     "name": "stdout",
     "output_type": "stream",
     "text": [
      "Time in seconds to complete entire cycle: 0.11825203895568848 \n",
      "\n"
     ]
    }
   ],
   "source": [
    "#Optimal values\n",
    "pop_size_op = 60\n",
    "gen_size_op = 30\n",
    "n_op = 11\n",
    "sel_method_op = (ranked_choice, 'Ranked Selection')\n",
    "#sel_method_op = (wheel_selection, 'Wheel Selection')\n",
    "max_rad_op = 30\n",
    "mutation_rate_op = 0.001\n",
    "\n",
    "all_gens_dict_op = {\n",
    "        'radius'        :   [],\n",
    "        'generation'    :   [],\n",
    "        'fitness'       :   [], \n",
    "        'selection_type':   [], \n",
    "        'pop_size'      :   [],\n",
    "        'mutation'      :   []    \n",
    "    }\n",
    "\n",
    "start_total = time.time()\n",
    "\n",
    "ranked_probability_op = ranked_probabilities(pop_size_op)\n",
    "best_of_each_gen, all_gens = digi_evolve(pop_size_op, gen_size_op, max_rad_op, n_op, \\\n",
    "sel_method_op, ranked_probability_op, all_gens_dict_op, mutation_rate_op)\n",
    "\n",
    "end_total = time.time()\n",
    "print('Time in seconds to complete entire cycle:',end_total - start_total, '\\n')\n"
   ]
  },
  {
   "cell_type": "code",
   "execution_count": 49,
   "metadata": {},
   "outputs": [
    {
     "name": "stdout",
     "output_type": "stream",
     "text": [
      "[[0.01870987733659405, 1.6853932584269662, '11001110000'], 29]\n"
     ]
    }
   ],
   "source": [
    "print(max(best_of_each_gen))"
   ]
  }
 ],
 "metadata": {
  "kernelspec": {
   "display_name": "ml",
   "language": "python",
   "name": "python3"
  },
  "language_info": {
   "codemirror_mode": {
    "name": "ipython",
    "version": 3
   },
   "file_extension": ".py",
   "mimetype": "text/x-python",
   "name": "python",
   "nbconvert_exporter": "python",
   "pygments_lexer": "ipython3",
   "version": "3.9.2"
  }
 },
 "nbformat": 4,
 "nbformat_minor": 2
}
