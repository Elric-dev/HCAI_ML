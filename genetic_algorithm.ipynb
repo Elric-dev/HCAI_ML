{
 "cells": [
  {
   "cell_type": "markdown",
   "metadata": {},
   "source": [
    "<h1>Exploiting Genetic Algorithms for Optimisation </h1>\n",
    "<br>\n",
    "\n",
    "<h2> The problem</h2>\n",
    "We need to make cylindrical containers with fixed volume 30 cubic cm so that, given the diameter you can figure out its height, minimizing the building material. \n",
    "This mathematically simple minimization problem could be solved with a genetic algorithm driven by the diameter (or radius) that must always be positive. The rest of the problem definition is up to you. "
   ]
  },
  {
   "cell_type": "code",
   "execution_count": 340,
   "metadata": {},
   "outputs": [],
   "source": [
    "#!pip install -r requirements.txt"
   ]
  },
  {
   "cell_type": "code",
   "execution_count": 341,
   "metadata": {},
   "outputs": [],
   "source": [
    "# Install dependencies\n",
    "import math\n",
    "import numpy as np\n",
    "import time\n",
    "from tqdm import tqdm\n",
    "import pickle\n",
    "import random"
   ]
  },
  {
   "cell_type": "markdown",
   "metadata": {},
   "source": [
    "## Defining the Problem\n",
    "\n",
    "We need to optimise the building material of Cilinders of Volume = 30 cm<sup>3</sup>\n",
    "\n",
    "$$\n",
    "\\begin{array}{rcl}\n",
    "    Volume & = & \\pi r^2 h\\\\\n",
    "    h & = & \\frac{30}{\\pi r^2}\\\\\n",
    "    r & = & x\n",
    "\\end{array}\n",
    "\\newline\n",
    "$$\n",
    "\n",
    "In order to minimise the used material, we need to minimise the surface area. \n",
    "Thus we get the following equation, for $r > 0$:\n",
    "$$\n",
    "\\newline\n",
    "\\begin{array}{rcl}\n",
    "    Area & = & 2\\pi r^2 + 2\\pi h\\\\\n",
    "    & = & 2 \\pi r^2 + \\frac{60}{r}\\\\\n",
    "\\end{array}\n",
    "$$\n",
    "\n",
    "Then, our fitness equation is:\n",
    "$$\n",
    "\\begin{array}{rcl}\n",
    "fitness & = & \\dfrac{1}{Area}\\\\\n",
    "\\\\\n",
    "fitness & = & \\dfrac{1}{2 \\pi r^2 + \\frac{60}{r}}\n",
    "\n",
    "\\end{array}\n",
    "$$\n",
    "\n"
   ]
  },
  {
   "cell_type": "code",
   "execution_count": 342,
   "metadata": {},
   "outputs": [],
   "source": [
    "\n",
    "#1. Initial Hyperparameters\n",
    "np.random.seed(2023)\n",
    "\n",
    "#2. Define height given diameter\n",
    "def height (d):\n",
    "    r = d/2\n",
    "    pi = math.pi\n",
    "    #volume = pi * (r**2) * h\n",
    "    h = 30/(pi*(r**2))\n",
    "    return h\n",
    "\n",
    "#3. Define Fitness\n",
    "def fitness (r):\n",
    "    #r=d/2\n",
    "    return 1/(2 * (math.pi) * (r**2) + (60/r))\n",
    "    \n",
    "#3. Define selection methods\n",
    "def ranked_fitness (current_generation, max_radius, n):\n",
    "    ranked_solutions = []\n",
    "    for el in current_generation:\n",
    "        ranked_solutions.append([fitness(decode_r(el, max_radius, n)),decode_r(el, max_radius, n)])\n",
    "        #added a second element to keep track of solutions and not only fitness\n",
    "    ranked_solutions.sort()\n",
    "    ranked_solutions.reverse()\n",
    "    return ranked_solutions\n",
    "\n",
    "#4. Define selection methods\n",
    "def random_choice (generation, max_radius, n):\n",
    "    choice = np.random.randint(0,len(generation)-1)\n",
    "    return generation[choice]\n",
    "\n",
    "def ranked_choice (generation, max_radius, n):\n",
    "    #based on https://stackoverflow.com/questions/20290831/how-to-perform-rank-based-selection-in-a-genetic-algorithm\n",
    "    generation = generation[:10]\n",
    "    gen_fit = []\n",
    "    probabilities = []\n",
    "    amax = 1.2\n",
    "    amin = 2 - amax\n",
    "    m = len(generation)\n",
    "    \n",
    "    for i in range(len(generation)-1):\n",
    "        gen_fit.append([fitness(decode_r(generation[i], max_radius, n)),generation[i]])\n",
    "        p = (amax - (amax-amin)*(i/(m-1)))*(1/m)\n",
    "        probabilities.append(p)\n",
    "        gen_fit.sort(reverse=True)\n",
    "    #make sure probs sum to 1    \n",
    "    sum_probs = sum(probabilities)\n",
    "    probabilities[0] = probabilities[0] + (1 - sum_probs)\n",
    "\n",
    "    #sorting\n",
    "    \n",
    "    choice= gen_fit[np.random.choice(np.arange(len(gen_fit)), p=probabilities)]\n",
    "    return choice[1]\n",
    "\n",
    "def wheel_selection (generation, max_radius, n):\n",
    "    #create list with radius and its fitness\n",
    "    gen_fit=[]\n",
    "    for el in generation:\n",
    "        gen_fit.append([fitness(decode_r(el, max_radius, n)),el])           \n",
    "    # computes the total the generation fitness\n",
    "    generation_fitness = sum([el[0] for el in gen_fit])\n",
    "    # computes the probability for each radius\n",
    "    probabilities = [el[0]/generation_fitness for el in gen_fit]\n",
    "    # selects one chromosome based on the computed probabilities\n",
    "    choice= gen_fit[np.random.choice(np.arange(len(gen_fit)), p=probabilities)]\n",
    "    return choice[1]\n",
    "\n",
    "\n",
    "#5. Define Reproduction methods    \n",
    "def crossover(parentA, parentB):\n",
    "    cross_point = np.random.randint(len(parentA))\n",
    "    child = parentA[:cross_point]+parentB[cross_point:]\n",
    "    return child\n",
    "\n",
    "#Mutations\n",
    "def mutation(parent, probability):\n",
    "    flipped = lambda x: '1' if x == '0' else '0'\n",
    "    chars = (flipped(sym) if random.random() < probability else sym for sym in parent)\n",
    "    return ''.join(chars)\n",
    "    \n",
    "\n",
    "#6. Reproduction Behaviour\n",
    "def reproduction (current_gen, max_radius, n, sel_function):\n",
    "    new_generation = []\n",
    "    for i in range(len(current_gen)):\n",
    "        parentA = sel_function(current_gen, max_radius, n)\n",
    "        parentB = sel_function(current_gen, max_radius, n)\n",
    "        child = crossover(parentA, parentB)\n",
    "        #child=mutation(child, 0.1)\n",
    "        if '1' in child:\n",
    "            new_generation.append(child)\n",
    "        else:\n",
    "            new_generation.append(parentA)\n",
    "    return new_generation\n",
    "\n",
    "        \n",
    "#Function to decode binary radius\n",
    "def decode_r(r, max_radius, n):\n",
    "    rad=list(map(int, str(r)))\n",
    "    dec_r=(max_radius/(2**n-1))*sum(rad[i]*2**i for i in range(len(rad)))\n",
    "    return dec_r\n",
    "\n",
    "#Generation zero binary\n",
    "def first_gen(pop_size,n):\n",
    "    gen_zero=[]\n",
    "    for i in range(pop_size):\n",
    "        x = []\n",
    "        while 1 not in x:\n",
    "            x = [np.random.choice([0, 1]) for _ in range(n)]   \n",
    "        el = ''.join(map(str, x))\n",
    "        gen_zero.append(el)\n",
    "\n",
    "    return gen_zero"
   ]
  },
  {
   "cell_type": "code",
   "execution_count": 343,
   "metadata": {},
   "outputs": [],
   "source": [
    "#5. New generation iterations\n",
    "def digi_evolve(pop_size, max_generations, max_radius, n, sel_function_tuple):\n",
    "    #create temporary vars\n",
    "    sel_function = sel_function_tuple[0]\n",
    "    sel_function_name = sel_function_tuple[1]\n",
    "    fittest = []\n",
    "    all_gens = {\n",
    "        'radius'        :   [],\n",
    "        'generation'    :   [],\n",
    "        'fitness'       :   [], \n",
    "        'selection_type':   []     \n",
    "    }\n",
    "    curr_generation = first_gen(pop_size, n) #initialising first gen\n",
    "    #GA begins\n",
    "    print('Evolutionary period begins')\n",
    "    for i in tqdm(range(max_generations)):\n",
    "        #if i % 50 == 0:\n",
    "        #    print(f'Generation {i} is going into the world')\n",
    "        #    print(f'Population size {len(curr_generation)}')\n",
    "        ranked_fit = ranked_fitness(curr_generation, max_radius, n)\n",
    "        fittest.append([ranked_fit[0], i])\n",
    "        for element in ranked_fit:\n",
    "            #print('###################### new var', element)\n",
    "            all_gens['radius'].append(element[1])\n",
    "            all_gens['fitness'].append(element[0])\n",
    "            all_gens['generation'].append(i)\n",
    "            all_gens['selection_type'].append(sel_function_name)\n",
    "        #reproduction\n",
    "        curr_generation = reproduction(curr_generation, max_radius, n, sel_function)\n",
    "    print('Evolutionary period ended')\n",
    "    return fittest, all_gens\n"
   ]
  },
  {
   "cell_type": "markdown",
   "metadata": {},
   "source": [
    "## Solution\n",
    "\n",
    "Solving by hand, we arrive at the following results:\n",
    "\n",
    "$$\n",
    "\\begin{array}{rcl}\n",
    "fitness & = & \\dfrac{1}{2 \\pi r^2 + \\frac{60}{r}}\\\\\n",
    "\\dfrac{d(fitness)}{dr} & = & 4 \\pi r - \\frac{60}{r^2} > 0\\\\\n",
    "4 \\pi r & > & \\dfrac{60}{r^2}\\\\\\\\\n",
    "4 \\pi & > & \\dfrac{60}{r^3}\\\\\\\\\n",
    "\\dfrac{4 \\pi}{60} & > & \\dfrac{1}{r^3}\\\\\n",
    "\\end{array}\n",
    "$$\n",
    "\n",
    "where we get:\n",
    "\n",
    "$$\n",
    "\\begin{array}{rcl}\n",
    " r^3 & > & \\dfrac{60}{4 \\pi} = \\dfrac{15}{\\pi}\n",
    "\\end{array}\n",
    "$$\n",
    "\n",
    "finally:\n",
    "\n",
    "$$\n",
    "\\begin{array}{rcl}\n",
    "r_{att} & = & \\sqrt[3]{\\dfrac{15}{\\pi}} = 1.6841\n",
    "\\end{array}\n",
    "$$"
   ]
  },
  {
   "cell_type": "code",
   "execution_count": 344,
   "metadata": {},
   "outputs": [
    {
     "name": "stdout",
     "output_type": "stream",
     "text": [
      "Selection method: Random Selection\n",
      "Evolutionary period begins\n"
     ]
    },
    {
     "name": "stderr",
     "output_type": "stream",
     "text": [
      " 11%|█         | 54/500 [00:00<00:00, 530.88it/s]"
     ]
    },
    {
     "name": "stderr",
     "output_type": "stream",
     "text": [
      "100%|██████████| 500/500 [00:00<00:00, 526.10it/s]\n"
     ]
    },
    {
     "name": "stdout",
     "output_type": "stream",
     "text": [
      "Evolutionary period ended\n",
      "The best radius is: 1.6470588235294117 in generation:  42\n",
      "Time in seconds to complete iteration of Random Selection 0.9691002368927002 \n",
      "\n",
      "Selection method: Ranked Selection\n",
      "Evolutionary period begins\n"
     ]
    },
    {
     "name": "stderr",
     "output_type": "stream",
     "text": [
      "100%|██████████| 500/500 [00:06<00:00, 78.86it/s]\n"
     ]
    },
    {
     "name": "stdout",
     "output_type": "stream",
     "text": [
      "Evolutionary period ended\n",
      "The best radius is: 1.8823529411764706 in generation:  0\n",
      "Time in seconds to complete iteration of Ranked Selection 6.354942321777344 \n",
      "\n",
      "Selection method: Wheel Selection\n",
      "Evolutionary period begins\n"
     ]
    },
    {
     "name": "stderr",
     "output_type": "stream",
     "text": [
      "100%|██████████| 500/500 [00:38<00:00, 13.13it/s]"
     ]
    },
    {
     "name": "stdout",
     "output_type": "stream",
     "text": [
      "Evolutionary period ended\n",
      "The best radius is: 1.6470588235294117 in generation:  156\n",
      "Time in seconds to complete iteration of Wheel Selection 38.09217166900635 \n",
      "\n",
      "Time in seconds to complete entire cycle: 45.41621422767639 \n",
      "\n",
      "The best radius is: [[[0.01870081198259601, 1.6470588235294117], 156], 'Wheel Selection']\n"
     ]
    },
    {
     "name": "stderr",
     "output_type": "stream",
     "text": [
      "\n"
     ]
    }
   ],
   "source": [
    "#main\n",
    "pop_size = 100\n",
    "max_generations = 500\n",
    "n=8 #step:0.1176 if we work in range [0,30]\n",
    "max_radius=30\n",
    "selection_methods = [[random_choice, 'Random Selection'], [ranked_choice, 'Ranked Selection'],[wheel_selection, 'Wheel Selection']]\n",
    "best_overall = []\n",
    "all_generations = []\n",
    "\n",
    "\n",
    "start_total = time.time()\n",
    "start_local = time.time()\n",
    "\n",
    "for selectionMethod in selection_methods:\n",
    "    print(f'Selection method: {selectionMethod[1]}')\n",
    "    best_of_each_gen, all_gens = digi_evolve(pop_size, max_generations, max_radius, n, selectionMethod)\n",
    "    print('The best radius is:', max(best_of_each_gen)[0][1], 'in generation: ',max(best_of_each_gen)[1])\n",
    "\n",
    "    best_overall.append([max(best_of_each_gen), selectionMethod[1]])\n",
    "    all_generations.append(all_gens)\n",
    "\n",
    "    end_local = time.time()\n",
    "    print('Time in seconds to complete iteration of', selectionMethod[1] ,end_local - start_local, '\\n')\n",
    "    start_local = time.time()\n",
    "\n",
    "\n",
    "end_total = time.time()\n",
    "print('Time in seconds to complete entire cycle:',end_total - start_total, '\\n')\n",
    "\n",
    "print('The best radius is:', max(best_overall))\n",
    "\n",
    "#do we want to add mutations too?\n"
   ]
  },
  {
   "cell_type": "code",
   "execution_count": 345,
   "metadata": {},
   "outputs": [],
   "source": [
    "#Save object for Data Analysis\n",
    "fileObj = open('data_algos.pkl', 'wb')\n",
    "pickle.dump(all_generations,fileObj)\n",
    "fileObj.close()"
   ]
  },
  {
   "cell_type": "code",
   "execution_count": 346,
   "metadata": {},
   "outputs": [
    {
     "name": "stdout",
     "output_type": "stream",
     "text": [
      "Evolutionary period begins\n"
     ]
    },
    {
     "name": "stderr",
     "output_type": "stream",
     "text": [
      "100%|██████████| 500/500 [00:00<00:00, 646.06it/s]\n"
     ]
    },
    {
     "name": "stdout",
     "output_type": "stream",
     "text": [
      "Evolutionary period ended\n",
      "Evolutionary period begins\n"
     ]
    },
    {
     "name": "stderr",
     "output_type": "stream",
     "text": [
      "100%|██████████| 500/500 [00:00<00:00, 557.37it/s]\n"
     ]
    },
    {
     "name": "stdout",
     "output_type": "stream",
     "text": [
      "Evolutionary period ended\n",
      "Evolutionary period begins\n"
     ]
    },
    {
     "name": "stderr",
     "output_type": "stream",
     "text": [
      "100%|██████████| 500/500 [00:01<00:00, 490.23it/s]\n"
     ]
    },
    {
     "name": "stdout",
     "output_type": "stream",
     "text": [
      "Evolutionary period ended\n",
      "Evolutionary period begins\n"
     ]
    },
    {
     "name": "stderr",
     "output_type": "stream",
     "text": [
      "100%|██████████| 500/500 [00:00<00:00, 564.89it/s]\n"
     ]
    },
    {
     "name": "stdout",
     "output_type": "stream",
     "text": [
      "Evolutionary period ended\n",
      "Evolutionary period begins\n"
     ]
    },
    {
     "name": "stderr",
     "output_type": "stream",
     "text": [
      "100%|██████████| 500/500 [00:00<00:00, 650.30it/s]\n"
     ]
    },
    {
     "name": "stdout",
     "output_type": "stream",
     "text": [
      "Evolutionary period ended\n",
      "Evolutionary period begins\n"
     ]
    },
    {
     "name": "stderr",
     "output_type": "stream",
     "text": [
      "100%|██████████| 500/500 [00:00<00:00, 603.55it/s]\n"
     ]
    },
    {
     "name": "stdout",
     "output_type": "stream",
     "text": [
      "Evolutionary period ended\n",
      "Evolutionary period begins\n"
     ]
    },
    {
     "name": "stderr",
     "output_type": "stream",
     "text": [
      "100%|██████████| 500/500 [00:00<00:00, 628.27it/s]\n"
     ]
    },
    {
     "name": "stdout",
     "output_type": "stream",
     "text": [
      "Evolutionary period ended\n",
      "Evolutionary period begins\n"
     ]
    },
    {
     "name": "stderr",
     "output_type": "stream",
     "text": [
      "100%|██████████| 500/500 [00:00<00:00, 538.70it/s]"
     ]
    },
    {
     "name": "stdout",
     "output_type": "stream",
     "text": [
      "Evolutionary period ended\n",
      "[[[0.01653979427827921, 2.3622047244094486], 6], [[0.007194358768301489, 4.470588235294118], 2], [[0.017192124183791416, 2.23091976516634], 499], [[0.018483851085179057, 1.8768328445747802], 499], [[0.013117987662652673, 2.9897410845139225], 8], [[0.018254750885682448, 1.9633699633699633], 12], [[0.01617273645304967, 2.431937492369674], 7], [[0.01829933932102217, 1.9483611060245376], 15]]\n"
     ]
    },
    {
     "name": "stderr",
     "output_type": "stream",
     "text": [
      "\n"
     ]
    }
   ],
   "source": [
    "#Testing with different n\n",
    "bits=range(7,15,1)\n",
    "pop_size=10\n",
    "max_generation=10\n",
    "max_radius=30\n",
    "results=[]\n",
    "for k in bits:\n",
    "    best_of_each_gen = digi_evolve(pop_size, max_generations, max_radius, k, [wheel_selection, 'Wheel Selection'])\n",
    "    results.append(max(best_of_each_gen[0]))\n",
    "print(results)"
   ]
  }
 ],
 "metadata": {
  "kernelspec": {
   "display_name": "ml",
   "language": "python",
   "name": "python3"
  },
  "language_info": {
   "codemirror_mode": {
    "name": "ipython",
    "version": 3
   },
   "file_extension": ".py",
   "mimetype": "text/x-python",
   "name": "python",
   "nbconvert_exporter": "python",
   "pygments_lexer": "ipython3",
   "version": "3.9.2"
  }
 },
 "nbformat": 4,
 "nbformat_minor": 2
}
