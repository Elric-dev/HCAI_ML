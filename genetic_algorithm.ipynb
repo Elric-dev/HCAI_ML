{
 "cells": [
  {
   "cell_type": "markdown",
   "metadata": {},
   "source": [
    "<h1>Exploiting Genetic Algorithms for Optimisation </h1>\n",
    "<br>\n",
    "\n",
    "<h2> The problem</h2>\n",
    "We need to make cylindrical containers with fixed volume 30 cubic cm so that, given the diameter you can figure out its height, minimizing the building material. \n",
    "This mathematically simple minimization problem could be solved with a genetic algorithm driven by the diameter (or radius) that must always be positive. The rest of the problem definition is up to you. "
   ]
  },
  {
   "cell_type": "code",
   "execution_count": 115,
   "metadata": {},
   "outputs": [],
   "source": [
    "#!pip install -r requirements.txt"
   ]
  },
  {
   "cell_type": "code",
   "execution_count": 116,
   "metadata": {},
   "outputs": [],
   "source": [
    "# Install dependencies\n",
    "import math\n",
    "import numpy as np\n",
    "import time\n",
    "from tqdm import tqdm\n",
    "import pickle\n",
    "import random"
   ]
  },
  {
   "cell_type": "markdown",
   "metadata": {},
   "source": [
    "## Defining the Problem\n",
    "\n",
    "We need to optimise the building material of Cilinders of Volume = 30 cm<sup>3</sup>\n",
    "\n",
    "$$\n",
    "\\begin{array}{rcl}\n",
    "    Volume & = & \\pi r^2 h\\\\\n",
    "    h & = & \\frac{30}{\\pi r^2}\\\\\n",
    "    r & = & x\n",
    "\\end{array}\n",
    "\\newline\n",
    "$$\n",
    "\n",
    "In order to minimise the used material, we need to minimise the surface area. \n",
    "Thus we get the following equation, for $r > 0$:\n",
    "$$\n",
    "\\newline\n",
    "\\begin{array}{rcl}\n",
    "    Area & = & 2\\pi r^2 + 2\\pi h\\\\\n",
    "    & = & 2 \\pi r^2 + \\frac{60}{r}\\\\\n",
    "\\end{array}\n",
    "$$\n",
    "\n",
    "Then, our fitness equation is:\n",
    "$$\n",
    "\\begin{array}{rcl}\n",
    "fitness & = & \\dfrac{1}{Area}\\\\\n",
    "\\\\\n",
    "fitness & = & \\dfrac{1}{2 \\pi r^2 + \\frac{60}{r}}\n",
    "\n",
    "\\end{array}\n",
    "$$\n",
    "\n"
   ]
  },
  {
   "cell_type": "code",
   "execution_count": 117,
   "metadata": {},
   "outputs": [],
   "source": [
    "\n",
    "#1. Initial Hyperparameters\n",
    "np.random.seed(2023)\n",
    "\n",
    "#2. Define height given diameter\n",
    "def height (d):\n",
    "    r = d/2\n",
    "    pi = math.pi\n",
    "    #volume = pi * (r**2) * h\n",
    "    h = 30/(pi*(r**2))\n",
    "    return h\n",
    "\n",
    "#3. Define Fitness\n",
    "def fitness (r):\n",
    "    #r=d/2\n",
    "    area = (2 * (math.pi) * (r**2) + (60/r))\n",
    "    fitness = 1/area\n",
    "    return fitness\n",
    "    \n",
    "#3. Define selection methods\n",
    "def ranked_fitness (current_generation, max_radius, n):\n",
    "    ranked_solutions = []\n",
    "    for el in current_generation:\n",
    "        #print('element of ranked fitness', el)\n",
    "        ranked_solutions.append([fitness(decode_r(el, max_radius, n)),decode_r(el, max_radius, n), el])\n",
    "        #added a second element to keep track of solutions and not only fitness\n",
    "    ranked_solutions.sort(reverse = True)\n",
    "    return ranked_solutions\n",
    "\n",
    "#4. Define selection methods\n",
    "def random_choice (generation, max_radius, n, probabilities, gen_fitness, decoded_gen):\n",
    "    choice = generation[np.random.randint(0, len(generation)-1)]\n",
    "    #print('randomly chose: ', choice)\n",
    "    return choice\n",
    "\n",
    "def ranked_probabilities(pop_size):\n",
    "    #based on https://stackoverflow.com/questions/20290831/how-to-perform-rank-based-selection-in-a-genetic-algorithm\n",
    "    probabilities = []\n",
    "    amax = 1.2\n",
    "    amin = 2 - amax\n",
    "    m = pop_size\n",
    "    for i in range(pop_size):\n",
    "        p = (amax - (amax-amin)*(i/(m-1)))*(1/m)\n",
    "        probabilities.append(p)\n",
    "    sum_probs = sum(probabilities)\n",
    "    probabilities[0] = probabilities[0] + (1 - sum_probs)\n",
    "    print('Prob matrix len: ', len(probabilities))\n",
    "    return probabilities\n",
    "\n",
    "def ranked_choice (generation, max_radius, n, probabilities, gen_fitness, decoded_gen):\n",
    "    gen_fit = generation\n",
    "    #sorting\n",
    "    choice= gen_fit[np.random.choice(np.arange(len(gen_fit)), p=probabilities)]\n",
    "    return choice\n",
    "\n",
    "def wheel_selection (generation, max_radius, n, probabilities, gen_fitness, decoded_gen):\n",
    "    #create list with radius and its fitness        \n",
    "    # computes the total the generation fitness\n",
    "    generation_fitness = sum([el for el in gen_fitness])\n",
    "    # computes the probability for each radius\n",
    "    probabilities = [el/generation_fitness for el in gen_fitness]\n",
    "    sum_probs = sum(probabilities)\n",
    "    #if sum_probs < 1:\n",
    "    #    probabilities[0] = probabilities[0] + (1 - sum_probs)\n",
    "    # selects one chromosome based on the computed probabilities\n",
    "    choice= generation[np.random.choice(np.arange(len(generation)), p=probabilities)]\n",
    "    return choice\n",
    "\n",
    "\n",
    "#5. Define Reproduction methods    \n",
    "def crossover(parentA, parentB):\n",
    "    #print(parentA)\n",
    "    #print(parentB)\n",
    "    cross_point = np.random.randint(len(parentA))\n",
    "    child = parentA[:cross_point]+parentB[cross_point:]\n",
    "    return child\n",
    "\n",
    "#Mutations\n",
    "def mutation(parent, probability):\n",
    "    flipped = lambda x: '1' if x == '0' else '0'\n",
    "    chars = (flipped(sym) if random.random() < probability else sym for sym in parent)\n",
    "    return ''.join(chars)\n",
    "    \n",
    "\n",
    "#6. Reproduction Behaviour\n",
    "def reproduction (current_gen, max_radius, n, sel_function, ranked_probabilities, gen_fitness, decoded_gen):\n",
    "    #current_gen = (np.array(current_gen).transpose())[1]\n",
    "    new_generation = []\n",
    "    for i in range(len(current_gen)):\n",
    "        parentA = sel_function(current_gen, max_radius, n, ranked_probabilities, gen_fitness, decoded_gen)\n",
    "        parentB = sel_function(current_gen, max_radius, n, ranked_probabilities, gen_fitness, decoded_gen)\n",
    "        child = crossover(parentA, parentB)\n",
    "        #child=mutation(child, 0.001)\n",
    "        if '1' in child:\n",
    "            new_generation.append(child)\n",
    "        else:\n",
    "            new_generation.append(parentA)\n",
    "    return new_generation\n",
    "\n",
    "        \n",
    "#Function to decode binary radius\n",
    "def decode_r(r, max_radius, n):\n",
    "    rad=list(map(int, str(r)))\n",
    "    dec_r=(max_radius/(2**n-1))*sum(rad[i]*2**i for i in range(len(rad)))\n",
    "    return dec_r\n",
    "\n",
    "#Generation zero binary\n",
    "def first_gen(pop_size,n):\n",
    "    gen_zero=[]\n",
    "    for i in range(pop_size):\n",
    "        x = []\n",
    "        while 1 not in x:\n",
    "            x = [np.random.choice([0, 1]) for _ in range(n)]   \n",
    "        el = ''.join(map(str, x))\n",
    "        gen_zero.append(el)\n",
    "\n",
    "    return gen_zero"
   ]
  },
  {
   "cell_type": "code",
   "execution_count": 118,
   "metadata": {},
   "outputs": [],
   "source": [
    "#5. New generation iterations\n",
    "def digi_evolve(pop_size, max_generations, max_radius, n, sel_function_tuple, ranked_probabilities):\n",
    "    #create temporary vars\n",
    "    sel_function = sel_function_tuple[0]\n",
    "    sel_function_name = sel_function_tuple[1]\n",
    "    fittest = []\n",
    "    all_gens = {\n",
    "        'radius'        :   [],\n",
    "        'generation'    :   [],\n",
    "        'fitness'       :   [], \n",
    "        'selection_type':   []     \n",
    "    }\n",
    "    curr_generation = first_gen(pop_size, n) #initialising first gen\n",
    "\n",
    "    #GA begins\n",
    "    print('Evolutionary period begins')\n",
    "    for i in tqdm(range(max_generations)):\n",
    "        ranked_fit = ranked_fitness(curr_generation, max_radius, n)\n",
    "        fittest.append([ranked_fit[0], i])\n",
    "        for element in ranked_fit:\n",
    "            #print('###################### new var', element)\n",
    "            all_gens['radius'].append(element[1])\n",
    "            all_gens['fitness'].append(element[0])\n",
    "            all_gens['generation'].append(i)\n",
    "            all_gens['selection_type'].append(sel_function_name)\n",
    "        #reproduction\n",
    "        curr_generation = (np.array(ranked_fit).transpose())\n",
    "        gen_fitness = np.array(curr_generation[0], dtype= float)\n",
    "        gen_decoded = np.array(curr_generation[1], dtype= float)\n",
    "        curr_generation = reproduction(curr_generation[2], max_radius, n, sel_function, ranked_probabilities,gen_fitness, gen_decoded)\n",
    "        \n",
    "    print('Evolutionary period ended')\n",
    "    return fittest, all_gens\n"
   ]
  },
  {
   "cell_type": "markdown",
   "metadata": {},
   "source": [
    "## Solution\n",
    "\n",
    "Solving by hand, we arrive at the following results:\n",
    "\n",
    "$$\n",
    "\\begin{array}{rcl}\n",
    "fitness & = & \\dfrac{1}{2 \\pi r^2 + \\frac{60}{r}}\\\\\n",
    "\\dfrac{d(fitness)}{dr} & = & 4 \\pi r - \\frac{60}{r^2} > 0\\\\\n",
    "4 \\pi r & > & \\dfrac{60}{r^2}\\\\\\\\\n",
    "4 \\pi & > & \\dfrac{60}{r^3}\\\\\\\\\n",
    "\\dfrac{4 \\pi}{60} & > & \\dfrac{1}{r^3}\\\\\n",
    "\\end{array}\n",
    "$$\n",
    "\n",
    "where we get:\n",
    "\n",
    "$$\n",
    "\\begin{array}{rcl}\n",
    " r^3 & > & \\dfrac{60}{4 \\pi} = \\dfrac{15}{\\pi}\n",
    "\\end{array}\n",
    "$$\n",
    "\n",
    "finally:\n",
    "\n",
    "$$\n",
    "\\begin{array}{rcl}\n",
    "r_{att} & = & \\sqrt[3]{\\dfrac{15}{\\pi}} = 1.6841\n",
    "\\end{array}\n",
    "$$"
   ]
  },
  {
   "cell_type": "code",
   "execution_count": 119,
   "metadata": {},
   "outputs": [
    {
     "name": "stdout",
     "output_type": "stream",
     "text": [
      "Prob matrix len:  100\n",
      "Selection method: Random Selection\n",
      "Evolutionary period begins\n"
     ]
    },
    {
     "name": "stderr",
     "output_type": "stream",
     "text": [
      "  0%|          | 0/500 [00:00<?, ?it/s]"
     ]
    },
    {
     "name": "stderr",
     "output_type": "stream",
     "text": [
      "100%|██████████| 500/500 [00:00<00:00, 873.11it/s]\n"
     ]
    },
    {
     "name": "stdout",
     "output_type": "stream",
     "text": [
      "Evolutionary period ended\n",
      "The best radius is: 1.6470588235294117 in generation:  67\n",
      "Time in seconds to complete iteration of Random Selection 0.5839107036590576 \n",
      "\n",
      "Selection method: Ranked Selection\n",
      "Evolutionary period begins\n"
     ]
    },
    {
     "name": "stderr",
     "output_type": "stream",
     "text": [
      "100%|██████████| 500/500 [00:01<00:00, 284.21it/s]\n"
     ]
    },
    {
     "name": "stdout",
     "output_type": "stream",
     "text": [
      "Evolutionary period ended\n",
      "The best radius is: 1.6470588235294117 in generation:  499\n",
      "Time in seconds to complete iteration of Ranked Selection 1.7680299282073975 \n",
      "\n",
      "Selection method: Wheel Selection\n",
      "Evolutionary period begins\n"
     ]
    },
    {
     "name": "stderr",
     "output_type": "stream",
     "text": [
      "100%|██████████| 500/500 [00:03<00:00, 137.64it/s]"
     ]
    },
    {
     "name": "stdout",
     "output_type": "stream",
     "text": [
      "Evolutionary period ended\n",
      "The best radius is: 1.6470588235294117 in generation:  499\n",
      "Time in seconds to complete iteration of Wheel Selection 3.6406750679016113 \n",
      "\n",
      "Time in seconds to complete entire cycle: 5.992750883102417 \n",
      "\n",
      "The best radius is: [[[0.01870081198259601, 1.6470588235294117, '01110000'], 499], 'Wheel Selection']\n"
     ]
    },
    {
     "name": "stderr",
     "output_type": "stream",
     "text": [
      "\n"
     ]
    }
   ],
   "source": [
    "#main\n",
    "pop_size = 100\n",
    "max_generations = 500\n",
    "n=8 #step:0.1176 if we work in range [0,30]\n",
    "max_radius=30\n",
    "selection_methods = [[random_choice, 'Random Selection'], [ranked_choice, 'Ranked Selection'],[wheel_selection, 'Wheel Selection']]\n",
    "#selection_methods = [[wheel_selection, 'Wheel Selection']]\n",
    "best_overall = []\n",
    "all_generations = []\n",
    "\n",
    "#calculating probs for ranked choice\n",
    "ranked_probability = ranked_probabilities(pop_size)\n",
    "\n",
    "start_total = time.time()\n",
    "start_local = time.time()\n",
    "\n",
    "for selectionMethod in selection_methods:\n",
    "    print(f'Selection method: {selectionMethod[1]}')\n",
    "    best_of_each_gen, all_gens = digi_evolve(pop_size, max_generations, max_radius, n, selectionMethod, ranked_probability)\n",
    "    print('The best radius is:', max(best_of_each_gen)[0][1], 'in generation: ',max(best_of_each_gen)[1])\n",
    "\n",
    "    best_overall.append([max(best_of_each_gen), selectionMethod[1]])\n",
    "    all_generations.append(all_gens)\n",
    "\n",
    "    end_local = time.time()\n",
    "    print('Time in seconds to complete iteration of', selectionMethod[1] ,end_local - start_local, '\\n')\n",
    "    start_local = time.time()\n",
    "\n",
    "\n",
    "end_total = time.time()\n",
    "print('Time in seconds to complete entire cycle:',end_total - start_total, '\\n')\n",
    "\n",
    "print('The best radius is:', max(best_overall))\n",
    "\n",
    "\n"
   ]
  },
  {
   "cell_type": "code",
   "execution_count": 120,
   "metadata": {},
   "outputs": [],
   "source": [
    "#Save object for Data Analysis\n",
    "fileObj = open('data_algos.pkl', 'wb')\n",
    "pickle.dump(all_generations,fileObj)\n",
    "fileObj.close()"
   ]
  },
  {
   "cell_type": "code",
   "execution_count": 121,
   "metadata": {},
   "outputs": [
    {
     "ename": "TypeError",
     "evalue": "digi_evolve() missing 1 required positional argument: 'ranked_probabilities'",
     "output_type": "error",
     "traceback": [
      "\u001b[0;31m---------------------------------------------------------------------------\u001b[0m",
      "\u001b[0;31mTypeError\u001b[0m                                 Traceback (most recent call last)",
      "\u001b[0;32m/var/folders/xn/6c40rndj1g30kwpf95_kxx0r0000gn/T/ipykernel_39898/618309666.py\u001b[0m in \u001b[0;36m<module>\u001b[0;34m\u001b[0m\n\u001b[1;32m      6\u001b[0m \u001b[0mresults\u001b[0m\u001b[0;34m=\u001b[0m\u001b[0;34m[\u001b[0m\u001b[0;34m]\u001b[0m\u001b[0;34m\u001b[0m\u001b[0;34m\u001b[0m\u001b[0m\n\u001b[1;32m      7\u001b[0m \u001b[0;32mfor\u001b[0m \u001b[0mk\u001b[0m \u001b[0;32min\u001b[0m \u001b[0mbits\u001b[0m\u001b[0;34m:\u001b[0m\u001b[0;34m\u001b[0m\u001b[0;34m\u001b[0m\u001b[0m\n\u001b[0;32m----> 8\u001b[0;31m     \u001b[0mbest_of_each_gen\u001b[0m \u001b[0;34m=\u001b[0m \u001b[0mdigi_evolve\u001b[0m\u001b[0;34m(\u001b[0m\u001b[0mpop_size\u001b[0m\u001b[0;34m,\u001b[0m \u001b[0mmax_generations\u001b[0m\u001b[0;34m,\u001b[0m \u001b[0mmax_radius\u001b[0m\u001b[0;34m,\u001b[0m \u001b[0mk\u001b[0m\u001b[0;34m,\u001b[0m \u001b[0;34m[\u001b[0m\u001b[0mwheel_selection\u001b[0m\u001b[0;34m,\u001b[0m \u001b[0;34m'Wheel Selection'\u001b[0m\u001b[0;34m]\u001b[0m\u001b[0;34m)\u001b[0m\u001b[0;34m\u001b[0m\u001b[0;34m\u001b[0m\u001b[0m\n\u001b[0m\u001b[1;32m      9\u001b[0m     \u001b[0mresults\u001b[0m\u001b[0;34m.\u001b[0m\u001b[0mappend\u001b[0m\u001b[0;34m(\u001b[0m\u001b[0mmax\u001b[0m\u001b[0;34m(\u001b[0m\u001b[0mbest_of_each_gen\u001b[0m\u001b[0;34m[\u001b[0m\u001b[0;36m0\u001b[0m\u001b[0;34m]\u001b[0m\u001b[0;34m)\u001b[0m\u001b[0;34m)\u001b[0m\u001b[0;34m\u001b[0m\u001b[0;34m\u001b[0m\u001b[0m\n\u001b[1;32m     10\u001b[0m \u001b[0mprint\u001b[0m\u001b[0;34m(\u001b[0m\u001b[0mresults\u001b[0m\u001b[0;34m)\u001b[0m\u001b[0;34m\u001b[0m\u001b[0;34m\u001b[0m\u001b[0m\n",
      "\u001b[0;31mTypeError\u001b[0m: digi_evolve() missing 1 required positional argument: 'ranked_probabilities'"
     ]
    }
   ],
   "source": [
    "#Testing with different n\n",
    "bits=range(7,15,1)\n",
    "pop_size=10\n",
    "max_generation=10\n",
    "max_radius=30\n",
    "results=[]\n",
    "for k in bits:\n",
    "    best_of_each_gen = digi_evolve(pop_size, max_generations, max_radius, k, [wheel_selection, 'Wheel Selection'])\n",
    "    results.append(max(best_of_each_gen[0]))\n",
    "print(results)"
   ]
  }
 ],
 "metadata": {
  "kernelspec": {
   "display_name": "ml",
   "language": "python",
   "name": "python3"
  },
  "language_info": {
   "codemirror_mode": {
    "name": "ipython",
    "version": 3
   },
   "file_extension": ".py",
   "mimetype": "text/x-python",
   "name": "python",
   "nbconvert_exporter": "python",
   "pygments_lexer": "ipython3",
   "version": "3.9.2"
  }
 },
 "nbformat": 4,
 "nbformat_minor": 2
}
