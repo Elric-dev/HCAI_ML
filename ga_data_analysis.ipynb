{
 "cells": [
  {
   "cell_type": "code",
   "execution_count": null,
   "metadata": {},
   "outputs": [],
   "source": [
    "#Retrieve pickle object\n",
    "fileObj = open('data_algos.pkl', 'rb')\n",
    "all_generations = pickle.load(fileObj)\n",
    "fileObj.close()\n",
    "print(len(all_generations))"
   ]
  }
 ],
 "metadata": {
  "language_info": {
   "name": "python"
  }
 },
 "nbformat": 4,
 "nbformat_minor": 2
}
